{
  "nbformat": 4,
  "nbformat_minor": 0,
  "metadata": {
    "colab": {
      "name": " Sem Eval 2016 hotel data conjunction based aspect based sentiment analysis using CRF",
      "provenance": [],
      "collapsed_sections": []
    },
    "kernelspec": {
      "display_name": "Python 3",
      "name": "python3"
    },
    "language_info": {
      "name": "python"
    }
  },
  "cells": [
    {
      "cell_type": "code",
      "metadata": {
        "colab": {
          "base_uri": "https://localhost:8080/"
        },
        "id": "QLpuSLqfyTZw",
        "outputId": "b35f9a0c-16e9-42ec-e7ca-47b5d979f1a3"
      },
      "source": [
        "import pandas as pd\n",
        "import numpy as np\n",
        "import re\n",
        "from datetime import date, time, datetime\n",
        "!pip install texthero\n",
        "import nltk\n",
        "nltk.download('all')"
      ],
      "execution_count": null,
      "outputs": [
        {
          "output_type": "stream",
          "name": "stdout",
          "text": [
            "Collecting texthero\n",
            "  Downloading texthero-1.1.0-py3-none-any.whl (24 kB)\n",
            "Collecting unidecode>=1.1.1\n",
            "  Downloading Unidecode-1.2.0-py2.py3-none-any.whl (241 kB)\n",
            "\u001b[K     |████████████████████████████████| 241 kB 9.5 MB/s \n",
            "\u001b[?25hCollecting nltk>=3.3\n",
            "  Downloading nltk-3.6.2-py3-none-any.whl (1.5 MB)\n",
            "\u001b[K     |████████████████████████████████| 1.5 MB 41.8 MB/s \n",
            "\u001b[?25hRequirement already satisfied: matplotlib>=3.1.0 in /usr/local/lib/python3.7/dist-packages (from texthero) (3.2.2)\n",
            "Requirement already satisfied: scikit-learn>=0.22 in /usr/local/lib/python3.7/dist-packages (from texthero) (0.22.2.post1)\n",
            "Requirement already satisfied: spacy<3.0.0 in /usr/local/lib/python3.7/dist-packages (from texthero) (2.2.4)\n",
            "Requirement already satisfied: gensim<4.0,>=3.6.0 in /usr/local/lib/python3.7/dist-packages (from texthero) (3.6.0)\n",
            "Requirement already satisfied: numpy>=1.17 in /usr/local/lib/python3.7/dist-packages (from texthero) (1.19.5)\n",
            "Requirement already satisfied: pandas>=1.0.2 in /usr/local/lib/python3.7/dist-packages (from texthero) (1.1.5)\n",
            "Requirement already satisfied: wordcloud>=1.5.0 in /usr/local/lib/python3.7/dist-packages (from texthero) (1.5.0)\n",
            "Requirement already satisfied: tqdm>=4.3 in /usr/local/lib/python3.7/dist-packages (from texthero) (4.62.0)\n",
            "Requirement already satisfied: plotly>=4.2.0 in /usr/local/lib/python3.7/dist-packages (from texthero) (4.4.1)\n",
            "Requirement already satisfied: smart-open>=1.2.1 in /usr/local/lib/python3.7/dist-packages (from gensim<4.0,>=3.6.0->texthero) (5.1.0)\n",
            "Requirement already satisfied: scipy>=0.18.1 in /usr/local/lib/python3.7/dist-packages (from gensim<4.0,>=3.6.0->texthero) (1.4.1)\n",
            "Requirement already satisfied: six>=1.5.0 in /usr/local/lib/python3.7/dist-packages (from gensim<4.0,>=3.6.0->texthero) (1.15.0)\n",
            "Requirement already satisfied: kiwisolver>=1.0.1 in /usr/local/lib/python3.7/dist-packages (from matplotlib>=3.1.0->texthero) (1.3.1)\n",
            "Requirement already satisfied: python-dateutil>=2.1 in /usr/local/lib/python3.7/dist-packages (from matplotlib>=3.1.0->texthero) (2.8.2)\n",
            "Requirement already satisfied: pyparsing!=2.0.4,!=2.1.2,!=2.1.6,>=2.0.1 in /usr/local/lib/python3.7/dist-packages (from matplotlib>=3.1.0->texthero) (2.4.7)\n",
            "Requirement already satisfied: cycler>=0.10 in /usr/local/lib/python3.7/dist-packages (from matplotlib>=3.1.0->texthero) (0.10.0)\n",
            "Requirement already satisfied: click in /usr/local/lib/python3.7/dist-packages (from nltk>=3.3->texthero) (7.1.2)\n",
            "Requirement already satisfied: joblib in /usr/local/lib/python3.7/dist-packages (from nltk>=3.3->texthero) (1.0.1)\n",
            "Requirement already satisfied: regex in /usr/local/lib/python3.7/dist-packages (from nltk>=3.3->texthero) (2019.12.20)\n",
            "Requirement already satisfied: pytz>=2017.2 in /usr/local/lib/python3.7/dist-packages (from pandas>=1.0.2->texthero) (2018.9)\n",
            "Requirement already satisfied: retrying>=1.3.3 in /usr/local/lib/python3.7/dist-packages (from plotly>=4.2.0->texthero) (1.3.3)\n",
            "Requirement already satisfied: plac<1.2.0,>=0.9.6 in /usr/local/lib/python3.7/dist-packages (from spacy<3.0.0->texthero) (1.1.3)\n",
            "Requirement already satisfied: wasabi<1.1.0,>=0.4.0 in /usr/local/lib/python3.7/dist-packages (from spacy<3.0.0->texthero) (0.8.2)\n",
            "Requirement already satisfied: cymem<2.1.0,>=2.0.2 in /usr/local/lib/python3.7/dist-packages (from spacy<3.0.0->texthero) (2.0.5)\n",
            "Requirement already satisfied: murmurhash<1.1.0,>=0.28.0 in /usr/local/lib/python3.7/dist-packages (from spacy<3.0.0->texthero) (1.0.5)\n",
            "Requirement already satisfied: requests<3.0.0,>=2.13.0 in /usr/local/lib/python3.7/dist-packages (from spacy<3.0.0->texthero) (2.23.0)\n",
            "Requirement already satisfied: preshed<3.1.0,>=3.0.2 in /usr/local/lib/python3.7/dist-packages (from spacy<3.0.0->texthero) (3.0.5)\n",
            "Requirement already satisfied: setuptools in /usr/local/lib/python3.7/dist-packages (from spacy<3.0.0->texthero) (57.4.0)\n",
            "Requirement already satisfied: blis<0.5.0,>=0.4.0 in /usr/local/lib/python3.7/dist-packages (from spacy<3.0.0->texthero) (0.4.1)\n",
            "Requirement already satisfied: thinc==7.4.0 in /usr/local/lib/python3.7/dist-packages (from spacy<3.0.0->texthero) (7.4.0)\n",
            "Requirement already satisfied: catalogue<1.1.0,>=0.0.7 in /usr/local/lib/python3.7/dist-packages (from spacy<3.0.0->texthero) (1.0.0)\n",
            "Requirement already satisfied: srsly<1.1.0,>=1.0.2 in /usr/local/lib/python3.7/dist-packages (from spacy<3.0.0->texthero) (1.0.5)\n",
            "Requirement already satisfied: importlib-metadata>=0.20 in /usr/local/lib/python3.7/dist-packages (from catalogue<1.1.0,>=0.0.7->spacy<3.0.0->texthero) (4.6.4)\n",
            "Requirement already satisfied: typing-extensions>=3.6.4 in /usr/local/lib/python3.7/dist-packages (from importlib-metadata>=0.20->catalogue<1.1.0,>=0.0.7->spacy<3.0.0->texthero) (3.7.4.3)\n",
            "Requirement already satisfied: zipp>=0.5 in /usr/local/lib/python3.7/dist-packages (from importlib-metadata>=0.20->catalogue<1.1.0,>=0.0.7->spacy<3.0.0->texthero) (3.5.0)\n",
            "Requirement already satisfied: chardet<4,>=3.0.2 in /usr/local/lib/python3.7/dist-packages (from requests<3.0.0,>=2.13.0->spacy<3.0.0->texthero) (3.0.4)\n",
            "Requirement already satisfied: urllib3!=1.25.0,!=1.25.1,<1.26,>=1.21.1 in /usr/local/lib/python3.7/dist-packages (from requests<3.0.0,>=2.13.0->spacy<3.0.0->texthero) (1.24.3)\n",
            "Requirement already satisfied: certifi>=2017.4.17 in /usr/local/lib/python3.7/dist-packages (from requests<3.0.0,>=2.13.0->spacy<3.0.0->texthero) (2021.5.30)\n",
            "Requirement already satisfied: idna<3,>=2.5 in /usr/local/lib/python3.7/dist-packages (from requests<3.0.0,>=2.13.0->spacy<3.0.0->texthero) (2.10)\n",
            "Requirement already satisfied: pillow in /usr/local/lib/python3.7/dist-packages (from wordcloud>=1.5.0->texthero) (7.1.2)\n",
            "Installing collected packages: unidecode, nltk, texthero\n",
            "  Attempting uninstall: nltk\n",
            "    Found existing installation: nltk 3.2.5\n",
            "    Uninstalling nltk-3.2.5:\n",
            "      Successfully uninstalled nltk-3.2.5\n",
            "Successfully installed nltk-3.6.2 texthero-1.1.0 unidecode-1.2.0\n"
          ]
        },
        {
          "output_type": "stream",
          "name": "stderr",
          "text": [
            "[nltk_data] Downloading collection 'all'\n",
            "[nltk_data]    | \n",
            "[nltk_data]    | Downloading package abc to /root/nltk_data...\n",
            "[nltk_data]    |   Unzipping corpora/abc.zip.\n",
            "[nltk_data]    | Downloading package alpino to /root/nltk_data...\n",
            "[nltk_data]    |   Unzipping corpora/alpino.zip.\n",
            "[nltk_data]    | Downloading package biocreative_ppi to\n",
            "[nltk_data]    |     /root/nltk_data...\n",
            "[nltk_data]    |   Unzipping corpora/biocreative_ppi.zip.\n",
            "[nltk_data]    | Downloading package brown to /root/nltk_data...\n",
            "[nltk_data]    |   Unzipping corpora/brown.zip.\n",
            "[nltk_data]    | Downloading package brown_tei to /root/nltk_data...\n",
            "[nltk_data]    |   Unzipping corpora/brown_tei.zip.\n",
            "[nltk_data]    | Downloading package cess_cat to /root/nltk_data...\n",
            "[nltk_data]    |   Unzipping corpora/cess_cat.zip.\n",
            "[nltk_data]    | Downloading package cess_esp to /root/nltk_data...\n",
            "[nltk_data]    |   Unzipping corpora/cess_esp.zip.\n",
            "[nltk_data]    | Downloading package chat80 to /root/nltk_data...\n",
            "[nltk_data]    |   Unzipping corpora/chat80.zip.\n",
            "[nltk_data]    | Downloading package city_database to\n",
            "[nltk_data]    |     /root/nltk_data...\n",
            "[nltk_data]    |   Unzipping corpora/city_database.zip.\n",
            "[nltk_data]    | Downloading package cmudict to /root/nltk_data...\n",
            "[nltk_data]    |   Unzipping corpora/cmudict.zip.\n",
            "[nltk_data]    | Downloading package comparative_sentences to\n",
            "[nltk_data]    |     /root/nltk_data...\n",
            "[nltk_data]    |   Unzipping corpora/comparative_sentences.zip.\n",
            "[nltk_data]    | Downloading package comtrans to /root/nltk_data...\n",
            "[nltk_data]    | Downloading package conll2000 to /root/nltk_data...\n",
            "[nltk_data]    |   Unzipping corpora/conll2000.zip.\n",
            "[nltk_data]    | Downloading package conll2002 to /root/nltk_data...\n",
            "[nltk_data]    |   Unzipping corpora/conll2002.zip.\n",
            "[nltk_data]    | Downloading package conll2007 to /root/nltk_data...\n",
            "[nltk_data]    | Downloading package crubadan to /root/nltk_data...\n",
            "[nltk_data]    |   Unzipping corpora/crubadan.zip.\n",
            "[nltk_data]    | Downloading package dependency_treebank to\n",
            "[nltk_data]    |     /root/nltk_data...\n",
            "[nltk_data]    |   Unzipping corpora/dependency_treebank.zip.\n",
            "[nltk_data]    | Downloading package dolch to /root/nltk_data...\n",
            "[nltk_data]    |   Unzipping corpora/dolch.zip.\n",
            "[nltk_data]    | Downloading package europarl_raw to\n",
            "[nltk_data]    |     /root/nltk_data...\n",
            "[nltk_data]    |   Unzipping corpora/europarl_raw.zip.\n",
            "[nltk_data]    | Downloading package floresta to /root/nltk_data...\n",
            "[nltk_data]    |   Unzipping corpora/floresta.zip.\n",
            "[nltk_data]    | Downloading package framenet_v15 to\n",
            "[nltk_data]    |     /root/nltk_data...\n",
            "[nltk_data]    |   Unzipping corpora/framenet_v15.zip.\n",
            "[nltk_data]    | Downloading package framenet_v17 to\n",
            "[nltk_data]    |     /root/nltk_data...\n",
            "[nltk_data]    |   Unzipping corpora/framenet_v17.zip.\n",
            "[nltk_data]    | Downloading package gazetteers to /root/nltk_data...\n",
            "[nltk_data]    |   Unzipping corpora/gazetteers.zip.\n",
            "[nltk_data]    | Downloading package genesis to /root/nltk_data...\n",
            "[nltk_data]    |   Unzipping corpora/genesis.zip.\n",
            "[nltk_data]    | Downloading package gutenberg to /root/nltk_data...\n",
            "[nltk_data]    |   Unzipping corpora/gutenberg.zip.\n",
            "[nltk_data]    | Downloading package ieer to /root/nltk_data...\n",
            "[nltk_data]    |   Unzipping corpora/ieer.zip.\n",
            "[nltk_data]    | Downloading package inaugural to /root/nltk_data...\n",
            "[nltk_data]    |   Unzipping corpora/inaugural.zip.\n",
            "[nltk_data]    | Downloading package indian to /root/nltk_data...\n",
            "[nltk_data]    |   Unzipping corpora/indian.zip.\n",
            "[nltk_data]    | Downloading package jeita to /root/nltk_data...\n",
            "[nltk_data]    | Downloading package kimmo to /root/nltk_data...\n",
            "[nltk_data]    |   Unzipping corpora/kimmo.zip.\n",
            "[nltk_data]    | Downloading package knbc to /root/nltk_data...\n",
            "[nltk_data]    | Downloading package lin_thesaurus to\n",
            "[nltk_data]    |     /root/nltk_data...\n",
            "[nltk_data]    |   Unzipping corpora/lin_thesaurus.zip.\n",
            "[nltk_data]    | Downloading package mac_morpho to /root/nltk_data...\n",
            "[nltk_data]    |   Unzipping corpora/mac_morpho.zip.\n",
            "[nltk_data]    | Downloading package machado to /root/nltk_data...\n",
            "[nltk_data]    | Downloading package masc_tagged to /root/nltk_data...\n",
            "[nltk_data]    | Downloading package moses_sample to\n",
            "[nltk_data]    |     /root/nltk_data...\n",
            "[nltk_data]    |   Unzipping models/moses_sample.zip.\n",
            "[nltk_data]    | Downloading package movie_reviews to\n",
            "[nltk_data]    |     /root/nltk_data...\n",
            "[nltk_data]    |   Unzipping corpora/movie_reviews.zip.\n",
            "[nltk_data]    | Downloading package names to /root/nltk_data...\n",
            "[nltk_data]    |   Unzipping corpora/names.zip.\n",
            "[nltk_data]    | Downloading package nombank.1.0 to /root/nltk_data...\n",
            "[nltk_data]    | Downloading package nps_chat to /root/nltk_data...\n",
            "[nltk_data]    |   Unzipping corpora/nps_chat.zip.\n",
            "[nltk_data]    | Downloading package omw to /root/nltk_data...\n",
            "[nltk_data]    |   Unzipping corpora/omw.zip.\n",
            "[nltk_data]    | Downloading package opinion_lexicon to\n",
            "[nltk_data]    |     /root/nltk_data...\n",
            "[nltk_data]    |   Unzipping corpora/opinion_lexicon.zip.\n",
            "[nltk_data]    | Downloading package paradigms to /root/nltk_data...\n",
            "[nltk_data]    |   Unzipping corpora/paradigms.zip.\n",
            "[nltk_data]    | Downloading package pil to /root/nltk_data...\n",
            "[nltk_data]    |   Unzipping corpora/pil.zip.\n",
            "[nltk_data]    | Downloading package pl196x to /root/nltk_data...\n",
            "[nltk_data]    |   Unzipping corpora/pl196x.zip.\n",
            "[nltk_data]    | Downloading package ppattach to /root/nltk_data...\n",
            "[nltk_data]    |   Unzipping corpora/ppattach.zip.\n",
            "[nltk_data]    | Downloading package problem_reports to\n",
            "[nltk_data]    |     /root/nltk_data...\n",
            "[nltk_data]    |   Unzipping corpora/problem_reports.zip.\n",
            "[nltk_data]    | Downloading package propbank to /root/nltk_data...\n",
            "[nltk_data]    | Downloading package ptb to /root/nltk_data...\n",
            "[nltk_data]    |   Unzipping corpora/ptb.zip.\n",
            "[nltk_data]    | Downloading package product_reviews_1 to\n",
            "[nltk_data]    |     /root/nltk_data...\n",
            "[nltk_data]    |   Unzipping corpora/product_reviews_1.zip.\n",
            "[nltk_data]    | Downloading package product_reviews_2 to\n",
            "[nltk_data]    |     /root/nltk_data...\n",
            "[nltk_data]    |   Unzipping corpora/product_reviews_2.zip.\n",
            "[nltk_data]    | Downloading package pros_cons to /root/nltk_data...\n",
            "[nltk_data]    |   Unzipping corpora/pros_cons.zip.\n",
            "[nltk_data]    | Downloading package qc to /root/nltk_data...\n",
            "[nltk_data]    |   Unzipping corpora/qc.zip.\n",
            "[nltk_data]    | Downloading package reuters to /root/nltk_data...\n",
            "[nltk_data]    | Downloading package rte to /root/nltk_data...\n",
            "[nltk_data]    |   Unzipping corpora/rte.zip.\n",
            "[nltk_data]    | Downloading package semcor to /root/nltk_data...\n",
            "[nltk_data]    | Downloading package senseval to /root/nltk_data...\n",
            "[nltk_data]    |   Unzipping corpora/senseval.zip.\n",
            "[nltk_data]    | Downloading package sentiwordnet to\n",
            "[nltk_data]    |     /root/nltk_data...\n",
            "[nltk_data]    |   Unzipping corpora/sentiwordnet.zip.\n",
            "[nltk_data]    | Downloading package sentence_polarity to\n",
            "[nltk_data]    |     /root/nltk_data...\n",
            "[nltk_data]    |   Unzipping corpora/sentence_polarity.zip.\n",
            "[nltk_data]    | Downloading package shakespeare to /root/nltk_data...\n",
            "[nltk_data]    |   Unzipping corpora/shakespeare.zip.\n",
            "[nltk_data]    | Downloading package sinica_treebank to\n",
            "[nltk_data]    |     /root/nltk_data...\n",
            "[nltk_data]    |   Unzipping corpora/sinica_treebank.zip.\n",
            "[nltk_data]    | Downloading package smultron to /root/nltk_data...\n",
            "[nltk_data]    |   Unzipping corpora/smultron.zip.\n",
            "[nltk_data]    | Downloading package state_union to /root/nltk_data...\n",
            "[nltk_data]    |   Unzipping corpora/state_union.zip.\n",
            "[nltk_data]    | Downloading package stopwords to /root/nltk_data...\n",
            "[nltk_data]    |   Unzipping corpora/stopwords.zip.\n",
            "[nltk_data]    | Downloading package subjectivity to\n",
            "[nltk_data]    |     /root/nltk_data...\n",
            "[nltk_data]    |   Unzipping corpora/subjectivity.zip.\n",
            "[nltk_data]    | Downloading package swadesh to /root/nltk_data...\n",
            "[nltk_data]    |   Unzipping corpora/swadesh.zip.\n",
            "[nltk_data]    | Downloading package switchboard to /root/nltk_data...\n",
            "[nltk_data]    |   Unzipping corpora/switchboard.zip.\n",
            "[nltk_data]    | Downloading package timit to /root/nltk_data...\n",
            "[nltk_data]    |   Unzipping corpora/timit.zip.\n",
            "[nltk_data]    | Downloading package toolbox to /root/nltk_data...\n",
            "[nltk_data]    |   Unzipping corpora/toolbox.zip.\n",
            "[nltk_data]    | Downloading package treebank to /root/nltk_data...\n",
            "[nltk_data]    |   Unzipping corpora/treebank.zip.\n",
            "[nltk_data]    | Downloading package twitter_samples to\n",
            "[nltk_data]    |     /root/nltk_data...\n",
            "[nltk_data]    |   Unzipping corpora/twitter_samples.zip.\n",
            "[nltk_data]    | Downloading package udhr to /root/nltk_data...\n",
            "[nltk_data]    |   Unzipping corpora/udhr.zip.\n",
            "[nltk_data]    | Downloading package udhr2 to /root/nltk_data...\n",
            "[nltk_data]    |   Unzipping corpora/udhr2.zip.\n",
            "[nltk_data]    | Downloading package unicode_samples to\n",
            "[nltk_data]    |     /root/nltk_data...\n",
            "[nltk_data]    |   Unzipping corpora/unicode_samples.zip.\n",
            "[nltk_data]    | Downloading package universal_treebanks_v20 to\n",
            "[nltk_data]    |     /root/nltk_data...\n",
            "[nltk_data]    | Downloading package verbnet to /root/nltk_data...\n",
            "[nltk_data]    |   Unzipping corpora/verbnet.zip.\n",
            "[nltk_data]    | Downloading package verbnet3 to /root/nltk_data...\n",
            "[nltk_data]    |   Unzipping corpora/verbnet3.zip.\n",
            "[nltk_data]    | Downloading package webtext to /root/nltk_data...\n",
            "[nltk_data]    |   Unzipping corpora/webtext.zip.\n",
            "[nltk_data]    | Downloading package wordnet to /root/nltk_data...\n",
            "[nltk_data]    |   Unzipping corpora/wordnet.zip.\n",
            "[nltk_data]    | Downloading package wordnet_ic to /root/nltk_data...\n",
            "[nltk_data]    |   Unzipping corpora/wordnet_ic.zip.\n",
            "[nltk_data]    | Downloading package words to /root/nltk_data...\n",
            "[nltk_data]    |   Unzipping corpora/words.zip.\n",
            "[nltk_data]    | Downloading package ycoe to /root/nltk_data...\n",
            "[nltk_data]    |   Unzipping corpora/ycoe.zip.\n",
            "[nltk_data]    | Downloading package rslp to /root/nltk_data...\n",
            "[nltk_data]    |   Unzipping stemmers/rslp.zip.\n",
            "[nltk_data]    | Downloading package maxent_treebank_pos_tagger to\n",
            "[nltk_data]    |     /root/nltk_data...\n",
            "[nltk_data]    |   Unzipping taggers/maxent_treebank_pos_tagger.zip.\n",
            "[nltk_data]    | Downloading package universal_tagset to\n",
            "[nltk_data]    |     /root/nltk_data...\n",
            "[nltk_data]    |   Unzipping taggers/universal_tagset.zip.\n",
            "[nltk_data]    | Downloading package maxent_ne_chunker to\n",
            "[nltk_data]    |     /root/nltk_data...\n",
            "[nltk_data]    |   Unzipping chunkers/maxent_ne_chunker.zip.\n",
            "[nltk_data]    | Downloading package punkt to /root/nltk_data...\n",
            "[nltk_data]    |   Unzipping tokenizers/punkt.zip.\n",
            "[nltk_data]    | Downloading package book_grammars to\n",
            "[nltk_data]    |     /root/nltk_data...\n",
            "[nltk_data]    |   Unzipping grammars/book_grammars.zip.\n",
            "[nltk_data]    | Downloading package sample_grammars to\n",
            "[nltk_data]    |     /root/nltk_data...\n",
            "[nltk_data]    |   Unzipping grammars/sample_grammars.zip.\n",
            "[nltk_data]    | Downloading package spanish_grammars to\n",
            "[nltk_data]    |     /root/nltk_data...\n",
            "[nltk_data]    |   Unzipping grammars/spanish_grammars.zip.\n",
            "[nltk_data]    | Downloading package basque_grammars to\n",
            "[nltk_data]    |     /root/nltk_data...\n",
            "[nltk_data]    |   Unzipping grammars/basque_grammars.zip.\n",
            "[nltk_data]    | Downloading package large_grammars to\n",
            "[nltk_data]    |     /root/nltk_data...\n",
            "[nltk_data]    |   Unzipping grammars/large_grammars.zip.\n",
            "[nltk_data]    | Downloading package tagsets to /root/nltk_data...\n",
            "[nltk_data]    |   Unzipping help/tagsets.zip.\n",
            "[nltk_data]    | Downloading package snowball_data to\n",
            "[nltk_data]    |     /root/nltk_data...\n",
            "[nltk_data]    | Downloading package bllip_wsj_no_aux to\n",
            "[nltk_data]    |     /root/nltk_data...\n",
            "[nltk_data]    |   Unzipping models/bllip_wsj_no_aux.zip.\n",
            "[nltk_data]    | Downloading package word2vec_sample to\n",
            "[nltk_data]    |     /root/nltk_data...\n",
            "[nltk_data]    |   Unzipping models/word2vec_sample.zip.\n",
            "[nltk_data]    | Downloading package panlex_swadesh to\n",
            "[nltk_data]    |     /root/nltk_data...\n",
            "[nltk_data]    | Downloading package mte_teip5 to /root/nltk_data...\n",
            "[nltk_data]    |   Unzipping corpora/mte_teip5.zip.\n",
            "[nltk_data]    | Downloading package averaged_perceptron_tagger to\n",
            "[nltk_data]    |     /root/nltk_data...\n",
            "[nltk_data]    |   Unzipping taggers/averaged_perceptron_tagger.zip.\n",
            "[nltk_data]    | Downloading package averaged_perceptron_tagger_ru to\n",
            "[nltk_data]    |     /root/nltk_data...\n",
            "[nltk_data]    |   Unzipping\n",
            "[nltk_data]    |       taggers/averaged_perceptron_tagger_ru.zip.\n",
            "[nltk_data]    | Downloading package perluniprops to\n",
            "[nltk_data]    |     /root/nltk_data...\n",
            "[nltk_data]    |   Unzipping misc/perluniprops.zip.\n",
            "[nltk_data]    | Downloading package nonbreaking_prefixes to\n",
            "[nltk_data]    |     /root/nltk_data...\n",
            "[nltk_data]    |   Unzipping corpora/nonbreaking_prefixes.zip.\n",
            "[nltk_data]    | Downloading package vader_lexicon to\n",
            "[nltk_data]    |     /root/nltk_data...\n",
            "[nltk_data]    | Downloading package porter_test to /root/nltk_data...\n",
            "[nltk_data]    |   Unzipping stemmers/porter_test.zip.\n",
            "[nltk_data]    | Downloading package wmt15_eval to /root/nltk_data...\n",
            "[nltk_data]    |   Unzipping models/wmt15_eval.zip.\n",
            "[nltk_data]    | Downloading package mwa_ppdb to /root/nltk_data...\n",
            "[nltk_data]    |   Unzipping misc/mwa_ppdb.zip.\n",
            "[nltk_data]    | \n",
            "[nltk_data]  Done downloading collection all\n"
          ]
        },
        {
          "output_type": "execute_result",
          "data": {
            "text/plain": [
              "True"
            ]
          },
          "metadata": {},
          "execution_count": 4
        }
      ]
    },
    {
      "cell_type": "markdown",
      "metadata": {
        "id": "Gj81lUS5h1Nn"
      },
      "source": [
        "## Sem Eval Data in CSV format"
      ]
    },
    {
      "cell_type": "markdown",
      "metadata": {
        "id": "P0LqBXSn6NbV"
      },
      "source": [
        ""
      ]
    },
    {
      "cell_type": "code",
      "metadata": {
        "id": "m9tno1TGyZGv",
        "colab": {
          "base_uri": "https://localhost:8080/",
          "height": 307
        },
        "outputId": "b0339fbc-5849-48dd-ccab-0d4b58316d9e"
      },
      "source": [
        "df = pd.read_csv('/content/ABSA16_Restaurants_Train_English_SB2.csv')\n",
        "df=df.fillna(method='ffill')     #NAN convert to upper id here\n",
        "df.head()\n"
      ],
      "execution_count": null,
      "outputs": [
        {
          "output_type": "execute_result",
          "data": {
            "text/html": [
              "<div>\n",
              "<style scoped>\n",
              "    .dataframe tbody tr th:only-of-type {\n",
              "        vertical-align: middle;\n",
              "    }\n",
              "\n",
              "    .dataframe tbody tr th {\n",
              "        vertical-align: top;\n",
              "    }\n",
              "\n",
              "    .dataframe thead th {\n",
              "        text-align: right;\n",
              "    }\n",
              "</style>\n",
              "<table border=\"1\" class=\"dataframe\">\n",
              "  <thead>\n",
              "    <tr style=\"text-align: right;\">\n",
              "      <th></th>\n",
              "      <th>rid</th>\n",
              "      <th>sentences__sentence__id</th>\n",
              "      <th>sentences__sentence__text</th>\n",
              "      <th>Opinions__Opinion__category</th>\n",
              "      <th>Opinions__Opinion__polarity</th>\n",
              "    </tr>\n",
              "  </thead>\n",
              "  <tbody>\n",
              "    <tr>\n",
              "      <th>0</th>\n",
              "      <td>1004293</td>\n",
              "      <td>1004293:0</td>\n",
              "      <td>Judging from previous posts this used to be a ...</td>\n",
              "      <td>RESTAURANT#GENERAL</td>\n",
              "      <td>negative</td>\n",
              "    </tr>\n",
              "    <tr>\n",
              "      <th>1</th>\n",
              "      <td>1004293</td>\n",
              "      <td>1004293:1</td>\n",
              "      <td>We, there were four of us, arrived at noon - t...</td>\n",
              "      <td>SERVICE#GENERAL</td>\n",
              "      <td>negative</td>\n",
              "    </tr>\n",
              "    <tr>\n",
              "      <th>2</th>\n",
              "      <td>1004293</td>\n",
              "      <td>1004293:2</td>\n",
              "      <td>They never brought us complimentary noodles, i...</td>\n",
              "      <td>FOOD#QUALITY</td>\n",
              "      <td>negative</td>\n",
              "    </tr>\n",
              "    <tr>\n",
              "      <th>3</th>\n",
              "      <td>1004293</td>\n",
              "      <td>1004293:3</td>\n",
              "      <td>The food was lousy - too sweet or too salty an...</td>\n",
              "      <td>FOOD#STYLE_OPTIONS</td>\n",
              "      <td>negative</td>\n",
              "    </tr>\n",
              "    <tr>\n",
              "      <th>4</th>\n",
              "      <td>1004293</td>\n",
              "      <td>1004293:4</td>\n",
              "      <td>After all that, they complained to me about th...</td>\n",
              "      <td>FOOD#STYLE_OPTIONS</td>\n",
              "      <td>negative</td>\n",
              "    </tr>\n",
              "  </tbody>\n",
              "</table>\n",
              "</div>"
            ],
            "text/plain": [
              "       rid  ... Opinions__Opinion__polarity\n",
              "0  1004293  ...                    negative\n",
              "1  1004293  ...                    negative\n",
              "2  1004293  ...                    negative\n",
              "3  1004293  ...                    negative\n",
              "4  1004293  ...                    negative\n",
              "\n",
              "[5 rows x 5 columns]"
            ]
          },
          "metadata": {},
          "execution_count": 5
        }
      ]
    },
    {
      "cell_type": "code",
      "metadata": {
        "id": "OLLYXUxvYogc",
        "colab": {
          "base_uri": "https://localhost:8080/",
          "height": 571
        },
        "outputId": "9095c22d-d86e-4032-e09a-0f423b2192b0"
      },
      "source": [
        "df1=df.copy()\n",
        "df1.groupby(['rid'])\n",
        "df1"
      ],
      "execution_count": null,
      "outputs": [
        {
          "output_type": "execute_result",
          "data": {
            "text/html": [
              "<div>\n",
              "<style scoped>\n",
              "    .dataframe tbody tr th:only-of-type {\n",
              "        vertical-align: middle;\n",
              "    }\n",
              "\n",
              "    .dataframe tbody tr th {\n",
              "        vertical-align: top;\n",
              "    }\n",
              "\n",
              "    .dataframe thead th {\n",
              "        text-align: right;\n",
              "    }\n",
              "</style>\n",
              "<table border=\"1\" class=\"dataframe\">\n",
              "  <thead>\n",
              "    <tr style=\"text-align: right;\">\n",
              "      <th></th>\n",
              "      <th>rid</th>\n",
              "      <th>sentences__sentence__id</th>\n",
              "      <th>sentences__sentence__text</th>\n",
              "      <th>Opinions__Opinion__category</th>\n",
              "      <th>Opinions__Opinion__polarity</th>\n",
              "    </tr>\n",
              "  </thead>\n",
              "  <tbody>\n",
              "    <tr>\n",
              "      <th>0</th>\n",
              "      <td>1004293</td>\n",
              "      <td>1004293:0</td>\n",
              "      <td>Judging from previous posts this used to be a ...</td>\n",
              "      <td>RESTAURANT#GENERAL</td>\n",
              "      <td>negative</td>\n",
              "    </tr>\n",
              "    <tr>\n",
              "      <th>1</th>\n",
              "      <td>1004293</td>\n",
              "      <td>1004293:1</td>\n",
              "      <td>We, there were four of us, arrived at noon - t...</td>\n",
              "      <td>SERVICE#GENERAL</td>\n",
              "      <td>negative</td>\n",
              "    </tr>\n",
              "    <tr>\n",
              "      <th>2</th>\n",
              "      <td>1004293</td>\n",
              "      <td>1004293:2</td>\n",
              "      <td>They never brought us complimentary noodles, i...</td>\n",
              "      <td>FOOD#QUALITY</td>\n",
              "      <td>negative</td>\n",
              "    </tr>\n",
              "    <tr>\n",
              "      <th>3</th>\n",
              "      <td>1004293</td>\n",
              "      <td>1004293:3</td>\n",
              "      <td>The food was lousy - too sweet or too salty an...</td>\n",
              "      <td>FOOD#STYLE_OPTIONS</td>\n",
              "      <td>negative</td>\n",
              "    </tr>\n",
              "    <tr>\n",
              "      <th>4</th>\n",
              "      <td>1004293</td>\n",
              "      <td>1004293:4</td>\n",
              "      <td>After all that, they complained to me about th...</td>\n",
              "      <td>FOOD#STYLE_OPTIONS</td>\n",
              "      <td>negative</td>\n",
              "    </tr>\n",
              "    <tr>\n",
              "      <th>...</th>\n",
              "      <td>...</td>\n",
              "      <td>...</td>\n",
              "      <td>...</td>\n",
              "      <td>...</td>\n",
              "      <td>...</td>\n",
              "    </tr>\n",
              "    <tr>\n",
              "      <th>2033</th>\n",
              "      <td>493013</td>\n",
              "      <td>493013:2</td>\n",
              "      <td>I LOVE their Thai</td>\n",
              "      <td>RESTAURANT#PRICES</td>\n",
              "      <td>positive</td>\n",
              "    </tr>\n",
              "    <tr>\n",
              "      <th>2034</th>\n",
              "      <td>493013</td>\n",
              "      <td>493013:3</td>\n",
              "      <td>noodles with shrimp and chicken and coconut ju...</td>\n",
              "      <td>FOOD#QUALITY</td>\n",
              "      <td>positive</td>\n",
              "    </tr>\n",
              "    <tr>\n",
              "      <th>2035</th>\n",
              "      <td>493013</td>\n",
              "      <td>493013:4</td>\n",
              "      <td>I was in love with Pongsri on 48th, but compar...</td>\n",
              "      <td>AMBIENCE#GENERAL</td>\n",
              "      <td>positive</td>\n",
              "    </tr>\n",
              "    <tr>\n",
              "      <th>2036</th>\n",
              "      <td>493013</td>\n",
              "      <td>493013:5</td>\n",
              "      <td>I will go back to Suan soon!</td>\n",
              "      <td>SERVICE#GENERAL</td>\n",
              "      <td>positive</td>\n",
              "    </tr>\n",
              "    <tr>\n",
              "      <th>2037</th>\n",
              "      <td>493013</td>\n",
              "      <td>493013:6</td>\n",
              "      <td>In summer-eat outside on a terrace (another gr...</td>\n",
              "      <td>SERVICE#GENERAL</td>\n",
              "      <td>positive</td>\n",
              "    </tr>\n",
              "  </tbody>\n",
              "</table>\n",
              "<p>2038 rows × 5 columns</p>\n",
              "</div>"
            ],
            "text/plain": [
              "          rid  ... Opinions__Opinion__polarity\n",
              "0     1004293  ...                    negative\n",
              "1     1004293  ...                    negative\n",
              "2     1004293  ...                    negative\n",
              "3     1004293  ...                    negative\n",
              "4     1004293  ...                    negative\n",
              "...       ...  ...                         ...\n",
              "2033   493013  ...                    positive\n",
              "2034   493013  ...                    positive\n",
              "2035   493013  ...                    positive\n",
              "2036   493013  ...                    positive\n",
              "2037   493013  ...                    positive\n",
              "\n",
              "[2038 rows x 5 columns]"
            ]
          },
          "metadata": {},
          "execution_count": 6
        }
      ]
    },
    {
      "cell_type": "code",
      "metadata": {
        "id": "OtLpBKKHEDku",
        "colab": {
          "base_uri": "https://localhost:8080/"
        },
        "outputId": "63ed2dbd-7e01-4f33-9ead-725be46194a6"
      },
      "source": [
        "df.info()"
      ],
      "execution_count": null,
      "outputs": [
        {
          "output_type": "stream",
          "name": "stdout",
          "text": [
            "<class 'pandas.core.frame.DataFrame'>\n",
            "RangeIndex: 2038 entries, 0 to 2037\n",
            "Data columns (total 5 columns):\n",
            " #   Column                       Non-Null Count  Dtype \n",
            "---  ------                       --------------  ----- \n",
            " 0   rid                          2038 non-null   object\n",
            " 1   sentences__sentence__id      2038 non-null   object\n",
            " 2   sentences__sentence__text    2038 non-null   object\n",
            " 3   Opinions__Opinion__category  2038 non-null   object\n",
            " 4   Opinions__Opinion__polarity  2038 non-null   object\n",
            "dtypes: object(5)\n",
            "memory usage: 79.7+ KB\n"
          ]
        }
      ]
    },
    {
      "cell_type": "code",
      "metadata": {
        "id": "L9e7CbF9YHro",
        "colab": {
          "base_uri": "https://localhost:8080/"
        },
        "outputId": "f1b80143-c334-46c5-f280-a110b9cb196c"
      },
      "source": [
        "a=[]\n",
        "for i in range(len(df)):\n",
        "  x=df['rid'].iloc[i]\n",
        "  if( x not in a):\n",
        "    a.append(x)\n",
        "\n",
        "len(a)\n",
        "  \n",
        "  "
      ],
      "execution_count": null,
      "outputs": [
        {
          "output_type": "execute_result",
          "data": {
            "text/plain": [
              "335"
            ]
          },
          "metadata": {},
          "execution_count": 8
        }
      ]
    },
    {
      "cell_type": "markdown",
      "metadata": {
        "id": "r_rIcHbBiF_p"
      },
      "source": [
        "## Reviews"
      ]
    },
    {
      "cell_type": "code",
      "metadata": {
        "id": "cLE0iSSwbSA_",
        "colab": {
          "base_uri": "https://localhost:8080/"
        },
        "outputId": "1e880a4e-2083-4755-b431-5386f0015842"
      },
      "source": [
        "j=0\n",
        "txt_lst=[]\n",
        "\n",
        "for j in range(len(a)):\n",
        "  sent=''\n",
        "  y=a[j]\n",
        "  for i in range(len(df)):\n",
        "    x=df['rid'].iloc[i]\n",
        "    if (x==y):\n",
        "      sent=sent+' ' +df['sentences__sentence__text'].iloc[i]\n",
        "  txt_lst.append(sent)\n",
        "len(txt_lst)"
      ],
      "execution_count": null,
      "outputs": [
        {
          "output_type": "execute_result",
          "data": {
            "text/plain": [
              "335"
            ]
          },
          "metadata": {},
          "execution_count": 9
        }
      ]
    },
    {
      "cell_type": "markdown",
      "metadata": {
        "id": "EP8lSIMmiTXQ"
      },
      "source": [
        ""
      ]
    },
    {
      "cell_type": "markdown",
      "metadata": {
        "id": "TXtsh_bliTgt"
      },
      "source": [
        "## Random Review Check"
      ]
    },
    {
      "cell_type": "code",
      "metadata": {
        "id": "6BBRcq71d5av",
        "colab": {
          "base_uri": "https://localhost:8080/",
          "height": 102
        },
        "outputId": "ff7415ff-a6a0-4704-967c-aad3883adb26"
      },
      "source": [
        "txt_lst[0]"
      ],
      "execution_count": null,
      "outputs": [
        {
          "output_type": "execute_result",
          "data": {
            "application/vnd.google.colaboratory.intrinsic+json": {
              "type": "string"
            },
            "text/plain": [
              "' Judging from previous posts this used to be a good place, but not any longer. We, there were four of us, arrived at noon - the place was empty - and the staff acted like we were imposing on them and they were very rude. They never brought us complimentary noodles, ignored repeated requests for sugar, and threw our dishes on the table. The food was lousy - too sweet or too salty and the portions tiny. After all that, they complained to me about the small tip. Avoid this place!'"
            ]
          },
          "metadata": {},
          "execution_count": 10
        }
      ]
    },
    {
      "cell_type": "code",
      "metadata": {
        "id": "vkJAILHxisBN"
      },
      "source": [
        "#  df['name'].unique()"
      ],
      "execution_count": null,
      "outputs": []
    },
    {
      "cell_type": "code",
      "metadata": {
        "id": "RRGYnYOfypDH",
        "colab": {
          "base_uri": "https://localhost:8080/"
        },
        "outputId": "57b4e5b9-6911-4fb6-804f-2d2d275cffd7"
      },
      "source": [
        "df.columns"
      ],
      "execution_count": null,
      "outputs": [
        {
          "output_type": "execute_result",
          "data": {
            "text/plain": [
              "Index(['rid', 'sentences__sentence__id', 'sentences__sentence__text',\n",
              "       'Opinions__Opinion__category', 'Opinions__Opinion__polarity'],\n",
              "      dtype='object')"
            ]
          },
          "metadata": {},
          "execution_count": 12
        }
      ]
    },
    {
      "cell_type": "code",
      "metadata": {
        "id": "jq21x2sCjCIO"
      },
      "source": [
        "df1=df[['rid','sentences__sentence__text','Opinions__Opinion__category', 'Opinions__Opinion__polarity']]\n",
        "df1=df1.rename(columns={'sentences__sentence__text':'review'})"
      ],
      "execution_count": null,
      "outputs": []
    },
    {
      "cell_type": "code",
      "metadata": {
        "id": "4uWCPU7-jZ_J"
      },
      "source": [
        "data=df.copy()\n",
        "df=df1.copy()"
      ],
      "execution_count": null,
      "outputs": []
    },
    {
      "cell_type": "code",
      "metadata": {
        "id": "RPrARa4JaykL",
        "colab": {
          "base_uri": "https://localhost:8080/",
          "height": 417
        },
        "outputId": "a658d80c-b025-4ba9-9c8b-ac3609ada41b"
      },
      "source": [
        "df"
      ],
      "execution_count": null,
      "outputs": [
        {
          "output_type": "execute_result",
          "data": {
            "text/html": [
              "<div>\n",
              "<style scoped>\n",
              "    .dataframe tbody tr th:only-of-type {\n",
              "        vertical-align: middle;\n",
              "    }\n",
              "\n",
              "    .dataframe tbody tr th {\n",
              "        vertical-align: top;\n",
              "    }\n",
              "\n",
              "    .dataframe thead th {\n",
              "        text-align: right;\n",
              "    }\n",
              "</style>\n",
              "<table border=\"1\" class=\"dataframe\">\n",
              "  <thead>\n",
              "    <tr style=\"text-align: right;\">\n",
              "      <th></th>\n",
              "      <th>rid</th>\n",
              "      <th>review</th>\n",
              "      <th>Opinions__Opinion__category</th>\n",
              "      <th>Opinions__Opinion__polarity</th>\n",
              "    </tr>\n",
              "  </thead>\n",
              "  <tbody>\n",
              "    <tr>\n",
              "      <th>0</th>\n",
              "      <td>1004293</td>\n",
              "      <td>Judging from previous posts this used to be a ...</td>\n",
              "      <td>RESTAURANT#GENERAL</td>\n",
              "      <td>negative</td>\n",
              "    </tr>\n",
              "    <tr>\n",
              "      <th>1</th>\n",
              "      <td>1004293</td>\n",
              "      <td>We, there were four of us, arrived at noon - t...</td>\n",
              "      <td>SERVICE#GENERAL</td>\n",
              "      <td>negative</td>\n",
              "    </tr>\n",
              "    <tr>\n",
              "      <th>2</th>\n",
              "      <td>1004293</td>\n",
              "      <td>They never brought us complimentary noodles, i...</td>\n",
              "      <td>FOOD#QUALITY</td>\n",
              "      <td>negative</td>\n",
              "    </tr>\n",
              "    <tr>\n",
              "      <th>3</th>\n",
              "      <td>1004293</td>\n",
              "      <td>The food was lousy - too sweet or too salty an...</td>\n",
              "      <td>FOOD#STYLE_OPTIONS</td>\n",
              "      <td>negative</td>\n",
              "    </tr>\n",
              "    <tr>\n",
              "      <th>4</th>\n",
              "      <td>1004293</td>\n",
              "      <td>After all that, they complained to me about th...</td>\n",
              "      <td>FOOD#STYLE_OPTIONS</td>\n",
              "      <td>negative</td>\n",
              "    </tr>\n",
              "    <tr>\n",
              "      <th>...</th>\n",
              "      <td>...</td>\n",
              "      <td>...</td>\n",
              "      <td>...</td>\n",
              "      <td>...</td>\n",
              "    </tr>\n",
              "    <tr>\n",
              "      <th>2033</th>\n",
              "      <td>493013</td>\n",
              "      <td>I LOVE their Thai</td>\n",
              "      <td>RESTAURANT#PRICES</td>\n",
              "      <td>positive</td>\n",
              "    </tr>\n",
              "    <tr>\n",
              "      <th>2034</th>\n",
              "      <td>493013</td>\n",
              "      <td>noodles with shrimp and chicken and coconut ju...</td>\n",
              "      <td>FOOD#QUALITY</td>\n",
              "      <td>positive</td>\n",
              "    </tr>\n",
              "    <tr>\n",
              "      <th>2035</th>\n",
              "      <td>493013</td>\n",
              "      <td>I was in love with Pongsri on 48th, but compar...</td>\n",
              "      <td>AMBIENCE#GENERAL</td>\n",
              "      <td>positive</td>\n",
              "    </tr>\n",
              "    <tr>\n",
              "      <th>2036</th>\n",
              "      <td>493013</td>\n",
              "      <td>I will go back to Suan soon!</td>\n",
              "      <td>SERVICE#GENERAL</td>\n",
              "      <td>positive</td>\n",
              "    </tr>\n",
              "    <tr>\n",
              "      <th>2037</th>\n",
              "      <td>493013</td>\n",
              "      <td>In summer-eat outside on a terrace (another gr...</td>\n",
              "      <td>SERVICE#GENERAL</td>\n",
              "      <td>positive</td>\n",
              "    </tr>\n",
              "  </tbody>\n",
              "</table>\n",
              "<p>2038 rows × 4 columns</p>\n",
              "</div>"
            ],
            "text/plain": [
              "          rid  ... Opinions__Opinion__polarity\n",
              "0     1004293  ...                    negative\n",
              "1     1004293  ...                    negative\n",
              "2     1004293  ...                    negative\n",
              "3     1004293  ...                    negative\n",
              "4     1004293  ...                    negative\n",
              "...       ...  ...                         ...\n",
              "2033   493013  ...                    positive\n",
              "2034   493013  ...                    positive\n",
              "2035   493013  ...                    positive\n",
              "2036   493013  ...                    positive\n",
              "2037   493013  ...                    positive\n",
              "\n",
              "[2038 rows x 4 columns]"
            ]
          },
          "metadata": {},
          "execution_count": 15
        }
      ]
    },
    {
      "cell_type": "code",
      "metadata": {
        "id": "bxLGPl6eXD-j",
        "colab": {
          "base_uri": "https://localhost:8080/"
        },
        "outputId": "e6d676fa-889f-4154-f025-4aac1dcbe91a"
      },
      "source": [
        "import spacy\n",
        "from tqdm import tqdm\n",
        "!python -m spacy download en_core_web_sm"
      ],
      "execution_count": null,
      "outputs": [
        {
          "output_type": "stream",
          "name": "stdout",
          "text": [
            "Collecting en_core_web_sm==2.2.5\n",
            "  Downloading https://github.com/explosion/spacy-models/releases/download/en_core_web_sm-2.2.5/en_core_web_sm-2.2.5.tar.gz (12.0 MB)\n",
            "\u001b[K     |████████████████████████████████| 12.0 MB 6.9 MB/s \n",
            "\u001b[?25hRequirement already satisfied: spacy>=2.2.2 in /usr/local/lib/python3.7/dist-packages (from en_core_web_sm==2.2.5) (2.2.4)\n",
            "Requirement already satisfied: preshed<3.1.0,>=3.0.2 in /usr/local/lib/python3.7/dist-packages (from spacy>=2.2.2->en_core_web_sm==2.2.5) (3.0.5)\n",
            "Requirement already satisfied: numpy>=1.15.0 in /usr/local/lib/python3.7/dist-packages (from spacy>=2.2.2->en_core_web_sm==2.2.5) (1.19.5)\n",
            "Requirement already satisfied: setuptools in /usr/local/lib/python3.7/dist-packages (from spacy>=2.2.2->en_core_web_sm==2.2.5) (57.4.0)\n",
            "Requirement already satisfied: murmurhash<1.1.0,>=0.28.0 in /usr/local/lib/python3.7/dist-packages (from spacy>=2.2.2->en_core_web_sm==2.2.5) (1.0.5)\n",
            "Requirement already satisfied: blis<0.5.0,>=0.4.0 in /usr/local/lib/python3.7/dist-packages (from spacy>=2.2.2->en_core_web_sm==2.2.5) (0.4.1)\n",
            "Requirement already satisfied: srsly<1.1.0,>=1.0.2 in /usr/local/lib/python3.7/dist-packages (from spacy>=2.2.2->en_core_web_sm==2.2.5) (1.0.5)\n",
            "Requirement already satisfied: tqdm<5.0.0,>=4.38.0 in /usr/local/lib/python3.7/dist-packages (from spacy>=2.2.2->en_core_web_sm==2.2.5) (4.62.0)\n",
            "Requirement already satisfied: requests<3.0.0,>=2.13.0 in /usr/local/lib/python3.7/dist-packages (from spacy>=2.2.2->en_core_web_sm==2.2.5) (2.23.0)\n",
            "Requirement already satisfied: cymem<2.1.0,>=2.0.2 in /usr/local/lib/python3.7/dist-packages (from spacy>=2.2.2->en_core_web_sm==2.2.5) (2.0.5)\n",
            "Requirement already satisfied: thinc==7.4.0 in /usr/local/lib/python3.7/dist-packages (from spacy>=2.2.2->en_core_web_sm==2.2.5) (7.4.0)\n",
            "Requirement already satisfied: wasabi<1.1.0,>=0.4.0 in /usr/local/lib/python3.7/dist-packages (from spacy>=2.2.2->en_core_web_sm==2.2.5) (0.8.2)\n",
            "Requirement already satisfied: catalogue<1.1.0,>=0.0.7 in /usr/local/lib/python3.7/dist-packages (from spacy>=2.2.2->en_core_web_sm==2.2.5) (1.0.0)\n",
            "Requirement already satisfied: plac<1.2.0,>=0.9.6 in /usr/local/lib/python3.7/dist-packages (from spacy>=2.2.2->en_core_web_sm==2.2.5) (1.1.3)\n",
            "Requirement already satisfied: importlib-metadata>=0.20 in /usr/local/lib/python3.7/dist-packages (from catalogue<1.1.0,>=0.0.7->spacy>=2.2.2->en_core_web_sm==2.2.5) (4.6.4)\n",
            "Requirement already satisfied: typing-extensions>=3.6.4 in /usr/local/lib/python3.7/dist-packages (from importlib-metadata>=0.20->catalogue<1.1.0,>=0.0.7->spacy>=2.2.2->en_core_web_sm==2.2.5) (3.7.4.3)\n",
            "Requirement already satisfied: zipp>=0.5 in /usr/local/lib/python3.7/dist-packages (from importlib-metadata>=0.20->catalogue<1.1.0,>=0.0.7->spacy>=2.2.2->en_core_web_sm==2.2.5) (3.5.0)\n",
            "Requirement already satisfied: idna<3,>=2.5 in /usr/local/lib/python3.7/dist-packages (from requests<3.0.0,>=2.13.0->spacy>=2.2.2->en_core_web_sm==2.2.5) (2.10)\n",
            "Requirement already satisfied: chardet<4,>=3.0.2 in /usr/local/lib/python3.7/dist-packages (from requests<3.0.0,>=2.13.0->spacy>=2.2.2->en_core_web_sm==2.2.5) (3.0.4)\n",
            "Requirement already satisfied: urllib3!=1.25.0,!=1.25.1,<1.26,>=1.21.1 in /usr/local/lib/python3.7/dist-packages (from requests<3.0.0,>=2.13.0->spacy>=2.2.2->en_core_web_sm==2.2.5) (1.24.3)\n",
            "Requirement already satisfied: certifi>=2017.4.17 in /usr/local/lib/python3.7/dist-packages (from requests<3.0.0,>=2.13.0->spacy>=2.2.2->en_core_web_sm==2.2.5) (2021.5.30)\n",
            "\u001b[38;5;2m✔ Download and installation successful\u001b[0m\n",
            "You can now load the model via spacy.load('en_core_web_sm')\n"
          ]
        }
      ]
    },
    {
      "cell_type": "code",
      "metadata": {
        "id": "pGXXA1OYXTLA"
      },
      "source": [
        "df['review']=df['review'].astype(str)\n"
      ],
      "execution_count": null,
      "outputs": []
    },
    {
      "cell_type": "code",
      "metadata": {
        "id": "Uo5FysrtlgAU"
      },
      "source": [
        "import nltk\n",
        "from nltk.corpus import stopwords\n",
        "\n",
        "from nltk.corpus import stopwords\n",
        "from nltk.tokenize import word_tokenize\n",
        "\n",
        "from nltk.corpus import stopwords ########\n",
        "from nltk.stem import SnowballStemmer ############\n",
        "\n",
        "\n",
        "#word to vec\n",
        "import gensim\n",
        "\n",
        "import re #####\n",
        "import os\n",
        "from collections import Counter #######\n",
        "import logging ###\n",
        "import time\n",
        "import pickle ######\n",
        "import itertools ######\n",
        "\n",
        "nlp=spacy.load(\"en_core_web_sm\") \n",
        "\n",
        "from textblob import TextBlob # TextBlob - Python library for processing textual data\n",
        "import random\n",
        "np.random.seed(0)\n",
        "\n",
        "\n",
        "# import string library function \n",
        "import string "
      ],
      "execution_count": null,
      "outputs": []
    },
    {
      "cell_type": "code",
      "metadata": {
        "id": "XMn1id5dZ_uO"
      },
      "source": [
        "df['raw_review']=df['review']"
      ],
      "execution_count": null,
      "outputs": []
    },
    {
      "cell_type": "markdown",
      "metadata": {
        "id": "kbVaTKOiKw15"
      },
      "source": [
        "## Abbreviation Handling / Shortcut"
      ]
    },
    {
      "cell_type": "code",
      "metadata": {
        "id": "G3pKUTF1sy4V"
      },
      "source": [
        "punctuation_lst =['.','!',',',':',';','?']\n",
        "abbr_dict={\n",
        "    \"what's\":\"what is\",\n",
        "    \"what're\":\"what are\",\n",
        "    \"who's\":\"who is\",\n",
        "    \"who're\":\"who are\",\n",
        "    \"where's\":\"where is\",\n",
        "    \"where're\":\"where are\",\n",
        "    \"when's\":\"when is\",\n",
        "    \"when're\":\"when are\",\n",
        "    \"how's\":\"how is\",\n",
        "    \"how're\":\"how are\",\n",
        "\n",
        "    \"i'm\":\"i am\",\n",
        "    \"we're\":\"we are\",\n",
        "    \"you're\":\"you are\",\n",
        "    \"they're\":\"they are\",\n",
        "    \"it's\":\"it is\",\n",
        "    \"he's\":\"he is\",\n",
        "    \"she's\":\"she is\",\n",
        "    \"that's\":\"that is\",\n",
        "    \"there's\":\"there is\",\n",
        "    \"there're\":\"there are\",\n",
        "\n",
        "    \"i've\":\"i have\",\n",
        "    \"we've\":\"we have\",\n",
        "    \"you've\":\"you have\",\n",
        "    \"they've\":\"they have\",\n",
        "    \"who've\":\"who have\",\n",
        "    \"would've\":\"would have\",\n",
        "    \"not've\":\"not have\",\n",
        "\n",
        "    \"i'll\":\"i will\",\n",
        "    \"we'll\":\"we will\",\n",
        "    \"you'll\":\"you will\",\n",
        "    \"he'll\":\"he will\",\n",
        "    \"she'll\":\"she will\",\n",
        "    \"it'll\":\"it will\",\n",
        "    \"they'll\":\"they will\",\n",
        "\n",
        "    \"isn't\":\"is not\",\n",
        "    \"wasn't\":\"was not\",\n",
        "    \"aren't\":\"are not\",\n",
        "    \"weren't\":\"were not\",\n",
        "    \"can't\":\"can not\",\n",
        "    \"couldn't\":\"could not\",\n",
        "    \"don't\":\"do not\",\n",
        "    \"didn't\":\"did not\",\n",
        "    \"shouldn't\":\"should not\",\n",
        "    \"wouldn't\":\"would not\",\n",
        "    \"doesn't\":\"does not\",\n",
        "    \"haven't\":\"have not\",\n",
        "    \"hasn't\":\"has not\",\n",
        "    \"hadn't\":\"had not\",\n",
        "    \"won't\":\"will not\",\n",
        "    ###############\n",
        "    \"nyc\" : \"nice\",               \n",
        "    \"gd\" :  \"good\",\n",
        "    \"fyn\" : \"fine\",               \n",
        "  \n",
        "\n",
        "    '\\s+':' ', # replace multi space with one single space\n",
        "}"
      ],
      "execution_count": null,
      "outputs": []
    },
    {
      "cell_type": "code",
      "metadata": {
        "id": "PfO_Lmf9zGxg",
        "colab": {
          "base_uri": "https://localhost:8080/",
          "height": 304
        },
        "outputId": "e79ced75-6d45-4a16-90fc-d54d8a8ad767"
      },
      "source": [
        "def process_data(data):\n",
        "    \n",
        "    data.review=data.review.str.lower() # conver to lower case\n",
        "\n",
        "    data.review=data.review.astype(str)\n",
        "   \n",
        "    data.replace(abbr_dict,regex=True,inplace=True)\n",
        "  \n",
        "    return data\n",
        "\n",
        "process_data(df)\n",
        "df.head()"
      ],
      "execution_count": null,
      "outputs": [
        {
          "output_type": "execute_result",
          "data": {
            "text/html": [
              "<div>\n",
              "<style scoped>\n",
              "    .dataframe tbody tr th:only-of-type {\n",
              "        vertical-align: middle;\n",
              "    }\n",
              "\n",
              "    .dataframe tbody tr th {\n",
              "        vertical-align: top;\n",
              "    }\n",
              "\n",
              "    .dataframe thead th {\n",
              "        text-align: right;\n",
              "    }\n",
              "</style>\n",
              "<table border=\"1\" class=\"dataframe\">\n",
              "  <thead>\n",
              "    <tr style=\"text-align: right;\">\n",
              "      <th></th>\n",
              "      <th>rid</th>\n",
              "      <th>review</th>\n",
              "      <th>Opinions__Opinion__category</th>\n",
              "      <th>Opinions__Opinion__polarity</th>\n",
              "      <th>raw_review</th>\n",
              "    </tr>\n",
              "  </thead>\n",
              "  <tbody>\n",
              "    <tr>\n",
              "      <th>0</th>\n",
              "      <td>1004293</td>\n",
              "      <td>judging from previous posts this used to be a ...</td>\n",
              "      <td>RESTAURANT#GENERAL</td>\n",
              "      <td>negative</td>\n",
              "      <td>Judging from previous posts this used to be a ...</td>\n",
              "    </tr>\n",
              "    <tr>\n",
              "      <th>1</th>\n",
              "      <td>1004293</td>\n",
              "      <td>we, there were four of us, arrived at noon - t...</td>\n",
              "      <td>SERVICE#GENERAL</td>\n",
              "      <td>negative</td>\n",
              "      <td>We, there were four of us, arrived at noon - t...</td>\n",
              "    </tr>\n",
              "    <tr>\n",
              "      <th>2</th>\n",
              "      <td>1004293</td>\n",
              "      <td>they never brought us complimentary noodles, i...</td>\n",
              "      <td>FOOD#QUALITY</td>\n",
              "      <td>negative</td>\n",
              "      <td>They never brought us complimentary noodles, i...</td>\n",
              "    </tr>\n",
              "    <tr>\n",
              "      <th>3</th>\n",
              "      <td>1004293</td>\n",
              "      <td>the food was lousy - too sweet or too salty an...</td>\n",
              "      <td>FOOD#STYLE_OPTIONS</td>\n",
              "      <td>negative</td>\n",
              "      <td>The food was lousy - too sweet or too salty an...</td>\n",
              "    </tr>\n",
              "    <tr>\n",
              "      <th>4</th>\n",
              "      <td>1004293</td>\n",
              "      <td>after all that, they complained to me about th...</td>\n",
              "      <td>FOOD#STYLE_OPTIONS</td>\n",
              "      <td>negative</td>\n",
              "      <td>After all that, they complained to me about th...</td>\n",
              "    </tr>\n",
              "  </tbody>\n",
              "</table>\n",
              "</div>"
            ],
            "text/plain": [
              "       rid  ...                                         raw_review\n",
              "0  1004293  ...  Judging from previous posts this used to be a ...\n",
              "1  1004293  ...  We, there were four of us, arrived at noon - t...\n",
              "2  1004293  ...  They never brought us complimentary noodles, i...\n",
              "3  1004293  ...  The food was lousy - too sweet or too salty an...\n",
              "4  1004293  ...  After all that, they complained to me about th...\n",
              "\n",
              "[5 rows x 5 columns]"
            ]
          },
          "metadata": {},
          "execution_count": 21
        }
      ]
    },
    {
      "cell_type": "markdown",
      "metadata": {
        "id": "VTyYwnvvLalv"
      },
      "source": [
        "# Lower Casing and removal of numeric value"
      ]
    },
    {
      "cell_type": "code",
      "metadata": {
        "id": "GToPI7S3T8NG",
        "colab": {
          "base_uri": "https://localhost:8080/",
          "height": 52
        },
        "outputId": "cd0bc294-2211-44c3-e8cf-e10dcb9b6ad6"
      },
      "source": [
        "import nltk\n",
        "from nltk.tokenize import RegexpTokenizer\n",
        "from nltk.stem import WordNetLemmatizer,PorterStemmer\n",
        "import re\n",
        "lemmatizer = WordNetLemmatizer()\n",
        "stemmer = PorterStemmer() \n",
        "\n",
        "def pre_process(sentence):\n",
        "  sentence=str(sentence)\n",
        "  sentence = sentence.lower()\n",
        "  rem_num = re.sub('[0-9]+', '',sentence)\n",
        "  \n",
        "  \n",
        "  return rem_num\n",
        "\n",
        "\n",
        "df['clean_review']= df['review'].apply(pre_process)\n",
        "txt='Nice hotel with very friendly and helpful staff. Nice hotel , with very friendly staff and helpful - great choice for breakfast , something for everyone.'\n",
        "pre_process(txt)\n",
        "\n"
      ],
      "execution_count": null,
      "outputs": [
        {
          "output_type": "execute_result",
          "data": {
            "application/vnd.google.colaboratory.intrinsic+json": {
              "type": "string"
            },
            "text/plain": [
              "'nice hotel with very friendly and helpful staff. nice hotel , with very friendly staff and helpful - great choice for breakfast , something for everyone.'"
            ]
          },
          "metadata": {},
          "execution_count": 22
        }
      ]
    },
    {
      "cell_type": "code",
      "metadata": {
        "id": "GfF4KG0AmFhu",
        "colab": {
          "base_uri": "https://localhost:8080/"
        },
        "outputId": "91657499-4307-4979-aa1e-26dc80b1cc1a"
      },
      "source": [
        "df.drop_duplicates(subset=['clean_review'], keep='last')\n",
        "df.shape"
      ],
      "execution_count": null,
      "outputs": [
        {
          "output_type": "execute_result",
          "data": {
            "text/plain": [
              "(2038, 6)"
            ]
          },
          "metadata": {},
          "execution_count": 23
        }
      ]
    },
    {
      "cell_type": "code",
      "metadata": {
        "id": "6lgkiKtB429Q"
      },
      "source": [
        "from sklearn.model_selection import train_test_split\n",
        "from sklearn.preprocessing import LabelEncoder   ###########\n",
        "from sklearn.metrics import confusion_matrix , classification_report , accuracy_score\n",
        "from sklearn.manifold import TSNE ######\n",
        "from sklearn.feature_extraction.text import TfidfVectorizer #############\n",
        "\n"
      ],
      "execution_count": null,
      "outputs": []
    },
    {
      "cell_type": "code",
      "metadata": {
        "id": "-exdXtFm5PkX",
        "colab": {
          "base_uri": "https://localhost:8080/"
        },
        "outputId": "b6d16764-def3-40d2-e0da-20e8a0c16298"
      },
      "source": [
        "import nltk\n",
        "nltk.download('stopwords')"
      ],
      "execution_count": null,
      "outputs": [
        {
          "output_type": "stream",
          "name": "stderr",
          "text": [
            "[nltk_data] Downloading package stopwords to /root/nltk_data...\n",
            "[nltk_data]   Package stopwords is already up-to-date!\n"
          ]
        },
        {
          "output_type": "execute_result",
          "data": {
            "text/plain": [
              "True"
            ]
          },
          "metadata": {},
          "execution_count": 25
        }
      ]
    },
    {
      "cell_type": "markdown",
      "metadata": {
        "id": "Yud5_NrgMJgS"
      },
      "source": [
        "## Sorting Unique Words "
      ]
    },
    {
      "cell_type": "code",
      "metadata": {
        "id": "Vd-fF0xPqwlK",
        "colab": {
          "base_uri": "https://localhost:8080/",
          "height": 417
        },
        "outputId": "92015f8c-5814-485a-91cb-5f90255d77bb"
      },
      "source": [
        "from sklearn.feature_extraction.text import CountVectorizer\n",
        "stop_words = nltk.corpus.stopwords.words('english')\n",
        "\n",
        "def remove_stopwords1(txt):\n",
        "  rvm_stpwords = [i for i in txt.split() if i not in stop_words]\n",
        "  rmv_stpwords_join = ' '.join(rvm_stpwords)\n",
        "  return rmv_stpwords_join\n",
        "\n",
        "\n",
        "hotels= df['clean_review'].apply(remove_stopwords1) \n",
        "hotels = [line.replace(\"\\n\", \"\") for line in hotels]\n",
        "\n",
        "\n",
        "\n",
        "def get_top_n_words(corpus, n=None):\n",
        "    \"\"\"\n",
        "    List the top n words in a vocabulary according to occurrence in a text corpus.\n",
        "    \n",
        "    get_top_n_words([\"I love Python\", \"Python is a language programming\", \"Hello world\", \"I love the world\"]) -> \n",
        "    [('python', 2),\n",
        "     ('world', 2),\n",
        "     ------\n",
        "\n",
        "    \"\"\"\n",
        "    \n",
        "    \n",
        "    vec = CountVectorizer().fit(corpus) #get a Bag of Word model that has cleaned the text, removing non-aphanumeric characters and stop words.\n",
        "    bag_of_words = vec.transform(corpus) #bag_of_words a matrix where each row represents a specific text in corpus and each column represents a word in vocabulary\n",
        "    # bag_of_words[i,j] is the occurrence of word j in the text i.\n",
        "\n",
        "    sum_words = bag_of_words.sum(axis=0)  #sum_words is a vector that contains the sum of each word occurrence in all texts in the corpus\n",
        "    words_freq = [(word, sum_words[0, idx]) for word, idx in     vec.vocabulary_.items()]\n",
        "    words_freq =sorted(words_freq, key = lambda x: x[1], reverse=True)\n",
        "    return words_freq[:n]\n",
        "\n",
        "\n",
        "\n",
        "common_words = get_top_n_words(hotels,20000)\n",
        "# for word, freq in common_words:\n",
        "#     print(word, freq)\n",
        "cmn_word_df = pd.DataFrame(common_words,columns=['words','count'])\n",
        "cmn_word_df"
      ],
      "execution_count": null,
      "outputs": [
        {
          "output_type": "execute_result",
          "data": {
            "text/html": [
              "<div>\n",
              "<style scoped>\n",
              "    .dataframe tbody tr th:only-of-type {\n",
              "        vertical-align: middle;\n",
              "    }\n",
              "\n",
              "    .dataframe tbody tr th {\n",
              "        vertical-align: top;\n",
              "    }\n",
              "\n",
              "    .dataframe thead th {\n",
              "        text-align: right;\n",
              "    }\n",
              "</style>\n",
              "<table border=\"1\" class=\"dataframe\">\n",
              "  <thead>\n",
              "    <tr style=\"text-align: right;\">\n",
              "      <th></th>\n",
              "      <th>words</th>\n",
              "      <th>count</th>\n",
              "    </tr>\n",
              "  </thead>\n",
              "  <tbody>\n",
              "    <tr>\n",
              "      <th>0</th>\n",
              "      <td>food</td>\n",
              "      <td>288</td>\n",
              "    </tr>\n",
              "    <tr>\n",
              "      <th>1</th>\n",
              "      <td>place</td>\n",
              "      <td>226</td>\n",
              "    </tr>\n",
              "    <tr>\n",
              "      <th>2</th>\n",
              "      <td>great</td>\n",
              "      <td>200</td>\n",
              "    </tr>\n",
              "    <tr>\n",
              "      <th>3</th>\n",
              "      <td>good</td>\n",
              "      <td>188</td>\n",
              "    </tr>\n",
              "    <tr>\n",
              "      <th>4</th>\n",
              "      <td>service</td>\n",
              "      <td>169</td>\n",
              "    </tr>\n",
              "    <tr>\n",
              "      <th>...</th>\n",
              "      <td>...</td>\n",
              "      <td>...</td>\n",
              "    </tr>\n",
              "    <tr>\n",
              "      <th>3205</th>\n",
              "      <td>college</td>\n",
              "      <td>1</td>\n",
              "    </tr>\n",
              "    <tr>\n",
              "      <th>3206</th>\n",
              "      <td>students</td>\n",
              "      <td>1</td>\n",
              "    </tr>\n",
              "    <tr>\n",
              "      <th>3207</th>\n",
              "      <td>coconut</td>\n",
              "      <td>1</td>\n",
              "    </tr>\n",
              "    <tr>\n",
              "      <th>3208</th>\n",
              "      <td>pongsri</td>\n",
              "      <td>1</td>\n",
              "    </tr>\n",
              "    <tr>\n",
              "      <th>3209</th>\n",
              "      <td>feature</td>\n",
              "      <td>1</td>\n",
              "    </tr>\n",
              "  </tbody>\n",
              "</table>\n",
              "<p>3210 rows × 2 columns</p>\n",
              "</div>"
            ],
            "text/plain": [
              "         words  count\n",
              "0         food    288\n",
              "1        place    226\n",
              "2        great    200\n",
              "3         good    188\n",
              "4      service    169\n",
              "...        ...    ...\n",
              "3205   college      1\n",
              "3206  students      1\n",
              "3207   coconut      1\n",
              "3208   pongsri      1\n",
              "3209   feature      1\n",
              "\n",
              "[3210 rows x 2 columns]"
            ]
          },
          "metadata": {},
          "execution_count": 26
        }
      ]
    },
    {
      "cell_type": "markdown",
      "metadata": {
        "id": "xjislsrsj9w0"
      },
      "source": [
        "## top 20 Words "
      ]
    },
    {
      "cell_type": "code",
      "metadata": {
        "id": "qznJC3kLiew8",
        "colab": {
          "base_uri": "https://localhost:8080/",
          "height": 346
        },
        "outputId": "07f08d53-2c87-425a-bf6e-e78368a80da4"
      },
      "source": [
        "cmn_word_df=cmn_word_df[:21]\n",
        "import seaborn \n",
        "import matplotlib.pyplot as plt\n",
        "\n",
        "fig, ax1 = plt.subplots(figsize=(30, 10))\n",
        "\n",
        "tidy = cmn_word_df.melt(id_vars='words').rename(columns=str.title)\n",
        "ax=seaborn.barplot(x=cmn_word_df['words'], y='Value',  data=tidy, ax=ax1 )\n",
        "        \n",
        "plt.xticks(fontsize=15, weight=\"bold\")   \n",
        "plt.xlabel(\"Words\",fontsize=20,weight='bold')\n",
        "plt.ylabel(\"Count\",fontsize=20,weight='bold')           "
      ],
      "execution_count": null,
      "outputs": [
        {
          "output_type": "execute_result",
          "data": {
            "text/plain": [
              "Text(0, 0.5, 'Count')"
            ]
          },
          "metadata": {},
          "execution_count": 27
        },
        {
          "output_type": "display_data",
          "data": {
            "image/png": "[encoded data removed]",
            "text/plain": [
              "<Figure size 2160x720 with 1 Axes>"
            ]
          },
          "metadata": {
            "needs_background": "light"
          }
        }
      ]
    },
    {
      "cell_type": "code",
      "metadata": {
        "id": "QSPtblAm3d64",
        "colab": {
          "base_uri": "https://localhost:8080/"
        },
        "outputId": "641dd6be-7419-4277-d778-db3cf17683ec"
      },
      "source": [
        "import nltk\n",
        "nltk.download('punkt')"
      ],
      "execution_count": null,
      "outputs": [
        {
          "output_type": "stream",
          "name": "stderr",
          "text": [
            "[nltk_data] Downloading package punkt to /root/nltk_data...\n",
            "[nltk_data]   Package punkt is already up-to-date!\n"
          ]
        },
        {
          "output_type": "execute_result",
          "data": {
            "text/plain": [
              "True"
            ]
          },
          "metadata": {},
          "execution_count": 28
        }
      ]
    },
    {
      "cell_type": "markdown",
      "metadata": {
        "id": "VTpqxLU8kHeg"
      },
      "source": [
        "## Extra Expression Handling (soooo gooooddd)"
      ]
    },
    {
      "cell_type": "code",
      "metadata": {
        "id": "K0gpIyJwwXIm"
      },
      "source": [
        "import re\n",
        "def extra_expression(txt):          #for shortcut words fuction\n",
        "  txt= str(txt)\n",
        "  txt=txt+ ' '\n",
        "  txt=re.sub('so+(?=[^a-z])','so ',txt)\n",
        "  txt=re.sub('goo+d+(?=[^a-z])','good ',txt)\n",
        "  txt=re.sub('wo+w+(?=[^a-z])','wow ',txt)\n",
        "  txt=re.sub('nice+(?=[^a-z])','nice ',txt)\n",
        "  txt=re.sub('fine+(?=[^a-z])','fine ',txt)\n",
        "  txt=re.sub('lovely+(?=[^a-z])','lovely ',txt)\n",
        "  txt=re.sub('very+(?=[^a-z])','very ',txt)\n",
        "  txt=re.sub('ba*d+(?=[^a-z])','bad ',txt)\n",
        "  txt=re.sub('lo+ve*(?=[^a-z])','love ',txt)\n",
        "  txt=re.sub('\\s+', ' ', txt)\n",
        "  return txt\n"
      ],
      "execution_count": null,
      "outputs": []
    },
    {
      "cell_type": "markdown",
      "metadata": {
        "id": "ebXBWngHkV-T"
      },
      "source": [
        "## Random check for extra expression"
      ]
    },
    {
      "cell_type": "code",
      "metadata": {
        "id": "FhpERctRkcew",
        "colab": {
          "base_uri": "https://localhost:8080/",
          "height": 35
        },
        "outputId": "4f5c98e2-2f2a-457d-bcba-06dabf7e440b"
      },
      "source": [
        "txt1=\"it is soooo goooooodddd\"\n",
        "extra_expression(txt1)"
      ],
      "execution_count": null,
      "outputs": [
        {
          "output_type": "execute_result",
          "data": {
            "application/vnd.google.colaboratory.intrinsic+json": {
              "type": "string"
            },
            "text/plain": [
              "'it is so good '"
            ]
          },
          "metadata": {},
          "execution_count": 30
        }
      ]
    },
    {
      "cell_type": "code",
      "metadata": {
        "id": "yqQvb_tJoL0Y"
      },
      "source": [
        "\n",
        "for i,txt in enumerate(df['clean_review']):\n",
        "  df['clean_review'].iloc[i]=extra_expression(txt)\n"
      ],
      "execution_count": null,
      "outputs": []
    },
    {
      "cell_type": "markdown",
      "metadata": {
        "id": "cDMcL3NHkkFA"
      },
      "source": [
        "# Random check the dependency and parts of speech"
      ]
    },
    {
      "cell_type": "code",
      "metadata": {
        "id": "E6drMqXguZ5a",
        "colab": {
          "base_uri": "https://localhost:8080/",
          "height": 353
        },
        "outputId": "f6bf5e23-2f07-4701-88e5-7c1d65d0416b"
      },
      "source": [
        "txt =  \"pizza was a little soggy\"\n",
        "\n",
        "nlp=spacy.load(\"en_core_web_sm\")  #Load the small English model\n",
        "doc = nlp(txt)  # Process a text\n",
        "spacy.displacy.render(doc,style='dep',jupyter=True)"
      ],
      "execution_count": null,
      "outputs": [
        {
          "output_type": "display_data",
          "data": {
            "text/html": [
              "<span class=\"tex2jax_ignore\"><svg xmlns=\"http://www.w3.org/2000/svg\" xmlns:xlink=\"http://www.w3.org/1999/xlink\" xml:lang=\"en\" id=\"55f622bfabbe4c9fa4fe9ccea7bbbf5b-0\" class=\"displacy\" width=\"925\" height=\"312.0\" direction=\"ltr\" style=\"max-width: none; height: 312.0px; color: #000000; background: #ffffff; font-family: Arial; direction: ltr\">\n",
              "<text class=\"displacy-token\" fill=\"currentColor\" text-anchor=\"middle\" y=\"222.0\">\n",
              "    <tspan class=\"displacy-word\" fill=\"currentColor\" x=\"50\">pizza</tspan>\n",
              "    <tspan class=\"displacy-tag\" dy=\"2em\" fill=\"currentColor\" x=\"50\">NOUN</tspan>\n",
              "</text>\n",
              "\n",
              "<text class=\"displacy-token\" fill=\"currentColor\" text-anchor=\"middle\" y=\"222.0\">\n",
              "    <tspan class=\"displacy-word\" fill=\"currentColor\" x=\"225\">was</tspan>\n",
              "    <tspan class=\"displacy-tag\" dy=\"2em\" fill=\"currentColor\" x=\"225\">AUX</tspan>\n",
              "</text>\n",
              "\n",
              "<text class=\"displacy-token\" fill=\"currentColor\" text-anchor=\"middle\" y=\"222.0\">\n",
              "    <tspan class=\"displacy-word\" fill=\"currentColor\" x=\"400\">a</tspan>\n",
              "    <tspan class=\"displacy-tag\" dy=\"2em\" fill=\"currentColor\" x=\"400\">DET</tspan>\n",
              "</text>\n",
              "\n",
              "<text class=\"displacy-token\" fill=\"currentColor\" text-anchor=\"middle\" y=\"222.0\">\n",
              "    <tspan class=\"displacy-word\" fill=\"currentColor\" x=\"575\">little</tspan>\n",
              "    <tspan class=\"displacy-tag\" dy=\"2em\" fill=\"currentColor\" x=\"575\">ADJ</tspan>\n",
              "</text>\n",
              "\n",
              "<text class=\"displacy-token\" fill=\"currentColor\" text-anchor=\"middle\" y=\"222.0\">\n",
              "    <tspan class=\"displacy-word\" fill=\"currentColor\" x=\"750\">soggy</tspan>\n",
              "    <tspan class=\"displacy-tag\" dy=\"2em\" fill=\"currentColor\" x=\"750\">ADJ</tspan>\n",
              "</text>\n",
              "\n",
              "<g class=\"displacy-arrow\">\n",
              "    <path class=\"displacy-arc\" id=\"arrow-55f622bfabbe4c9fa4fe9ccea7bbbf5b-0-0\" stroke-width=\"2px\" d=\"M70,177.0 C70,89.5 220.0,89.5 220.0,177.0\" fill=\"none\" stroke=\"currentColor\"/>\n",
              "    <text dy=\"1.25em\" style=\"font-size: 0.8em; letter-spacing: 1px\">\n",
              "        <textPath xlink:href=\"#arrow-55f622bfabbe4c9fa4fe9ccea7bbbf5b-0-0\" class=\"displacy-label\" startOffset=\"50%\" side=\"left\" fill=\"currentColor\" text-anchor=\"middle\">nsubj</textPath>\n",
              "    </text>\n",
              "    <path class=\"displacy-arrowhead\" d=\"M70,179.0 L62,167.0 78,167.0\" fill=\"currentColor\"/>\n",
              "</g>\n",
              "\n",
              "<g class=\"displacy-arrow\">\n",
              "    <path class=\"displacy-arc\" id=\"arrow-55f622bfabbe4c9fa4fe9ccea7bbbf5b-0-1\" stroke-width=\"2px\" d=\"M420,177.0 C420,89.5 570.0,89.5 570.0,177.0\" fill=\"none\" stroke=\"currentColor\"/>\n",
              "    <text dy=\"1.25em\" style=\"font-size: 0.8em; letter-spacing: 1px\">\n",
              "        <textPath xlink:href=\"#arrow-55f622bfabbe4c9fa4fe9ccea7bbbf5b-0-1\" class=\"displacy-label\" startOffset=\"50%\" side=\"left\" fill=\"currentColor\" text-anchor=\"middle\">det</textPath>\n",
              "    </text>\n",
              "    <path class=\"displacy-arrowhead\" d=\"M420,179.0 L412,167.0 428,167.0\" fill=\"currentColor\"/>\n",
              "</g>\n",
              "\n",
              "<g class=\"displacy-arrow\">\n",
              "    <path class=\"displacy-arc\" id=\"arrow-55f622bfabbe4c9fa4fe9ccea7bbbf5b-0-2\" stroke-width=\"2px\" d=\"M595,177.0 C595,89.5 745.0,89.5 745.0,177.0\" fill=\"none\" stroke=\"currentColor\"/>\n",
              "    <text dy=\"1.25em\" style=\"font-size: 0.8em; letter-spacing: 1px\">\n",
              "        <textPath xlink:href=\"#arrow-55f622bfabbe4c9fa4fe9ccea7bbbf5b-0-2\" class=\"displacy-label\" startOffset=\"50%\" side=\"left\" fill=\"currentColor\" text-anchor=\"middle\">amod</textPath>\n",
              "    </text>\n",
              "    <path class=\"displacy-arrowhead\" d=\"M595,179.0 L587,167.0 603,167.0\" fill=\"currentColor\"/>\n",
              "</g>\n",
              "\n",
              "<g class=\"displacy-arrow\">\n",
              "    <path class=\"displacy-arc\" id=\"arrow-55f622bfabbe4c9fa4fe9ccea7bbbf5b-0-3\" stroke-width=\"2px\" d=\"M245,177.0 C245,2.0 750.0,2.0 750.0,177.0\" fill=\"none\" stroke=\"currentColor\"/>\n",
              "    <text dy=\"1.25em\" style=\"font-size: 0.8em; letter-spacing: 1px\">\n",
              "        <textPath xlink:href=\"#arrow-55f622bfabbe4c9fa4fe9ccea7bbbf5b-0-3\" class=\"displacy-label\" startOffset=\"50%\" side=\"left\" fill=\"currentColor\" text-anchor=\"middle\">attr</textPath>\n",
              "    </text>\n",
              "    <path class=\"displacy-arrowhead\" d=\"M750.0,179.0 L758.0,167.0 742.0,167.0\" fill=\"currentColor\"/>\n",
              "</g>\n",
              "</svg></span>"
            ],
            "text/plain": [
              "<IPython.core.display.HTML object>"
            ]
          },
          "metadata": {}
        }
      ]
    },
    {
      "cell_type": "markdown",
      "metadata": {
        "id": "IMRDrSFKIY4k"
      },
      "source": [
        "## test manual review"
      ]
    },
    {
      "cell_type": "code",
      "metadata": {
        "id": "rPGFw-g0edzC",
        "colab": {
          "base_uri": "https://localhost:8080/",
          "height": 172
        },
        "outputId": "ab2324e3-6359-451a-e4ae-ddb736e813a9"
      },
      "source": [
        "\n",
        "txt1=['the food is lossy and too salty', 'hotel is good and has helpful staff','The touchscreen is smooth but the battery life is not good',\n",
        "      'The laptop is heavy to carry']\n",
        "rid=[1,2,3,4]\n",
        "df_22=pd.DataFrame(\n",
        "    {\n",
        "        'clean_review': txt1,\n",
        "     'rid':rid\n",
        "    }\n",
        ")\n",
        "\n",
        "# import required module\n",
        "from sklearn.feature_extraction.text import TfidfVectorizer\n",
        "# create object\n",
        "tfidf = TfidfVectorizer()\n",
        "# get tf-df values\n",
        "result = tfidf.fit_transform(df_22['clean_review'])\n",
        "x=result.toarray()\n",
        "y=tfidf.vocabulary_\n",
        "df_22"
      ],
      "execution_count": null,
      "outputs": [
        {
          "output_type": "execute_result",
          "data": {
            "text/html": [
              "<div>\n",
              "<style scoped>\n",
              "    .dataframe tbody tr th:only-of-type {\n",
              "        vertical-align: middle;\n",
              "    }\n",
              "\n",
              "    .dataframe tbody tr th {\n",
              "        vertical-align: top;\n",
              "    }\n",
              "\n",
              "    .dataframe thead th {\n",
              "        text-align: right;\n",
              "    }\n",
              "</style>\n",
              "<table border=\"1\" class=\"dataframe\">\n",
              "  <thead>\n",
              "    <tr style=\"text-align: right;\">\n",
              "      <th></th>\n",
              "      <th>clean_review</th>\n",
              "      <th>rid</th>\n",
              "    </tr>\n",
              "  </thead>\n",
              "  <tbody>\n",
              "    <tr>\n",
              "      <th>0</th>\n",
              "      <td>the food is lossy and too salty</td>\n",
              "      <td>1</td>\n",
              "    </tr>\n",
              "    <tr>\n",
              "      <th>1</th>\n",
              "      <td>hotel is good and has helpful staff</td>\n",
              "      <td>2</td>\n",
              "    </tr>\n",
              "    <tr>\n",
              "      <th>2</th>\n",
              "      <td>The touchscreen is smooth but the battery life...</td>\n",
              "      <td>3</td>\n",
              "    </tr>\n",
              "    <tr>\n",
              "      <th>3</th>\n",
              "      <td>The laptop is heavy to carry</td>\n",
              "      <td>4</td>\n",
              "    </tr>\n",
              "  </tbody>\n",
              "</table>\n",
              "</div>"
            ],
            "text/plain": [
              "                                        clean_review  rid\n",
              "0                    the food is lossy and too salty    1\n",
              "1                hotel is good and has helpful staff    2\n",
              "2  The touchscreen is smooth but the battery life...    3\n",
              "3                       The laptop is heavy to carry    4"
            ]
          },
          "metadata": {},
          "execution_count": 33
        }
      ]
    },
    {
      "cell_type": "code",
      "metadata": {
        "colab": {
          "base_uri": "https://localhost:8080/"
        },
        "id": "Mn3pZxaQH_p8",
        "outputId": "eea2710a-c3f7-4edf-b2ef-46f8eef5bcaf"
      },
      "source": [
        "#experiment for get not                              final updated compound noun\n",
        "prn_lst=['it', 'this', 'that']\n",
        "aspects_main = []\n",
        "feature_main =[]\n",
        "feautures_term_main =[]\n",
        "aspects = []\n",
        "feature =[]\n",
        "feautures_term =[]\n",
        "raw_txt=[]\n",
        "weight=[]\n",
        "a=df_22['rid'].iloc[0]\n",
        "prev_target=''\n",
        "\n",
        "for value,txt in enumerate( df_22['clean_review']):\n",
        "  rid = df_22['rid'].iloc[value]\n",
        " \n",
        "\n",
        "    \n",
        "  if (rid==a):\n",
        "    a=rid\n",
        "    \n",
        "  elif (rid != a):\n",
        "    prev_target=''\n",
        " \n",
        "  \n",
        "  txt=str(txt)\n",
        "  sentence=str(txt)\n",
        "  print(sentence)\n",
        "  doc_main = nlp(txt)\n",
        "  for i, sentence in enumerate(doc_main.sents):\n",
        "    sentence=str(sentence)\n",
        "    sentence= re.split(r'([.,;:-])|\\s+(?:but|and|or|that|if|because|with)\\s+' ,sentence) \n",
        "    # the food is salty \n",
        "    # too losy\n",
        "    flag_target=0\n",
        "    \n",
        "    for sent in sentence:\n",
        "      sent=str(sent)\n",
        "     \n",
        "      doc = nlp(sent)\n",
        "      \n",
        "    \n",
        "      if flag_target==0:\n",
        "        target = ''\n",
        "      \n",
        "      opinion_term = ''\n",
        "      add_neg_pfx = False\n",
        "      count_punct=0\n",
        "      flag_punct=0\n",
        "      for token in doc:\n",
        "        if (flag_punct==0):\n",
        "          for tok in doc:\n",
        "            if(tok.is_punct):\n",
        "              if (tok.text == \"!\"): #hotel is good!!!\n",
        "                count_punct =count_punct + 1      #3\n",
        "                flag_punct=1\n",
        "        if  (token.dep_ == 'nsubj' and token.pos_=='NOUN') or (token.pos_=='NOUN') or (token.pos_=='PROPN') :\n",
        "          compound_flag=0\n",
        "          for token in [token for token in doc if token.dep_ == 'compound' ]: # Get list of compounds in doc\n",
        "            if(doc[token.head.i].pos_ =='NOUN') or (doc[token.head.i].pos_=='PROPN'):\n",
        "              noun = doc[token.i: token.head.i + 1]\n",
        "              compound_flag=1\n",
        "            else:\n",
        "              noun= token\n",
        "          \n",
        "          if (compound_flag):\n",
        "            target=str(noun)\n",
        "          else:\n",
        "            target=token.text\n",
        "\n",
        "          for j in token.children:\n",
        "            if (j.pos_=='ADJ'):           ########################               \n",
        "              prepend = ''\n",
        "              flag=0 \n",
        "              opinion_term=j.text\n",
        "              \n",
        "              for child in j.children:       ### have no child here \n",
        "                if (child.dep_=='neg'):\n",
        "                  flag=1\n",
        "                elif (child.pos_ != 'ADV' ): #and child.is_left_punct!=True\n",
        "                  continue\n",
        "                prepend += child.text + ' '\n",
        "                if (flag==0):\n",
        "                  opinion_term = prepend + opinion_term\n",
        "                elif (flag==1):\n",
        "                  opinion_term = prepend + opinion_term\n",
        "                else:\n",
        "                  opinion_term=opinion_term\n",
        "                  \n",
        "              if ((target=='') or (opinion_term=='')):\n",
        "                continue\n",
        "              else: \n",
        "                if (flag_punct):            #############                     add punct \"!\"\n",
        "                  for i in range(count_punct):\n",
        "                    opinion_term=opinion_term + '!'\n",
        "                aspects.append({'aspect': target, 'opinion': opinion_term})\n",
        "                feautures_term.append(opinion_term)\n",
        "                feature.append(target)\n",
        "                raw_txt.append(sent)\n",
        "                prev_target=target\n",
        "                z=y.get(target)\n",
        "                weight.append(x[value][z])\n",
        "\n",
        "            elif (j.dep_ is 'amod' and j.pos_ is 'ADJ') :    #primary condition\n",
        "              opinion_term =j.text\n",
        "              for k in j.lefts:\n",
        "                if k.dep_ is 'advmod': #secondary condition to get adjective of adjectives\n",
        "                  opinion_term=k.text+' '+opinion_term\n",
        "              if ((target=='') or (opinion_term=='')):\n",
        "                continue\n",
        "              else: \n",
        "                if (flag_punct):            #############                     add punct \"!\"\n",
        "                  for i in range(count_punct):\n",
        "                    opinion_term=opinion_term + '!'\n",
        "                aspects.append({'aspect': target, 'opinion': opinion_term})\n",
        "                feautures_term.append(opinion_term)\n",
        "                feature.append(target)\n",
        "                raw_txt.append(sent)\n",
        "                prev_target=target\n",
        "                z=y.get(target)\n",
        "                weight.append(x[value][z])\n",
        "\n",
        "        if(token.pos_ == 'PRON' and token.is_sent_start and token.text in prn_lst):\n",
        "          target=prev_target\n",
        "          \n",
        "\n",
        "        if (token.dep_=='neg'):   #for negative\n",
        "          neg_prefix = 'not'\n",
        "          add_neg_pfx = True #flag\n",
        "\n",
        "          \n",
        "          # for child in doc:\n",
        "          #   if (child.pos_ == 'NOUN'):\n",
        "          #     target=child.text\n",
        "          #     print(target)\n",
        "              \n",
        "          #   if (child.pos_ != \"ADJ\" ):\n",
        "          #     for child in doc:\n",
        "          #       if(target):\n",
        "          #         opinion_term= neg_prefix\n",
        "                \n",
        "          # if (flag_punct):            #############                     add punct \"!\"\n",
        "          #   for i in range(count_punct):\n",
        "          #     opinion_term=opinion_term + '!' \n",
        "          # aspects.append({'aspect': target, 'opinion': opinion_term})\n",
        "          # feautures_term.append(opinion_term)\n",
        "          # feature.append(target)\n",
        "          # raw_txt.append(sent)\n",
        "          # prev_target=target\n",
        "          # print(opinion_term)\n",
        "\n",
        "\n",
        "              \n",
        "            \n",
        "        \n",
        "            \n",
        "\n",
        "        if (token.pos_=='ADJ'):  #too losy\n",
        "          if (token.is_sent_start):\n",
        "            for tok1 in doc:\n",
        "              if (tok1.pos_=='NOUN' or tok1.pos_=='PROPN'):\n",
        "                target=tok1.text\n",
        "              else:\n",
        "                target=prev_target\n",
        "\n",
        "             \n",
        "          prepend=''\n",
        "          for child in token.children:\n",
        "            if (child.pos_=='ADV' and child.is_sent_start):\n",
        "              target=prev_target\n",
        "            if (child.pos_=='ADJ' and child.dep_ is 'amod'):\n",
        "              prepend += child.text+' '\n",
        "              \n",
        "            if (child.pos_ != 'ADV'):\n",
        "              continue\n",
        "            \n",
        "            prepend += child.text + ' '\n",
        "\n",
        "            \n",
        "          opinion_term = prepend + token.text      \n",
        "\n",
        "          if (add_neg_pfx): #if(True)\n",
        "            opinion_term = neg_prefix +' '+ opinion_term    #not very good\n",
        "          else:\n",
        "            opinion_term = opinion_term   #very good\n",
        "            \n",
        "          if ((target=='') or (opinion_term=='')):\n",
        "            continue\n",
        "          else: \n",
        "            if (flag_punct):            #############       add punct \"!\"\n",
        "              for i in range(count_punct): #good\n",
        "                opinion_term=opinion_term + '!' #good!!!\n",
        "            aspects.append({'aspect': target, 'opinion': opinion_term})\n",
        "            feautures_term.append(opinion_term)\n",
        "            feature.append(target)\n",
        "            raw_txt.append(sent)\n",
        "            prev_target=target\n",
        "            z=y.get(target)\n",
        "            weight.append(x[value][z])\n",
        "        \n",
        "\n",
        "print(aspects)\n"
      ],
      "execution_count": null,
      "outputs": [
        {
          "output_type": "stream",
          "name": "stdout",
          "text": [
            "the food is lossy and too salty\n",
            "hotel is good and has helpful staff\n",
            "The touchscreen is smooth but the battery life is not good\n",
            "The laptop is heavy to carry\n",
            "[{'aspect': 'food', 'opinion': 'lossy'}, {'aspect': 'food', 'opinion': 'too salty'}, {'aspect': 'hotel', 'opinion': 'good'}, {'aspect': 'staff', 'opinion': 'helpful'}, {'aspect': 'touchscreen', 'opinion': 'smooth'}, {'aspect': 'battery life', 'opinion': 'not good'}, {'aspect': 'laptop', 'opinion': 'heavy'}]\n"
          ]
        }
      ]
    },
    {
      "cell_type": "markdown",
      "metadata": {
        "id": "s4J6hxAHlGJo"
      },
      "source": [
        "# TF-IDF"
      ]
    },
    {
      "cell_type": "code",
      "metadata": {
        "id": "zHAT0OAIABzQ"
      },
      "source": [
        "\n",
        "# import required module\n",
        "from sklearn.feature_extraction.text import TfidfVectorizer\n",
        "# create object\n",
        "tfidf = TfidfVectorizer()\n",
        "# get tf-df values\n",
        "result = tfidf.fit_transform(df['clean_review'])\n",
        "x=result.toarray()\n",
        "y=tfidf.vocabulary_"
      ],
      "execution_count": null,
      "outputs": []
    },
    {
      "cell_type": "code",
      "metadata": {
        "colab": {
          "base_uri": "https://localhost:8080/",
          "height": 753
        },
        "id": "a4uVrpp3mmYt",
        "outputId": "0d28cf70-74de-4727-bcfe-e2b2e8badafb"
      },
      "source": [
        "df"
      ],
      "execution_count": null,
      "outputs": [
        {
          "output_type": "execute_result",
          "data": {
            "text/html": [
              "<div>\n",
              "<style scoped>\n",
              "    .dataframe tbody tr th:only-of-type {\n",
              "        vertical-align: middle;\n",
              "    }\n",
              "\n",
              "    .dataframe tbody tr th {\n",
              "        vertical-align: top;\n",
              "    }\n",
              "\n",
              "    .dataframe thead th {\n",
              "        text-align: right;\n",
              "    }\n",
              "</style>\n",
              "<table border=\"1\" class=\"dataframe\">\n",
              "  <thead>\n",
              "    <tr style=\"text-align: right;\">\n",
              "      <th></th>\n",
              "      <th>rid</th>\n",
              "      <th>review</th>\n",
              "      <th>Opinions__Opinion__category</th>\n",
              "      <th>Opinions__Opinion__polarity</th>\n",
              "      <th>raw_review</th>\n",
              "      <th>clean_review</th>\n",
              "    </tr>\n",
              "  </thead>\n",
              "  <tbody>\n",
              "    <tr>\n",
              "      <th>0</th>\n",
              "      <td>1004293</td>\n",
              "      <td>judging from previous posts this used to be a ...</td>\n",
              "      <td>RESTAURANT#GENERAL</td>\n",
              "      <td>negative</td>\n",
              "      <td>Judging from previous posts this used to be a ...</td>\n",
              "      <td>judging from previous posts this used to be a ...</td>\n",
              "    </tr>\n",
              "    <tr>\n",
              "      <th>1</th>\n",
              "      <td>1004293</td>\n",
              "      <td>we, there were four of us, arrived at noon - t...</td>\n",
              "      <td>SERVICE#GENERAL</td>\n",
              "      <td>negative</td>\n",
              "      <td>We, there were four of us, arrived at noon - t...</td>\n",
              "      <td>we, there were four of us, arrived at noon - t...</td>\n",
              "    </tr>\n",
              "    <tr>\n",
              "      <th>2</th>\n",
              "      <td>1004293</td>\n",
              "      <td>they never brought us complimentary noodles, i...</td>\n",
              "      <td>FOOD#QUALITY</td>\n",
              "      <td>negative</td>\n",
              "      <td>They never brought us complimentary noodles, i...</td>\n",
              "      <td>they never brought us complimentary noodles, i...</td>\n",
              "    </tr>\n",
              "    <tr>\n",
              "      <th>3</th>\n",
              "      <td>1004293</td>\n",
              "      <td>the food was lousy - too sweet or too salty an...</td>\n",
              "      <td>FOOD#STYLE_OPTIONS</td>\n",
              "      <td>negative</td>\n",
              "      <td>The food was lousy - too sweet or too salty an...</td>\n",
              "      <td>the food was lousy - too sweet or too salty an...</td>\n",
              "    </tr>\n",
              "    <tr>\n",
              "      <th>4</th>\n",
              "      <td>1004293</td>\n",
              "      <td>after all that, they complained to me about th...</td>\n",
              "      <td>FOOD#STYLE_OPTIONS</td>\n",
              "      <td>negative</td>\n",
              "      <td>After all that, they complained to me about th...</td>\n",
              "      <td>after all that, they complained to me about th...</td>\n",
              "    </tr>\n",
              "    <tr>\n",
              "      <th>...</th>\n",
              "      <td>...</td>\n",
              "      <td>...</td>\n",
              "      <td>...</td>\n",
              "      <td>...</td>\n",
              "      <td>...</td>\n",
              "      <td>...</td>\n",
              "    </tr>\n",
              "    <tr>\n",
              "      <th>2033</th>\n",
              "      <td>493013</td>\n",
              "      <td>i love their thai</td>\n",
              "      <td>RESTAURANT#PRICES</td>\n",
              "      <td>positive</td>\n",
              "      <td>I LOVE their Thai</td>\n",
              "      <td>i love their thai</td>\n",
              "    </tr>\n",
              "    <tr>\n",
              "      <th>2034</th>\n",
              "      <td>493013</td>\n",
              "      <td>noodles with shrimp and chicken and coconut ju...</td>\n",
              "      <td>FOOD#QUALITY</td>\n",
              "      <td>positive</td>\n",
              "      <td>noodles with shrimp and chicken and coconut ju...</td>\n",
              "      <td>noodles with shrimp and chicken and coconut ju...</td>\n",
              "    </tr>\n",
              "    <tr>\n",
              "      <th>2035</th>\n",
              "      <td>493013</td>\n",
              "      <td>i was in love with pongsri on 48th, but compar...</td>\n",
              "      <td>AMBIENCE#GENERAL</td>\n",
              "      <td>positive</td>\n",
              "      <td>I was in love with Pongsri on 48th, but compar...</td>\n",
              "      <td>i was in love with pongsri on th, but compared...</td>\n",
              "    </tr>\n",
              "    <tr>\n",
              "      <th>2036</th>\n",
              "      <td>493013</td>\n",
              "      <td>i will go back to suan soon!</td>\n",
              "      <td>SERVICE#GENERAL</td>\n",
              "      <td>positive</td>\n",
              "      <td>I will go back to Suan soon!</td>\n",
              "      <td>i will go back to suan soon!</td>\n",
              "    </tr>\n",
              "    <tr>\n",
              "      <th>2037</th>\n",
              "      <td>493013</td>\n",
              "      <td>in summer-eat outside on a terrace (another gr...</td>\n",
              "      <td>SERVICE#GENERAL</td>\n",
              "      <td>positive</td>\n",
              "      <td>In summer-eat outside on a terrace (another gr...</td>\n",
              "      <td>in summer-eat outside on a terrace (another gr...</td>\n",
              "    </tr>\n",
              "  </tbody>\n",
              "</table>\n",
              "<p>2038 rows × 6 columns</p>\n",
              "</div>"
            ],
            "text/plain": [
              "          rid  ...                                       clean_review\n",
              "0     1004293  ...  judging from previous posts this used to be a ...\n",
              "1     1004293  ...  we, there were four of us, arrived at noon - t...\n",
              "2     1004293  ...  they never brought us complimentary noodles, i...\n",
              "3     1004293  ...  the food was lousy - too sweet or too salty an...\n",
              "4     1004293  ...  after all that, they complained to me about th...\n",
              "...       ...  ...                                                ...\n",
              "2033   493013  ...                                 i love their thai \n",
              "2034   493013  ...  noodles with shrimp and chicken and coconut ju...\n",
              "2035   493013  ...  i was in love with pongsri on th, but compared...\n",
              "2036   493013  ...                      i will go back to suan soon! \n",
              "2037   493013  ...  in summer-eat outside on a terrace (another gr...\n",
              "\n",
              "[2038 rows x 6 columns]"
            ]
          },
          "metadata": {},
          "execution_count": 36
        }
      ]
    },
    {
      "cell_type": "markdown",
      "metadata": {
        "id": "HIaEz7KiNoW7"
      },
      "source": [
        "## Aspect and Opinion Output "
      ]
    },
    {
      "cell_type": "code",
      "metadata": {
        "id": "8w2oHH4h4YPQ",
        "colab": {
          "base_uri": "https://localhost:8080/"
        },
        "outputId": "973df77a-a70d-4e2f-b151-43312d652f90"
      },
      "source": [
        "#experiment for get not                              final updated compound noun\n",
        "prn_lst=['it', 'this', 'that']\n",
        "aspects_main = []\n",
        "feature_main =[]\n",
        "feautures_term_main =[]\n",
        "aspects = []\n",
        "feature =[]\n",
        "feautures_term =[]\n",
        "raw_txt=[]\n",
        "weight=[]\n",
        "a=df['rid'].iloc[0]\n",
        "prev_target=''\n",
        "for value,txt in enumerate( df['clean_review']):\n",
        "  rid = df['rid'].iloc[value]\n",
        " \n",
        "  if (rid==a):\n",
        "    a=rid\n",
        "    \n",
        "  elif (rid != a):\n",
        "    prev_target=''\n",
        "  \n",
        "  \n",
        "  txt=str(txt)\n",
        "  doc_main = nlp(txt)\n",
        "  for i, sentence in enumerate(doc_main.sents):\n",
        "    sentence=str(sentence)\n",
        "    sentence= re.split(r'([.,;:-])|\\s+(?:but|and|or|that|if|because|with)\\s+' ,sentence) \n",
        "    # the food is salty \n",
        "    # too losy\n",
        "    flag_target=0\n",
        "    for sent in sentence:\n",
        "      sent=str(sent)\n",
        "     \n",
        "      doc = nlp(sent)\n",
        "      \n",
        "   \n",
        "      if flag_target==0:\n",
        "        target = ''\n",
        "      \n",
        "      opinion_term = ''\n",
        "      add_neg_pfx = False\n",
        "      count_punct=0\n",
        "      flag_punct=0\n",
        "      for token in doc:\n",
        "        if (flag_punct==0):\n",
        "          for tok in doc:\n",
        "            if(tok.is_punct):\n",
        "              if (tok.text == \"!\"): #hotel is good!!!\n",
        "                count_punct =count_punct + 1      #3\n",
        "                flag_punct=1\n",
        "        if  (token.dep_ == 'nsubj' and token.pos_=='NOUN') or (token.pos_=='NOUN') or (token.pos_=='PROPN') :\n",
        "          compound_flag=0\n",
        "          for token in [token for token in doc if token.dep_ == 'compound' ]: # Get list of compounds in doc\n",
        "            if(doc[token.head.i].pos_ =='NOUN') or (doc[token.head.i].pos_=='PROPN'):\n",
        "              noun = doc[token.i: token.head.i + 1]\n",
        "              compound_flag=1\n",
        "            else:\n",
        "              noun= token\n",
        "          \n",
        "          if (compound_flag):\n",
        "            target=str(noun)\n",
        "          else:\n",
        "            target=token.text\n",
        "\n",
        "          for j in token.children:\n",
        "            if (j.pos_=='ADJ'):           ########################               \n",
        "              prepend = ''\n",
        "              flag=0 \n",
        "              opinion_term=j.text\n",
        "              \n",
        "              for child in j.children:       ### have no child here \n",
        "                if (child.dep_=='neg'):\n",
        "                  flag=1\n",
        "                elif (child.pos_ != 'ADV' ): #and child.is_left_punct!=True\n",
        "                  continue\n",
        "                prepend += child.text + ' '\n",
        "                if (flag==0):\n",
        "                  opinion_term = prepend + opinion_term\n",
        "                elif (flag==1):\n",
        "                  opinion_term = prepend + opinion_term\n",
        "                else:\n",
        "                  opinion_term=opinion_term\n",
        "                  \n",
        "              if ((target=='') or (opinion_term=='')):\n",
        "                continue\n",
        "              else: \n",
        "                if (flag_punct):            #############                     add punct \"!\"\n",
        "                  for i in range(count_punct):\n",
        "                    opinion_term=opinion_term + '!'\n",
        "                aspects.append({'aspect': target, 'opinion': opinion_term})\n",
        "                feautures_term.append(opinion_term)\n",
        "                feature.append(target)\n",
        "                raw_txt.append(sent)\n",
        "                prev_target=target\n",
        "                z=y.get(target)\n",
        "                weight.append(x[value][z])\n",
        "\n",
        "            elif (j.dep_ is 'amod' and j.pos_ is 'ADJ') :    #primary condition\n",
        "              opinion_term =j.text\n",
        "              for k in j.lefts:\n",
        "                if k.dep_ is 'advmod': #secondary condition to get adjective of adjectives\n",
        "                  opinion_term=k.text+' '+opinion_term\n",
        "              if ((target=='') or (opinion_term=='')):\n",
        "                continue\n",
        "              else: \n",
        "                if (flag_punct):            #############                     add punct \"!\"\n",
        "                  for i in range(count_punct):\n",
        "                    opinion_term=opinion_term + '!'\n",
        "                aspects.append({'aspect': target, 'opinion': opinion_term})\n",
        "                feautures_term.append(opinion_term)\n",
        "                feature.append(target)\n",
        "                raw_txt.append(sent)\n",
        "                prev_target=target\n",
        "                z=y.get(target)\n",
        "                weight.append(x[value][z])\n",
        "\n",
        "        if(token.pos_ == 'PRON' and token.is_sent_start and token.text in prn_lst):\n",
        "          target=prev_target\n",
        "          \n",
        "\n",
        "        if (token.dep_=='neg'):   #for negative\n",
        "          neg_prefix = 'not'\n",
        "          add_neg_pfx = True #flag\n",
        "\n",
        "          \n",
        "          # for child in doc:\n",
        "          #   if (child.pos_ == 'NOUN'):\n",
        "          #     target=child.text\n",
        "          #     print(target)\n",
        "              \n",
        "          #   if (child.pos_ != \"ADJ\" ):\n",
        "          #     for child in doc:\n",
        "          #       if(target):\n",
        "          #         opinion_term= neg_prefix\n",
        "                \n",
        "          # if (flag_punct):            #############                     add punct \"!\"\n",
        "          #   for i in range(count_punct):\n",
        "          #     opinion_term=opinion_term + '!' \n",
        "          # aspects.append({'aspect': target, 'opinion': opinion_term})\n",
        "          # feautures_term.append(opinion_term)\n",
        "          # feature.append(target)\n",
        "          # raw_txt.append(sent)\n",
        "          # prev_target=target\n",
        "          # print(opinion_term)\n",
        "\n",
        "\n",
        "              \n",
        "            \n",
        "        \n",
        "            \n",
        "\n",
        "        if (token.pos_=='ADJ'):  #too losy\n",
        "          if (token.is_sent_start):\n",
        "            target=prev_target #food\n",
        "          prepend=''\n",
        "          for child in token.children:\n",
        "            if (child.pos_=='ADV' and child.is_sent_start):\n",
        "              target=prev_target\n",
        "            if (child.pos_=='ADJ' and child.dep_ is 'amod'):\n",
        "              prepend += child.text+' '\n",
        "              \n",
        "            if (child.pos_ != 'ADV'):\n",
        "              continue\n",
        "            \n",
        "            prepend += child.text + ' '\n",
        "\n",
        "            \n",
        "          opinion_term = prepend + token.text      \n",
        "\n",
        "          if (add_neg_pfx): #if(True)\n",
        "            opinion_term = neg_prefix +' '+ opinion_term    #not very good\n",
        "          else:\n",
        "            opinion_term = opinion_term   #very good\n",
        "            \n",
        "          if ((target=='') or (opinion_term=='')):\n",
        "            continue\n",
        "          else: \n",
        "            if (flag_punct):            #############       add punct \"!\"\n",
        "              for i in range(count_punct): #good\n",
        "                opinion_term=opinion_term + '!' #good!!!\n",
        "            aspects.append({'aspect': target, 'opinion': opinion_term})\n",
        "            feautures_term.append(opinion_term)\n",
        "            feature.append(target)\n",
        "            raw_txt.append(sent)\n",
        "            prev_target=target\n",
        "            z=y.get(target)\n",
        "            weight.append(x[value][z])\n",
        "        \n",
        "\n",
        "        \n",
        "\n",
        "\n",
        "       \n",
        "print(aspects)\n",
        "#  Went on a 3 day oyster binge, with Fish bringing up the closing, and I am so glad this was the place it O trip ended, \n",
        "#  because it was so great! Service was devine, oysters where a sensual as they come, \n",
        "#  and the price can't be beat!!! You can't go wrong here. You can't go wrong here."
      ],
      "execution_count": null,
      "outputs": [
        {
          "output_type": "stream",
          "name": "stdout",
          "text": [
            "[{'aspect': 'posts', 'opinion': 'previous'}, {'aspect': 'posts', 'opinion': 'good'}, {'aspect': 'place', 'opinion': 'good'}, {'aspect': 'place', 'opinion': 'empty'}, {'aspect': 'noodles', 'opinion': 'complimentary'}, {'aspect': 'food', 'opinion': 'lousy'}, {'aspect': 'food', 'opinion': 'too salty'}, {'aspect': 'portions', 'opinion': 'tiny'}, {'aspect': 'tip', 'opinion': 'small'}, {'aspect': 'times', 'opinion': 'many'}, {'aspect': 'smith street', 'opinion': 'best'}, {'aspect': 'duck confit', 'opinion': 'amazing'}, {'aspect': 'wine list', 'opinion': 'interesting'}, {'aspect': 'values', 'opinion': 'many'}, {'aspect': 'values', 'opinion': 'good'}, {'aspect': 'service', 'opinion': 'devine'}, {'aspect': 'service', 'opinion': 'excellent'}, {'aspect': 'decor', 'opinion': 'cool'}, {'aspect': 'decor', 'opinion': 'understated'}, {'aspect': 'breast', 'opinion': 'special'}, {'aspect': 'breast', 'opinion': 'last'}, {'aspect': 'breast', 'opinion': 'incredible'}, {'aspect': 'visit', 'opinion': 'next'}, {'aspect': 'restaurant', 'opinion': 'next'}, {'aspect': 'door', 'opinion': 'next'}, {'aspect': 'sake list', 'opinion': 'extensive'}, {'aspect': 'haze', 'opinion': 'purple'}, {'aspect': 'tuna roll', 'opinion': 'unusually good'}, {'aspect': 'shrimp tempura', 'opinion': 'awesome'}, {'aspect': 'service', 'opinion': 'great!'}, {'aspect': 'pony', 'opinion': 'pink'}, {'aspect': 'spot', 'opinion': 'perfect'}, {'aspect': 'home', 'opinion': 'literate'}, {'aspect': 'heart', 'opinion': 'literate'}, {'aspect': 'reason', 'opinion': 'sheer'}, {'aspect': 'convenience', 'opinion': 'sheer'}, {'aspect': 'food', 'opinion': 'decent'}, {'aspect': 'taste', 'opinion': 'bad'}, {'aspect': 'bit', 'opinion': 'little'}, {'aspect': 'experience', 'opinion': 'pleasant'}, {'aspect': 'time', 'opinion': 'last'}, {'aspect': 'time', 'opinion': 'pretty empty'}, {'aspect': 'york area', 'opinion': 'best'}, {'aspect': 'york area', 'opinion': 'japanese'}, {'aspect': 'experience', 'opinion': 'great'}, {'aspect': 'food', 'opinion': 'great'}, {'aspect': 'service', 'opinion': 'top'}, {'aspect': 'notch', 'opinion': 'top'}, {'aspect': 'food', 'opinion': 'rather good'}, {'aspect': 'ambience', 'opinion': 'pretty'}, {'aspect': 'ambience', 'opinion': 'nice'}, {'aspect': 'lunch', 'opinion': 'casual'}, {'aspect': 'lunch', 'opinion': 'best'}, {'aspect': 'service', 'opinion': 'great'}, {'aspect': 'service', 'opinion': 'great'}, {'aspect': 'food', 'opinion': 'great'}, {'aspect': 'food', 'opinion': 'reasonable'}, {'aspect': 'price', 'opinion': 'reasonable'}, {'aspect': 'beginning', 'opinion': 'great'}, {'aspect': 'evening', 'opinion': 'great'}, {'aspect': 'cake dessert', 'opinion': 'incredible'}, {'aspect': 'cake dessert', 'opinion': 'incredible'}, {'aspect': 'restaurant', 'opinion': 'tiny'}, {'aspect': 'restaurant', 'opinion': 'as cozy'}, {'aspect': 'flair', 'opinion': 'certain'}, {'aspect': 'flair', 'opinion': 'parisian'}, {'aspect': 'food', 'opinion': 'average'}, {'aspect': 'food', 'opinion': 'average'}, {'aspect': 'soup', 'opinion': 'not overly impressive'}, {'aspect': 'desserts', 'opinion': 'not brilliant'}, {'aspect': 'ingredients', 'opinion': 'fancy'}, {'aspect': 'ingredients', 'opinion': 'fancy'}, {'aspect': 'ingredients', 'opinion': 'not good'}, {'aspect': 'pizza', 'opinion': 'good'}, {'aspect': 'crust', 'opinion': 'not right'}, {'aspect': 'disappointment', 'opinion': 'big'}, {'aspect': 'meals', 'opinion': 'best'}, {'aspect': 'seafood', 'opinion': 'amazing'}, {'aspect': 'menu', 'opinion': 'great'}, {'aspect': 'surprises', 'opinion': 'great'}, {'aspect': 'combination', 'opinion': 'super'}, {'aspect': 'combination', 'opinion': 'fresh'}, {'aspect': 'ingredients', 'opinion': 'fresh'}, {'aspect': 'dishes', 'opinion': 'unusual'}, {'aspect': 'dishes', 'opinion': 'really delicious'}, {'aspect': 'village gem', 'opinion': 'east'}, {'aspect': 'village gem', 'opinion': 'east'}, {'aspect': 'village gem', 'opinion': 'east'}, {'aspect': 'village gem', 'opinion': 'east'}, {'aspect': 'bistro fare', 'opinion': 'basic'}, {'aspect': 'bistro fare', 'opinion': 'french'}, {'aspect': 'bistro fare', 'opinion': 'basic'}, {'aspect': 'bistro fare', 'opinion': 'french'}, {'aspect': 'specials', 'opinion': 'good'}, {'aspect': 'specials', 'opinion': 'lively'}, {'aspect': 'atmosphere', 'opinion': 'lively'}, {'aspect': 'weather', 'opinion': 'warm'}, {'aspect': 'winter', 'opinion': 'cozy'}, {'aspect': 'wine', 'opinion': 'decent'}, {'aspect': 'wine', 'opinion': 'reasonable'}, {'aspect': 'prices', 'opinion': 'reasonable'}, {'aspect': 'kids', 'opinion': 'teenage'}, {'aspect': 'place', 'opinion': 'incredibly tiny'}, {'aspect': 'hostess', 'opinion': 'rude'}, {'aspect': 'point', 'opinion': 'offensive'}, {'aspect': 'food', 'opinion': 'bland'}, {'aspect': 'place', 'opinion': 'many'}, {'aspect': 'times', 'opinion': 'many'}, {'aspect': 'food', 'opinion': 'great'}, {'aspect': 'wait', 'opinion': 'short'}, {'aspect': 'glass', 'opinion': 'great'}, {'aspect': 'service', 'opinion': 'fast'}, {'aspect': 'new york', 'opinion': 'so friendly'}, {'aspect': 'restaurant', 'opinion': 'fun'}, {'aspect': 'pizza', 'opinion': 'yummy'}, {'aspect': 'way', 'opinion': 'expensive'}, {'aspect': 'way', 'opinion': 'expensive'}, {'aspect': 'place', 'opinion': 'great'}, {'aspect': 'group', 'opinion': 'huge'}, {'aspect': 'waitress', 'opinion': 'very patient'}, {'aspect': 'food', 'opinion': 'phenomenal!'}, {'aspect': 'service', 'opinion': 'prompt'}, {'aspect': 'service', 'opinion': 'great'}, {'aspect': 'side', 'opinion': 'pricey'}, {'aspect': 'side', 'opinion': 'worth!'}, {'aspect': 'pizza', 'opinion': 'great'}, {'aspect': 'wait', 'opinion': 'small'}, {'aspect': 'wait', 'opinion': 'shorter'}, {'aspect': 'end', 'opinion': 'magnificent'}, {'aspect': 'block', 'opinion': 'magnificent'}, {'aspect': 'thai food', 'opinion': 'excellent'}, {'aspect': 'variety', 'opinion': 'great'}, {'aspect': 'atmosphere', 'opinion': 'not greatest'}, {'aspect': 'friend', 'opinion': 'last'}, {'aspect': 'saturday', 'opinion': 'last'}, {'aspect': 'time', 'opinion': 'long'}, {'aspect': 'rolls', 'opinion': 'big'}, {'aspect': 'sashimi', 'opinion': 'not fresh'}, {'aspect': 'piece', 'opinion': 'first'}, {'aspect': 'crunchy tuna', 'opinion': 'crunchy'}, {'aspect': 'food', 'opinion': 'amazing'}, {'aspect': 'service', 'opinion': 'prompt'}, {'aspect': 'service', 'opinion': 'helpful'}, {'aspect': 'steak tartare', 'opinion': 'great'}, {'aspect': 'restaurant', 'opinion': 'rather warm'}, {'aspect': 'kitchen', 'opinion': 'open'}, {'aspect': 'gigondas', 'opinion': 'worth'}, {'aspect': 'house champagne', 'opinion': 'great'}, {'aspect': 'bit', 'opinion': 'packed'}, {'aspect': 'vibe', 'opinion': 'good'}, {'aspect': 'vibe', 'opinion': 'best'}, {'aspect': 'vibe', 'opinion': 'french'}, {'aspect': 'food', 'opinion': 'best'}, {'aspect': 'food', 'opinion': 'french'}, {'aspect': 'response', 'opinion': 'good'}, {'aspect': 'response', 'opinion': 'good'}, {'aspect': 'response', 'opinion': 'good'}, {'aspect': 'reviewer', 'opinion': 'previous'}, {'aspect': 'saul', 'opinion': 'great'}, {'aspect': 'neighborhood', 'opinion': 'great'}, {'aspect': 'food', 'opinion': 'great!'}, {'aspect': 'experiences', 'opinion': 'wonderful'}, {'aspect': 'occasion', 'opinion': 'special'}, {'aspect': 'occasion', 'opinion': 'intimate'}, {'aspect': 'setting', 'opinion': 'intimate'}, {'aspect': 'occasion', 'opinion': 'special'}, {'aspect': 'occasion', 'opinion': 'intimate'}, {'aspect': 'setting', 'opinion': 'intimate'}, {'aspect': 'occasion', 'opinion': 'special'}, {'aspect': 'occasion', 'opinion': 'intimate'}, {'aspect': 'setting', 'opinion': 'intimate'}, {'aspect': 'occasion', 'opinion': 'special'}, {'aspect': 'occasion', 'opinion': 'intimate'}, {'aspect': 'setting', 'opinion': 'intimate'}, {'aspect': 'moules', 'opinion': 'excellent'}, {'aspect': 'lobster ravioli', 'opinion': 'very salty!'}, {'aspect': 'maitre d', 'opinion': 'pretty rude'}, {'aspect': 'foot', 'opinion': 'second'}, {'aspect': 'time', 'opinion': 'second'}, {'aspect': 'dessert', 'opinion': 'tiny'}, {'aspect': 'deal', 'opinion': 'big'}, {'aspect': 'raga', 'opinion': 'romantic'}, {'aspect': 'food', 'opinion': 'exotic'}, {'aspect': 'delight', 'opinion': 'delicious'}, {'aspect': 'combinations', 'opinion': 'delicious'}, {'aspect': 'staff', 'opinion': 'incredibly helpful'}, {'aspect': 'staff', 'opinion': 'attentive'}, {'aspect': 'beers', 'opinion': 'interesting'}, {'aspect': 'restaurants', 'opinion': 'favorite'}, {'aspect': 'server', 'opinion': 'very helpful'}, {'aspect': 'server', 'opinion': 'friendly'}, {'aspect': 'family', 'opinion': 'whole'}, {'aspect': 'family', 'opinion': 'next'}, {'aspect': 'time', 'opinion': 'next'}, {'aspect': 'food', 'opinion': 'good'}, {'aspect': 'wasabe potatoes', 'opinion': 'excellent'}, {'aspect': 'atmosphere', 'opinion': 'outdoor'}, {'aspect': 'avenue', 'opinion': 'cool'}, {'aspect': 'evening', 'opinion': 'cool'}, {'aspect': 'evening', 'opinion': 'wonderful'}, {'aspect': 'service', 'opinion': 'prompt'}, {'aspect': 'service', 'opinion': 'courteous'}, {'aspect': 'food restaurant', 'opinion': 'fast'}, {'aspect': 'food restaurant', 'opinion': 'fast'}, {'aspect': 'food restaurant', 'opinion': 'fast'}, {'aspect': 'food restaurant', 'opinion': 'fast'}, {'aspect': 'restaurant quality', 'opinion': 'fine'}, {'aspect': 'restaurant quality', 'opinion': 'fine'}, {'aspect': 'restaurant quality', 'opinion': 'fine'}, {'aspect': 'choices', 'opinion': 'different'}, {'aspect': 'choices', 'opinion': 'own'}, {'aspect': 'quiet', 'opinion': 'perfect'}, {'aspect': 'quiet', 'opinion': 'delicious'}, {'aspect': 'accompaniment', 'opinion': 'delicious'}, {'aspect': 'wan', 'opinion': 'warm'}, {'aspect': 'find', 'opinion': 'excellent!'}, {'aspect': 'times', 'opinion': 'many'}, {'aspect': 'store', 'opinion': 'original'}, {'aspect': 'floor walk', 'opinion': 'second'}, {'aspect': 'floor walk', 'opinion': 'second'}, {'aspect': 'sushi bar', 'opinion': 'closer'}, {'aspect': 'sea', 'opinion': 'urchin'}, {'aspect': 'fish', 'opinion': 'yellow'}, {'aspect': 'tail', 'opinion': 'yellow'}, {'aspect': 'sushi restaurants', 'opinion': 'favorite'}, {'aspect': 'rose', 'opinion': 'special'}, {'aspect': 'roll', 'opinion': 'special'}, {'aspect': 'service', 'opinion': 'very good'}, {'aspect': 'service', 'opinion': 'intrusive'}, {'aspect': 'food', 'opinion': 'very good'}, {'aspect': 'fat', 'opinion': 'more'}, {'aspect': 'list selection', 'opinion': 'good'}, {'aspect': 'decour', 'opinion': 'traditional'}, {'aspect': 'decour', 'opinion': 'french'}, {'aspect': 'decour', 'opinion': 'pleasant'}, {'aspect': 'hall', 'opinion': 'rather noisy'}, {'aspect': 'restaurant', 'opinion': 'full'}, {'aspect': 'voices', 'opinion': 'able'}, {'aspect': 'cafe spice', 'opinion': 'cafe'}, {'aspect': 'service', 'opinion': 'good'}, {'aspect': 'seating', 'opinion': 'prompt'}, {'aspect': 'food', 'opinion': 'very good'}, {'aspect': 'side orders', 'opinion': 'raw'}, {'aspect': 'reviewers', 'opinion': 'many'}, {'aspect': 'reviewers', 'opinion': 'other'}, {'aspect': 'order', 'opinion': 'slow'}, {'aspect': 'decor', 'opinion': 'vibrant'}, {'aspect': 'decor', 'opinion': 'pleasing'}, {'aspect': 'decor', 'opinion': 'several'}, {'aspect': 'semi', 'opinion': 'several'}, {'aspect': 'semi', 'opinion': 'private'}, {'aspect': 'dining hall', 'opinion': 'right'}, {'aspect': 'eye', 'opinion': 'red'}, {'aspect': 'time', 'opinion': 'first'}, {'aspect': 'meal', 'opinion': 'best'}, {'aspect': 'area', 'opinion': 'more'}, {'aspect': 'restaurant', 'opinion': 'cute'}, {'aspect': 'diamond', 'opinion': 'rough'}, {'aspect': 'food', 'opinion': 'delicious'}, {'aspect': 'balance', 'opinion': 'perfect'}, {'aspect': 'places', 'opinion': 'favorite'}, {'aspect': 'place', 'opinion': 'great'}, {'aspect': 'surprise', 'opinion': 'fantastic'}, {'aspect': 'beers', 'opinion': 'different'}, {'aspect': 'husband', 'opinion': 'very happy'}, {'aspect': 'food', 'opinion': 'delicious'}, {'aspect': 'entertainment', 'opinion': 'great'}, {'aspect': 'bit', 'opinion': 'least'}, {'aspect': 'bit', 'opinion': 'not little'}, {'aspect': 'gem', 'opinion': 'little'}, {'aspect': 'bagel', 'opinion': 'huge'}, {'aspect': 'interior', 'opinion': 'soft'}, {'aspect': 'interior', 'opinion': 'fluffy'}, {'aspect': 'cream cheese', 'opinion': 'little'}, {'aspect': 'cream cheese', 'opinion': 'little messy'}, {'aspect': 'food', 'opinion': 'how delicous'}, {'aspect': 'guests', 'opinion': 'other'}, {'aspect': 'mayo', 'opinion': 'not much'}, {'aspect': 'lobster', 'opinion': 'fresh'}, {'aspect': 'guests', 'opinion': 'other'}, {'aspect': 'service', 'opinion': 'wonderful'}, {'aspect': 'staff', 'opinion': 'absolutely professional!!'}, {'aspect': 'waiters', 'opinion': 'not enough'}, {'aspect': 'knowledge', 'opinion': 'enough'}, {'aspect': 'party', 'opinion': 'large'}, {'aspect': 'chow', 'opinion': 'bland'}, {'aspect': 'part', 'opinion': 'oily'}, {'aspect': 'part', 'opinion': 'not most'}, {'aspect': 'dumplings', 'opinion': 'fried'}, {'aspect': 'dumplings', 'opinion': 'ordinary'}, {'aspect': 'service', 'opinion': 'only'}, {'aspect': 'thing', 'opinion': 'only'}, {'aspect': 'thing', 'opinion': 'good'}, {'aspect': 'thing', 'opinion': 'good'}, {'aspect': 'sushi', 'opinion': 'average'}, {'aspect': 'tuna', 'opinion': 'soggy'}, {'aspect': 'rolls', 'opinion': 'other'}, {'aspect': 'restaurant', 'opinion': 'fresh'}, {'aspect': 'restaurant', 'opinion': 'amazing'}, {'aspect': 'food', 'opinion': 'delicious'}, {'aspect': 'evening', 'opinion': 'romantic'}, {'aspect': 'work', 'opinion': 'good'}, {'aspect': 'vibe', 'opinion': 'great'}, {'aspect': 'husbands', 'opinion': 'perfect'}, {'aspect': 'husbands', 'opinion': 'dry'}, {'aspect': 'atmosphere', 'opinion': 'so much'}, {'aspect': 'day', 'opinion': 'hot'}, {'aspect': 'day', 'opinion': 'fabulous'}, {'aspect': 'ambience', 'opinion': 'so cute'}, {'aspect': 'salads', 'opinion': 'fantastic'}, {'aspect': 'lettuce', 'opinion': 'regular'}, {'aspect': 'salads', 'opinion': 'great'}, {'aspect': 'ingredients', 'opinion': 'organic'}, {'aspect': 'ingredients', 'opinion': 'real'}, {'aspect': 'plus', 'opinion': 'real'}, {'aspect': 'caesar salad', 'opinion': 'very nice'}, {'aspect': 'caesar salad', 'opinion': 'very nice'}, {'aspect': 'caesar salad', 'opinion': 'very nice'}, {'aspect': 'caesar salad', 'opinion': 'very nice'}, {'aspect': 'time', 'opinion': 'amazing'}, {'aspect': 'food', 'opinion': 'absolutely delicious'}, {'aspect': 'place', 'opinion': 'lovely'}, {'aspect': 'manager', 'opinion': 'sure'}, {'aspect': 'prices', 'opinion': 'high'}, {'aspect': 'food', 'opinion': 'good'}, {'aspect': 'food', 'opinion': 'bad'}, {'aspect': 'food', 'opinion': 'bad'}, {'aspect': 'service', 'opinion': 'bad'}, {'aspect': 'service', 'opinion': 'bad'}, {'aspect': 'service', 'opinion': 'bad'}, {'aspect': 'dishes', 'opinion': 'simple'}, {'aspect': 'hints', 'opinion': 'subtle'}, {'aspect': 'stuff', 'opinion': 'simple'}, {'aspect': 'pastis', 'opinion': 'simply wonderful'}, {'aspect': 'pastis', 'opinion': 'simply wonderful'}, {'aspect': 'pastis', 'opinion': 'simply wonderful'}, {'aspect': 'place', 'opinion': 'nice'}, {'aspect': 'place', 'opinion': 'cozy'}, {'aspect': 'place', 'opinion': 'good'}, {'aspect': 'pizza', 'opinion': 'good'}, {'aspect': 'mine', 'opinion': 'little'}, {'aspect': 'mine', 'opinion': 'still delicious'}, {'aspect': 'raddichio', 'opinion': 'of bitter'}, {'aspect': 'sangria', 'opinion': 'pretty tasty'}, {'aspect': 'sangria', 'opinion': 'good'}, {'aspect': 'sangria', 'opinion': 'hot'}, {'aspect': 'place', 'opinion': 'small'}, {'aspect': 'kendall square', 'opinion': 'more funky!'}, {'aspect': 'bombay beer', 'opinion': 'enough big'}, {'aspect': 'garlic naan', 'opinion': 'garlic'}, {'aspect': 'service', 'opinion': 'slow'}, {'aspect': 'people', 'opinion': 'friendly'}, {'aspect': 'place', 'opinion': 'nice'}, {'aspect': 'food', 'opinion': 'authentic'}, {'aspect': 'food', 'opinion': 'authentic italian'}, {'aspect': 'pizza', 'opinion': 'terrific'}, {'aspect': 'pasta', 'opinion': 'homemade'}, {'aspect': 'ambience', 'opinion': 'delightful'}, {'aspect': 'service', 'opinion': 'impeccable'}, {'aspect': 'service', 'opinion': 'impeccable'}, {'aspect': 'food', 'opinion': 'lousy'}, {'aspect': 'tuna', 'opinion': 'flavorless'}, {'aspect': 'service', 'opinion': 'horrible'}, {'aspect': 'service', 'opinion': 'great'}, {'aspect': 'warehouse', 'opinion': 'old'}, {'aspect': 'sushi', 'opinion': 'amazing!!!'}, {'aspect': 'thumbs', 'opinion': 'big!'}, {'aspect': 'ambient', 'opinion': 'excellent!'}, {'aspect': 'thai section', 'opinion': 'thai'}, {'aspect': 'thai section', 'opinion': 'thai'}, {'aspect': 'thai section', 'opinion': 'thai'}, {'aspect': 'thai section', 'opinion': 'thai'}, {'aspect': 'thai section', 'opinion': 'thai'}, {'aspect': 'thai section', 'opinion': 'thai'}, {'aspect': 'place', 'opinion': 'not good'}, {'aspect': 'meal', 'opinion': 'good'}, {'aspect': 'place', 'opinion': 'good'}, {'aspect': 'hang', 'opinion': 'good'}, {'aspect': 'time', 'opinion': 'next'}, {'aspect': 'appetizers', 'opinion': 'simple'}, {'aspect': 'appetizers', 'opinion': 'asian'}, {'aspect': 'place', 'opinion': 'other'}, {'aspect': 'night', 'opinion': 'other'}, {'aspect': 'time', 'opinion': 'great!'}, {'aspect': 'wine', 'opinion': 'excellent'}, {'aspect': 'one', 'opinion': 'nicest'}, {'aspect': 'one', 'opinion': 'outdoor'}, {'aspect': 'restaurants', 'opinion': 'nicest'}, {'aspect': 'restaurants', 'opinion': 'outdoor'}, {'aspect': 'night', 'opinion': 'snowy'}, {'aspect': 'place', 'opinion': 'not romantic'}, {'aspect': 'table', 'opinion': 'next'}, {'aspect': 'tables', 'opinion': 'way too close'}, {'aspect': 'menu', 'opinion': 'typical'}, {'aspect': 'menu', 'opinion': 'italian'}, {'aspect': 'restaurant', 'opinion': 'italian'}, {'aspect': 'wines', 'opinion': 'average'}, {'aspect': 'charm', 'opinion': 'italian'}, {'aspect': 'charm', 'opinion': 'constant'}, {'aspect': 'mille grazie', 'opinion': 'constant'}, {'aspect': 'mille grazie', 'opinion': 'constant'}, {'aspect': 'mille grazie', 'opinion': 'not proper'}, {'aspect': 'mille grazie', 'opinion': 'constant'}, {'aspect': 'factor', 'opinion': 'only'}, {'aspect': 'deficiencies', 'opinion': 'other'}, {'aspect': 'myagi', 'opinion': 'favorite'}, {'aspect': 'restaurants', 'opinion': 'favorite'}, {'aspect': 'place', 'opinion': 'negative'}, {'aspect': 'reviews', 'opinion': 'negative'}, {'aspect': 'service', 'opinion': 'bad'}, {'aspect': 'fish', 'opinion': 'fresh'}, {'aspect': 'place', 'opinion': 'so cool'}, {'aspect': 'service', 'opinion': 'prompt'}, {'aspect': 'service', 'opinion': 'curtious'}, {'aspect': 'food', 'opinion': 'great'}, {'aspect': 'food', 'opinion': 'great'}, {'aspect': 'service', 'opinion': 'great'}, {'aspect': 'service', 'opinion': 'pleasant'}, {'aspect': 'atmosphere', 'opinion': 'pleasant'}, {'aspect': 'dining room', 'opinion': 'quietly elegant'}, {'aspect': 'service', 'opinion': 'impeccable'}, {'aspect': 'service', 'opinion': 'unobtrusive'}, {'aspect': 'room', 'opinion': 'full'}, {'aspect': 'room', 'opinion': 'full'}, {'aspect': 'room', 'opinion': 'new'}, {'aspect': 'yorkers', 'opinion': 'new'}, {'aspect': 'yorkers', 'opinion': 'real'}, {'aspect': 'meal', 'opinion': 'real'}, {'aspect': 'meal', 'opinion': 'real'}, {'aspect': 'restaurant', 'opinion': 'real'}, {'aspect': 'clubhouse', 'opinion': 'not fabulous'}, {'aspect': 'experience', 'opinion': 'beautiful'}, {'aspect': 'service', 'opinion': 'top'}, {'aspect': 'notch', 'opinion': 'top'}, {'aspect': 'ambiance', 'opinion': 'wonderfull'}, {'aspect': 'staff', 'opinion': 'impeccable'}, {'aspect': 'service', 'opinion': 'impeccable'}, {'aspect': 'lobster bisque', 'opinion': 'lobster'}, {'aspect': 'england chowder', 'opinion': 'good'}, {'aspect': 'melts', 'opinion': 'divine'}, {'aspect': 'boyfriend', 'opinion': 'prime'}, {'aspect': 'rib', 'opinion': 'prime'}, {'aspect': 'rib', 'opinion': 'good'}, {'aspect': 'weekday', 'opinion': 'not little'}, {'aspect': 'bottles', 'opinion': 'little'}, {'aspect': 'food', 'opinion': 'least'}, {'aspect': 'excuses', 'opinion': 'next!!!!'}, {'aspect': 'excuses', 'opinion': 'few!!!!'}, {'aspect': 'wks', 'opinion': 'next!!!!'}, {'aspect': 'wks', 'opinion': 'few!!!!'}, {'aspect': 'food', 'opinion': 'terrific'}, {'aspect': 'portions', 'opinion': 'large'}, {'aspect': 'starter', 'opinion': 'different'}, {'aspect': 'wine list', 'opinion': 'excellent'}, {'aspect': 'wine list', 'opinion': 'excellent'}, {'aspect': 'wine list', 'opinion': 'excellent'}, {'aspect': 'year', 'opinion': 'old'}, {'aspect': 'characters', 'opinion': 'enjoyable'}, {'aspect': 'experience', 'opinion': 'enjoyable'}, {'aspect': 'time', 'opinion': 'good'}, {'aspect': 'table', 'opinion': 'many'}, {'aspect': 'service', 'opinion': 'slow'}, {'aspect': 'food', 'opinion': 'good'}, {'aspect': 'food', 'opinion': 'not great'}, {'aspect': 'food', 'opinion': 'not worth'}, {'aspect': 'service', 'opinion': 'quick'}, {'aspect': 'pizza', 'opinion': 'great'}, {'aspect': 'tea', 'opinion': 'iced'}, {'aspect': 'service', 'opinion': 'great'}, {'aspect': 'great', 'opinion': 'friendly'}, {'aspect': 'service', 'opinion': 'friendly'}, {'aspect': 'seating', 'opinion': 'fast'}, {'aspect': 'delivery', 'opinion': 'fast'}, {'aspect': 'sushi', 'opinion': 'excellent'}, {'aspect': 'midtown', 'opinion': 'best'}, {'aspect': 'bagel', 'opinion': 'best'}, {'aspect': 'bagels', 'opinion': 'always warm'}, {'aspect': 'bagels', 'opinion': 'enormous'}, {'aspect': 'cream cheeses', 'opinion': 'different'}, {'aspect': 'salads', 'opinion': 'great'}, {'aspect': 'lox', 'opinion': 'fresh'}, {'aspect': 'reviewer', 'opinion': 'previous'}, {'aspect': 'shabu', 'opinion': 'best'}, {'aspect': 'restaurant', 'opinion': 'local'}, {'aspect': 'prices', 'opinion': 'cheap'}, {'aspect': 'ambience', 'opinion': 'not ok'}, {'aspect': 'people', 'opinion': 'vegetarian'}, {'aspect': 'curry', 'opinion': 'green'}, {'aspect': 'quantity', 'opinion': 'very good'}, {'aspect': 'service', 'opinion': 'ok'}, {'aspect': 'food', 'opinion': 'delicious'}, {'aspect': 'specials', 'opinion': 'regular'}, {'aspect': 'menu', 'opinion': 'regular'}, {'aspect': 'secret', 'opinion': 'last'}, {'aspect': 'years', 'opinion': 'last'}, {'aspect': 'gods', 'opinion': 'mortal'}, {'aspect': 'prices', 'opinion': 'mortal'}, {'aspect': 'school', 'opinion': 'old'}, {'aspect': 'school', 'opinion': 'new'}, {'aspect': 'world', 'opinion': 'new'}, {'aspect': 'value exceptional everytime', 'opinion': 'exceptional'}, {'aspect': 'food', 'opinion': 'authentic'}, {'aspect': 'service', 'opinion': 'excellent'}, {'aspect': 'service', 'opinion': 'attentive'}, {'aspect': 'prices', 'opinion': 'wonderfully low'}, {'aspect': 'pizza', 'opinion': 'best!'}, {'aspect': 'staff', 'opinion': 'great'}, {'aspect': 'service', 'opinion': 'great!'}, {'aspect': 'food', 'opinion': 'good'}, {'aspect': 'staff', 'opinion': 'so horrible'}, {'aspect': 'waitress', 'opinion': 'incredibly rude'}, {'aspect': 'place', 'opinion': 'pricey'}, {'aspect': 'food', 'opinion': 'worth'}, {'aspect': 'amma', 'opinion': 'special'}, {'aspect': 'star chefs', 'opinion': 'own'}, {'aspect': 'dishes', 'opinion': 'most'}, {'aspect': 'dishes', 'opinion': 'average'}, {'aspect': 'dishes', 'opinion': 'too expensive'}, {'aspect': 'place', 'opinion': 'hard'}, {'aspect': 'day', 'opinion': 'hard'}, {'aspect': 'restraunt', 'opinion': 'indian'}, {'aspect': 'dal bukhara', 'opinion': 'good'}, {'aspect': 'places', 'opinion': 'more'}, {'aspect': 'locations', 'opinion': 'other'}, {'aspect': 'park s', 'opinion': 'simply disgusting'}, {'aspect': 'fish', 'opinion': 'not fresh'}, {'aspect': 'rice', 'opinion': 'old'}, {'aspect': 'sushi', 'opinion': 'worst'}, {'aspect': 'sushi', 'opinion': 'worst'}, {'aspect': 'lives', 'opinion': 'entire'}, {'aspect': 'sushi', 'opinion': 'very poor'}, {'aspect': 'quality', 'opinion': 'very poor'}, {'aspect': 'ingredients', 'opinion': 'fresh'}, {'aspect': 'ingredients', 'opinion': 'sliced'}, {'aspect': 'fish', 'opinion': 'sliced'}, {'aspect': 'soy sauce', 'opinion': 'very salty'}, {'aspect': 'soy sauce', 'opinion': 'low'}, {'aspect': 'waitstaffs', 'opinion': 'nice'}, {'aspect': 'times', 'opinion': 'very disappointing'}, {'aspect': 'dinner', 'opinion': 'ok'}, {'aspect': 'life', 'opinion': 'entire'}, {'aspect': 'surprise', 'opinion': 'great'}, {'aspect': 'theater', 'opinion': 'delicious'}, {'aspect': 'theater', 'opinion': 'beautiful'}, {'aspect': 'service', 'opinion': 'attentive'}, {'aspect': 'night', 'opinion': 'last'}, {'aspect': 'halibut', 'opinion': 'special'}, {'aspect': 'service', 'opinion': 'top'}, {'aspect': 'occassion', 'opinion': 'special'}, {'aspect': 'mark', 'opinion': 'attentive'}, {'aspect': 'waiter', 'opinion': 'attentive'}, {'aspect': 'experience', 'opinion': 'last'}, {'aspect': 'night', 'opinion': 'last'}, {'aspect': 'thai place', 'opinion': 'thai'}, {'aspect': 'thai place', 'opinion': 'thai'}, {'aspect': 'thai place', 'opinion': 'very unhappy'}, {'aspect': 'place', 'opinion': 'too much'}, {'aspect': 'ino', 'opinion': 'several'}, {'aspect': 'years', 'opinion': 'several'}, {'aspect': 'food', 'opinion': 'excellent'}, {'aspect': 'cheese plate', 'opinion': 'varied'}, {'aspect': 'cheese plate', 'opinion': 'great'}, {'aspect': 'bargain', 'opinion': 'great'}, {'aspect': 'selection', 'opinion': 'large'}, {'aspect': 'wine list', 'opinion': 'extensive'}, {'aspect': 'atmosphere', 'opinion': 'so great'}, {'aspect': 'food', 'opinion': 'very good'}, {'aspect': 'deal', 'opinion': 'great'}, {'aspect': 'self', 'opinion': 'great'}, {'aspect': 'wait staff', 'opinion': 'very freindly'}, {'aspect': 'town', 'opinion': 'freindly little'}, {'aspect': 'town', 'opinion': 'european'}, {'aspect': 'wait staff', 'opinion': 'very freindly'}, {'aspect': 'town', 'opinion': 'freindly little'}, {'aspect': 'town', 'opinion': 'european'}, {'aspect': 'cafe noir', 'opinion': 'not wrong'}, {'aspect': 'people', 'opinion': 'evil'}, {'aspect': 'people', 'opinion': 'incompetent!!'}, {'aspect': 'service', 'opinion': 'terrible'}, {'aspect': 'people', 'opinion': 'different'}, {'aspect': 'people', 'opinion': 'same'}, {'aspect': 'thing', 'opinion': 'same'}, {'aspect': 'tips', 'opinion': 'only'}, {'aspect': 'thing', 'opinion': 'only'}, {'aspect': 'waitress', 'opinion': 'more'}, {'aspect': 'set', 'opinion': 'truly unprofessional'}, {'aspect': 'cafe noir', 'opinion': 'cafe'}, {'aspect': 'cafe noir', 'opinion': 'good'}, {'aspect': 'cafe noir', 'opinion': 'cafe'}, {'aspect': 'one', 'opinion': 'current'}, {'aspect': 'one', 'opinion': 'great'}, {'aspect': 'place', 'opinion': 'great'}, {'aspect': 'pizza', 'opinion': 'consistently good'}, {'aspect': 'salads', 'opinion': 'delicious'}, {'aspect': 'way', 'opinion': 'delicious'}, {'aspect': 'service', 'opinion': 'average'}, {'aspect': 'place', 'opinion': 'great'}, {'aspect': 'ambience', 'opinion': 'so fun'}, {'aspect': 'prices', 'opinion': 'great'}, {'aspect': 'food', 'opinion': 'really tasty'}, {'aspect': 'price', 'opinion': 'popular'}, {'aspect': 'place', 'opinion': 'popular'}, {'aspect': 'atmosphere', 'opinion': 'excellent'}, {'aspect': 'dishes', 'opinion': 'delicious'}, {'aspect': 'dishes', 'opinion': 'good'}, {'aspect': 'dishes', 'opinion': 'good'}, {'aspect': 'dishes', 'opinion': 'friendly'}, {'aspect': 'service', 'opinion': 'friendly'}, {'aspect': 'fare institutions', 'opinion': 'italian'}, {'aspect': 'wine list', 'opinion': 'really nice'}, {'aspect': 'time', 'opinion': 'great'}, {'aspect': 'food', 'opinion': 'great'}, {'aspect': 'weather', 'opinion': 'nice'}, {'aspect': 'table', 'opinion': 'outside'}, {'aspect': 'staff', 'opinion': 'nice'}, {'aspect': 'birthday', 'opinion': 'other'}, {'aspect': 'night', 'opinion': 'other'}, {'aspect': 'night', 'opinion': 'magnificent'}, {'aspect': 'caviar', 'opinion': 'spectacular'}, {'aspect': 'caviar', 'opinion': 'hospitable'}, {'aspect': 'waitstaff', 'opinion': 'hospitable'}, {'aspect': 'patrons', 'opinion': 'last'}, {'aspect': 'patrons', 'opinion': 'relaxed'}, {'aspect': 'grade caviar', 'opinion': 'top'}, {'aspect': 'grade caviar', 'opinion': 'top'}, {'aspect': 'grade caviar', 'opinion': 'delicious'}, {'aspect': 'grade caviar', 'opinion': 'top'}, {'aspect': 'grade caviar', 'opinion': 'top'}, {'aspect': 'grade caviar', 'opinion': 'top'}, {'aspect': 'family', 'opinion': 'nice'}, {'aspect': 'family', 'opinion': 'traditional'}, {'aspect': 'restaurant', 'opinion': 'traditional'}, {'aspect': 'ingredients', 'opinion': 'fresh'}, {'aspect': 'staff', 'opinion': 'friendly'}, {'aspect': 'food', 'opinion': 'outstanding'}, {'aspect': 'day', 'opinion': 'dim'}, {'aspect': 'sum', 'opinion': 'dim'}, {'aspect': 'sum', 'opinion': 'good'}, {'aspect': 'patio', 'opinion': 'back'}, {'aspect': 'restaurant', 'opinion': 'excellent!'}, {'aspect': 'colleague', 'opinion': 'first'}, {'aspect': 'time', 'opinion': 'first'}, {'aspect': 'buffet', 'opinion': 'nice'}, {'aspect': 'selection', 'opinion': 'nice'}, {'aspect': 'food', 'opinion': 'average'}, {'aspect': 'dishes', 'opinion': 'surprising'}, {'aspect': 'dishes', 'opinion': 'tasty'}, {'aspect': 'service', 'opinion': 'very good'}, {'aspect': 'part', 'opinion': 'most important'}, {'aspect': 'times', 'opinion': 'last'}, {'aspect': 'food', 'opinion': 'so spicy'}, {'aspect': 'kha soup', 'opinion': 'pathetic'}, {'aspect': 'thai', 'opinion': 'good'}, {'aspect': 'thai', 'opinion': 'authentic'}, {'aspect': 'pesto pizza', 'opinion': 'excellent'}, {'aspect': 'amount', 'opinion': 'nice'}, {'aspect': 'amount', 'opinion': 'spicy'}, {'aspect': 'amount', 'opinion': 'italian'}, {'aspect': 'cheese', 'opinion': 'spicy'}, {'aspect': 'cheese', 'opinion': 'italian'}, {'aspect': 'sitting area', 'opinion': 'very pleasant'}, {'aspect': 'herb garden', 'opinion': 'personal'}, {'aspect': 'herb garden', 'opinion': 'personal'}, {'aspect': 'comfort food', 'opinion': 'yummy'}, {'aspect': 'comfort food', 'opinion': 'authentic'}, {'aspect': 'comfort food', 'opinion': 'japanese'}, {'aspect': 'food', 'opinion': 'great'}, {'aspect': 'size menu', 'opinion': 'good'}, {'aspect': 'size menu', 'opinion': 'good'}, {'aspect': 'service', 'opinion': 'great'}, {'aspect': 'setting', 'opinion': 'unpretensious'}, {'aspect': 'dishes', 'opinion': 'unique'}, {'aspect': 'dishes', 'opinion': 'fresh'}, {'aspect': 'ice cream', 'opinion': 'amazing'}, {'aspect': 'ice cream', 'opinion': 'best'}, {'aspect': 'gem', 'opinion': 'rare'}, {'aspect': 'gem', 'opinion': 'rare'}, {'aspect': 'ofr money', 'opinion': 'ofr'}, {'aspect': 'ofr money', 'opinion': 'ofr'}, {'aspect': 'ofr money', 'opinion': 'ofr'}, {'aspect': 'ofr money', 'opinion': 'ofr'}, {'aspect': 'ofr money', 'opinion': 'ofr'}, {'aspect': 'ofr money', 'opinion': 'ofr'}, {'aspect': 'service', 'opinion': 'excellent'}, {'aspect': 'cafe spice', 'opinion': 'cafe'}, {'aspect': 'waiter', 'opinion': 'very nice'}, {'aspect': 'lot', 'opinion': 'good'}, {'aspect': 'dishes', 'opinion': 'good'}, {'aspect': 'dishes', 'opinion': 'indian'}, {'aspect': 'food', 'opinion': 'indian'}, {'aspect': 'appetizer platter', 'opinion': 'very hungry'}, {'aspect': 'food', 'opinion': 'very appetizing'}, {'aspect': 'food', 'opinion': 'delicious'}, {'aspect': 'variety', 'opinion': 'fancy'}, {'aspect': 'plates', 'opinion': 'fancy'}, {'aspect': 'someplace', 'opinion': 'first'}, {'aspect': 'service', 'opinion': 'great'}, {'aspect': 'food', 'opinion': 'fantastic'}, {'aspect': 'guacamole+shrimp appetizer', 'opinion': 'really great'}, {'aspect': 'filet', 'opinion': 'so good'}, {'aspect': 'food', 'opinion': 'outstanding'}, {'aspect': 'service', 'opinion': 'quick'}, {'aspect': 'service', 'opinion': 'very professional'}, {'aspect': 'crowd', 'opinion': 'nice'}, {'aspect': 'crowd', 'opinion': 'not never loud'}, {'aspect': 'pizza place', 'opinion': 'not overcrowded'}, {'aspect': 'pizza', 'opinion': 'best'}, {'aspect': 'crust', 'opinion': 'thin'}, {'aspect': 'ingredients', 'opinion': 'fresh'}, {'aspect': 'staff', 'opinion': 'friendly'}, {'aspect': 'folks', 'opinion': 'lazy'}, {'aspect': 'fish items', 'opinion': 'so many'}, {'aspect': 'entrees', 'opinion': 'different'}, {'aspect': 'new york', 'opinion': 'best'}, {'aspect': 'pizzeria', 'opinion': 'great'}, {'aspect': 'pizzeria', 'opinion': 'new'}, {'aspect': 'neighborhood', 'opinion': 'new'}, {'aspect': 'pizzas', 'opinion': 'terrific'}, {'aspect': 'price', 'opinion': 'even better!'}, {'aspect': 'food', 'opinion': 'mediocre'}, {'aspect': 'food', 'opinion': 'best'}, {'aspect': 'service', 'opinion': 'horrible'}, {'aspect': 'guys', 'opinion': 'outta'}, {'aspect': 'people', 'opinion': 'other!'}, {'aspect': 'hour total', 'opinion': 'not more'}, {'aspect': 'people', 'opinion': 'great'}, {'aspect': 'food', 'opinion': 'great'}, {'aspect': 'food', 'opinion': 'great'}, {'aspect': 'service', 'opinion': 'great'}, {'aspect': 'kitchen food', 'opinion': 'delicious'}, {'aspect': 'home', 'opinion': 'creative'}, {'aspect': 'home', 'opinion': 'unique'}, {'aspect': 'rolls', 'opinion': 'unique'}, {'aspect': 'cuisine', 'opinion': 'best'}, {'aspect': 'service', 'opinion': 'attentive'}, {'aspect': 'service', 'opinion': 'charming'}, {'aspect': 'restaurants', 'opinion': 'other!'}, {'aspect': 'restaurants', 'opinion': 'japanese!'}, {'aspect': 'view', 'opinion': 'spectacular'}, {'aspect': 'food', 'opinion': 'great'}, {'aspect': 'daiquiries', 'opinion': 'wonderful!'}, {'aspect': 'places', 'opinion': 'favorite'}, {'aspect': 'food', 'opinion': 'authentic'}, {'aspect': 'food', 'opinion': 'taiwanese'}, {'aspect': 'restaurants', 'opinion': 'more'}, {'aspect': 'food', 'opinion': 'delicious'}, {'aspect': 'food', 'opinion': 'simple'}, {'aspect': 'food', 'opinion': 'nice'}, {'aspect': 'food', 'opinion': 'outdoor'}, {'aspect': 'atmosphere', 'opinion': 'nice'}, {'aspect': 'atmosphere', 'opinion': 'outdoor'}, {'aspect': 'wait staff', 'opinion': 'attentive'}, {'aspect': 'wait staff', 'opinion': 'attentive'}, {'aspect': 'food', 'opinion': 'not good'}, {'aspect': 'garden', 'opinion': 'great'}, {'aspect': 'place', 'opinion': 'great'}, {'aspect': 'neighborhood joint', 'opinion': 'great'}, {'aspect': 'neighborhood joint', 'opinion': 'great'}, {'aspect': 'basil slice', 'opinion': 'thin'}, {'aspect': 'calzones', 'opinion': 'horrific'}, {'aspect': 'counter service', 'opinion': 'bad'}, {'aspect': 'prices', 'opinion': 'different'}, {'aspect': 'place', 'opinion': 'different'}, {'aspect': 'planet', 'opinion': 'different'}, {'aspect': 'planet', 'opinion': 'tasteless'}, {'aspect': 'planet', 'opinion': 'complimentary'}, {'aspect': 'dosas', 'opinion': 'skimpy'}, {'aspect': 'sandwiches', 'opinion': 'dry'}, {'aspect': 'folks', 'opinion': 'more'}, {'aspect': 'style', 'opinion': 'more'}, {'aspect': 'room', 'opinion': 'unattractive'}, {'aspect': 'room', 'opinion': 'unhelpful'}, {'aspect': 'clerks', 'opinion': 'unhelpful'}, {'aspect': 'dearth', 'opinion': 'former'}, {'aspect': 'folks', 'opinion': 'more'}, {'aspect': 'style', 'opinion': 'more'}, {'aspect': 'room', 'opinion': 'unattractive'}, {'aspect': 'room', 'opinion': 'unhelpful'}, {'aspect': 'clerks', 'opinion': 'unhelpful'}, {'aspect': 'dearth', 'opinion': 'former'}, {'aspect': 'folks', 'opinion': 'more'}, {'aspect': 'style', 'opinion': 'more'}, {'aspect': 'room', 'opinion': 'unattractive'}, {'aspect': 'room', 'opinion': 'unhelpful'}, {'aspect': 'clerks', 'opinion': 'unhelpful'}, {'aspect': 'dearth', 'opinion': 'former'}, {'aspect': 'atmosphere', 'opinion': 'unheralded'}, {'aspect': 'service', 'opinion': 'impecible'}, {'aspect': 'food', 'opinion': 'best'}, {'aspect': 'food', 'opinion': 'italian'}, {'aspect': 'food', 'opinion': 'italian'}, {'aspect': 'place', 'opinion': 'peaceful'}, {'aspect': 'hudson river', 'opinion': 'beautiful'}, {'aspect': 'hudson river', 'opinion': 'green'}, {'aspect': 'street', 'opinion': 'small'}, {'aspect': 'food', 'opinion': 'good'}, {'aspect': 'dishes', 'opinion': 'basic'}, {'aspect': 'drinks', 'opinion': 'delicious'}, {'aspect': 'place', 'opinion': 'great'}, {'aspect': 'place', 'opinion': 'perfect'}, {'aspect': 'value', 'opinion': 'nice'}, {'aspect': 'apppetizers', 'opinion': 'unique'}, {'aspect': 'service', 'opinion': 'awful'}, {'aspect': 'place', 'opinion': 'not worth'}, {'aspect': 'roll', 'opinion': 'favorite'}, {'aspect': 'bagels', 'opinion': 'ok'}, {'aspect': 'requests', 'opinion': 'special!'}, {'aspect': 'cheese sandwich', 'opinion': 'faced'}, {'aspect': 'cheese sandwich', 'opinion': 'faced'}, {'aspect': 'turkey burgers', 'opinion': 'scary!'}, {'aspect': 'excuse', 'opinion': 'worst'}, {'aspect': 'excuse', 'opinion': 'japanese'}, {'aspect': 'food', 'opinion': 'japanese'}, {'aspect': 'sushi', 'opinion': 'awful!'}, {'aspect': 'rice', 'opinion': 'poor'}, {'aspect': 'quality', 'opinion': 'poor'}, {'aspect': 'sushi', 'opinion': 'bland'}, {'aspect': 'sushi', 'opinion': 'disgusting'}, {'aspect': 'fish', 'opinion': 'adequate'}, {'aspect': 'cuisine', 'opinion': 'japanese'}, {'aspect': 'service', 'opinion': 'fast'}, {'aspect': 'food', 'opinion': 'great'}, {'aspect': 'food', 'opinion': 'inexpensive'}, {'aspect': 'location', 'opinion': 'perfect'}, {'aspect': 'atmoshere', 'opinion': 'great'}, {'aspect': 'atmoshere', 'opinion': 'worth'}, {'aspect': 'staff', 'opinion': 'best'}, {'aspect': 'crew', 'opinion': 'best'}, {'aspect': 'food', 'opinion': 'reliable'}, {'aspect': 'price', 'opinion': 'moderate'}, {'aspect': 'restaurant', 'opinion': 'special'}, {'aspect': 'service', 'opinion': 'attentive'}, {'aspect': 'touch', 'opinion': 'sweet'}, {'aspect': 'touch', 'opinion': 'most memorable'}, {'aspect': 'meal', 'opinion': 'most memorable'}, {'aspect': 'visit', 'opinion': 'next'}, {'aspect': 'place', 'opinion': 'quiet'}, {'aspect': 'place', 'opinion': 'delightful'}, {'aspect': 'service', 'opinion': 'good'}, {'aspect': 'food', 'opinion': 'wonderful'}, {'aspect': 'spot', 'opinion': 'good'}, {'aspect': 'year', 'opinion': 'last'}, {'aspect': 'year', 'opinion': 'lucky'}, {'aspect': 'strike', 'opinion': 'lucky'}, {'aspect': 'night', 'opinion': 'late'}, {'aspect': 'wait staff', 'opinion': 'pleasant'}, {'aspect': 'beautification way', 'opinion': 'aesthetic'}, {'aspect': 'beautification way', 'opinion': 'gorgeous'}, {'aspect': 'beautification way', 'opinion': 'wonderful'}, {'aspect': 'beautification way', 'opinion': 'aesthetic'}, {'aspect': 'beautification way', 'opinion': 'aesthetic'}, {'aspect': 'beautification way', 'opinion': 'aesthetic'}, {'aspect': 'food', 'opinion': 'yummy'}, {'aspect': 'tomato sauce', 'opinion': 'spicy'}, {'aspect': 'night atmosphere', 'opinion': 'late'}, {'aspect': 'night atmosphere', 'opinion': 'late'}, {'aspect': 'night atmosphere', 'opinion': 'late'}, {'aspect': 'night atmosphere', 'opinion': 'late'}, {'aspect': 'night atmosphere', 'opinion': 'late'}, {'aspect': 'martini', 'opinion': 'completely delish'}, {'aspect': 'homey', 'opinion': 'great'}, {'aspect': 'homey', 'opinion': 'great'}, {'aspect': 'music', 'opinion': 'great'}, {'aspect': 'saturday nights', 'opinion': 'outrageously good'}, {'aspect': 'staff', 'opinion': 'friendlier'}, {'aspect': 'food', 'opinion': 'better'}, {'aspect': 'food', 'opinion': 'indian'}, {'aspect': 'dinner location', 'opinion': 'regular'}, {'aspect': 'course', 'opinion': 'past'}, {'aspect': 'months', 'opinion': 'past'}, {'aspect': 'months', 'opinion': 'not better'}, {'aspect': 'food', 'opinion': 'inconsistent'}, {'aspect': 'setting', 'opinion': 'casual'}, {'aspect': 'setting', 'opinion': 'romantic'}, {'aspect': 'prices', 'opinion': 'very good'}, {'aspect': 'food', 'opinion': 'excellent!'}, {'aspect': 'place', 'opinion': 'little'}, {'aspect': 'place', 'opinion': 'cute'}, {'aspect': 'place', 'opinion': 'interior'}, {'aspect': 'decor', 'opinion': 'cute'}, {'aspect': 'decor', 'opinion': 'interior'}, {'aspect': 'decor', 'opinion': 'affordable'}, {'aspect': 'city prices', 'opinion': 'affordable'}, {'aspect': 'city prices', 'opinion': 'affordable'}, {'aspect': 'chicken', 'opinion': 'delicious'}, {'aspect': 'oil', 'opinion': 'next'}, {'aspect': 'time', 'opinion': 'next'}, {'aspect': 'oil', 'opinion': 'next'}, {'aspect': 'time', 'opinion': 'next'}, {'aspect': 'ginger house', 'opinion': 'several'}, {'aspect': 'ginger house', 'opinion': 'good'}, {'aspect': 'dumplings', 'opinion': 'fried!'}, {'aspect': 'dumplings', 'opinion': 'great!'}, {'aspect': 'restaurant', 'opinion': 'reliable!'}, {'aspect': 'restaurant', 'opinion': 'chinese!'}, {'aspect': 'thing', 'opinion': 'only'}, {'aspect': 'restaurant', 'opinion': 'firm'}, {'aspect': 'answers', 'opinion': 'firm'}, {'aspect': 'management', 'opinion': 'terrible'}, {'aspect': 'toppings', 'opinion': 'great'}, {'aspect': 'bit', 'opinion': 'pricey'}, {'aspect': 'service', 'opinion': 'fast'}, {'aspect': 'service', 'opinion': 'friendly'}, {'aspect': 'food', 'opinion': 'decent'}, {'aspect': 'food', 'opinion': 'best'}, {'aspect': 'thing', 'opinion': 'sweet'}, {'aspect': 'rao', 'opinion': 'good'}, {'aspect': 'restaurant', 'opinion': 'good'}, {'aspect': 'restaurant', 'opinion': 'special'}, {'aspect': 'restaurants', 'opinion': 'many'}, {'aspect': 'restaurants', 'opinion': 'different'}, {'aspect': 'restaurants', 'opinion': 'indian'}, {'aspect': 'night', 'opinion': 'last'}, {'aspect': 'spice grill', 'opinion': 'only'}, {'aspect': 'spice grill', 'opinion': 'indian'}, {'aspect': 'friend', 'opinion': 'indian'}, {'aspect': 'friend', 'opinion': 'not how good'}, {'aspect': 'friend', 'opinion': 'tasty'}, {'aspect': 'place', 'opinion': 'correct'}, {'aspect': 'ambience', 'opinion': 'correct'}, {'aspect': 'staff', 'opinion': 'excellent'}, {'aspect': 'friend', 'opinion': 'same'}, {'aspect': 'time', 'opinion': 'same'}, {'aspect': 'food', 'opinion': 'great'}, {'aspect': 'prices', 'opinion': 'great'}, {'aspect': 'service', 'opinion': 'great'}, {'aspect': 'quality', 'opinion': 'good'}, {'aspect': 'eats', 'opinion': 'cheap'}, {'aspect': 'quality', 'opinion': 'good'}, {'aspect': 'eats', 'opinion': 'cheap'}, {'aspect': 'quality', 'opinion': 'good'}, {'aspect': 'eats', 'opinion': 'cheap'}, {'aspect': 'quality', 'opinion': 'good'}, {'aspect': 'eats', 'opinion': 'cheap'}, {'aspect': 'place', 'opinion': 'perfect'}, {'aspect': 'place', 'opinion': 'amanzing'}, {'aspect': 'place', 'opinion': 'indian'}, {'aspect': 'food', 'opinion': 'amanzing'}, {'aspect': 'food', 'opinion': 'indian'}, {'aspect': 'touch', 'opinion': 'inovated'}, {'aspect': 'dinner', 'opinion': 'very romantic'}, {'aspect': 'dinner', 'opinion': 'confortable'}, {'aspect': 'place', 'opinion': 'confortable'}, {'aspect': 'service', 'opinion': 'just perfect'}, {'aspect': 'dinner', 'opinion': 'very romantic'}, {'aspect': 'dinner', 'opinion': 'confortable'}, {'aspect': 'place', 'opinion': 'confortable'}, {'aspect': 'service', 'opinion': 'just perfect'}, {'aspect': 'dinner', 'opinion': 'very romantic'}, {'aspect': 'dinner', 'opinion': 'confortable'}, {'aspect': 'place', 'opinion': 'confortable'}, {'aspect': 'service', 'opinion': 'just perfect'}, {'aspect': 'food', 'opinion': 'absolutely amazing!!'}, {'aspect': 'clams', 'opinion': 'baked!!'}, {'aspect': 'appetizers', 'opinion': 'best!!'}, {'aspect': 'lamb', 'opinion': 'tender'}, {'aspect': 'lamb', 'opinion': 'so full'}, {'aspect': 'dessert', 'opinion': 'divine!!'}, {'aspect': 'waiter', 'opinion': 'attentive'}, {'aspect': 'bar scene', 'opinion': 'beautiful'}, {'aspect': 'appetizers', 'opinion': 'ok'}, {'aspect': 'waiter', 'opinion': 'poor'}, {'aspect': 'suggestion', 'opinion': 'poor'}, {'aspect': 'servings', 'opinion': 'small'}, {'aspect': 'servings', 'opinion': 'main'}, {'aspect': 'entree', 'opinion': 'main'}, {'aspect': 'salmon', 'opinion': 'not impressed'}, {'aspect': 'girlfriend', 'opinion': 'impressed'}, {'aspect': 'regulars', 'opinion': 'weekly'}, {'aspect': 'service', 'opinion': 'friendly'}, {'aspect': 'portions', 'opinion': 'enormous'}, {'aspect': 'veal', 'opinion': 'single'}, {'aspect': 'pasta', 'opinion': 'excellent'}, {'aspect': 'wine list', 'opinion': 'extensive'}, {'aspect': 'measures', 'opinion': 'own'}, {'aspect': 'measures', 'opinion': 'own'}, {'aspect': 'measures', 'opinion': 'own'}, {'aspect': 'measures', 'opinion': 'own'}, {'aspect': 'surprise', 'opinion': 'pleasant'}, {'aspect': 'spot', 'opinion': 'perfect'}, {'aspect': 'bartender', 'opinion': 'seasonal!!!'}, {'aspect': 'beer', 'opinion': 'seasonal!!!'}, {'aspect': 'experience', 'opinion': 'tasty!'}, {'aspect': 'spot', 'opinion': 'excellent'}, {'aspect': 'place', 'opinion': 'great!'}, {'aspect': 'bar', 'opinion': 'cool'}, {'aspect': 'bar', 'opinion': 'great'}, {'aspect': 'food', 'opinion': 'great'}, {'aspect': 'tons', 'opinion': 'excellent'}, {'aspect': 'beer', 'opinion': 'excellent'}, {'aspect': 'thing', 'opinion': 'only'}, {'aspect': 'thing', 'opinion': 'more wonderful'}, {'aspect': 'thing', 'opinion': 'more wonderful'}, {'aspect': 'food', 'opinion': 'exceptional'}, {'aspect': 'thing', 'opinion': 'only'}, {'aspect': 'tables', 'opinion': 'most'}, {'aspect': 'service', 'opinion': 'very prompt'}, {'aspect': 'food', 'opinion': 'very good'}, {'aspect': 'dinner', 'opinion': 'romantic'}, {'aspect': 'dinner', 'opinion': 'romantic'}, {'aspect': 'food', 'opinion': 'not same'}, {'aspect': 'heritage', 'opinion': 'same'}, {'aspect': 'pasta special', 'opinion': 'tasteless'}, {'aspect': 'dissapointment', 'opinion': 'real'}, {'aspect': 'cry', 'opinion': 'far'}, {'aspect': 'range', 'opinion': 'upper'}, {'aspect': 'range', 'opinion': 'intermediate'}, {'aspect': 'bbq ribs', 'opinion': 'best'}, {'aspect': 'bbq ribs', 'opinion': 'chinese'}, {'aspect': 'lunch', 'opinion': 'quick'}, {'aspect': 'food', 'opinion': 'great'}, {'aspect': 'food', 'opinion': 'great'}, {'aspect': 'price', 'opinion': 'great'}, {'aspect': 'service', 'opinion': 'friendly'}, {'aspect': 'ceiling', 'opinion': 'high'}, {'aspect': 'food', 'opinion': 'wonderful'}, {'aspect': 'service', 'opinion': 'professional'}, {'aspect': 'service', 'opinion': 'friendly'}, {'aspect': 'patio', 'opinion': 'gigantic'}, {'aspect': 'place', 'opinion': 'little'}, {'aspect': 'service', 'opinion': 'fast'}, {'aspect': 'service', 'opinion': 'friendly'}, {'aspect': 'food', 'opinion': 'very tasty'}, {'aspect': 'sauce', 'opinion': 'best'}, {'aspect': 'sauce', 'opinion': 'hot'}, {'aspect': 'spot', 'opinion': 'great'}, {'aspect': 'spot', 'opinion': 'quiet'}, {'aspect': 'dinner', 'opinion': 'quiet'}, {'aspect': 'seating', 'opinion': 'terrific'}, {'aspect': 'seating', 'opinion': 'outdoor'}, {'aspect': 'seating', 'opinion': 'warmer'}, {'aspect': 'months', 'opinion': 'warmer'}, {'aspect': 'food', 'opinion': 'great'}, {'aspect': 'selecion', 'opinion': 'good'}, {'aspect': 'wines', 'opinion': 'reasonable'}, {'aspect': 'prices', 'opinion': 'reasonable'}, {'aspect': 'times', 'opinion': 'several'}, {'aspect': 'times', 'opinion': 'several'}, {'aspect': 'times', 'opinion': 'several'}, {'aspect': 'lot', 'opinion': 'great'}, {'aspect': 'things', 'opinion': 'great'}, {'aspect': 'basis', 'opinion': 'daily'}, {'aspect': 'atmosphere', 'opinion': 'great'}, {'aspect': 'lot', 'opinion': 'better'}, {'aspect': 'pieces', 'opinion': 'few'}, {'aspect': 'pieces', 'opinion': 'small'}, {'aspect': 'meat', 'opinion': 'dark'}, {'aspect': 'reuben', 'opinion': 'best!'}, {'aspect': 'bloom', 'opinion': 'not next'}, {'aspect': 'trip', 'opinion': 'next'}, {'aspect': 'new york', 'opinion': 'first'}, {'aspect': 'new york', 'opinion': 'last'}, {'aspect': 'new york', 'opinion': 'next'}, {'aspect': 'thanks bloom', 'opinion': 'lovely'}, {'aspect': 'place', 'opinion': 'great'}, {'aspect': 'bargain', 'opinion': 'great'}, {'aspect': 'food', 'opinion': 'authentic'}, {'aspect': 'food', 'opinion': 'pakistani'}, {'aspect': 'people', 'opinion': 'friendly'}, {'aspect': 'food', 'opinion': 'good'}, {'aspect': 'food', 'opinion': 'good'}, {'aspect': 'faan', 'opinion': 'so good'}, {'aspect': 'atmosphere', 'opinion': 'just as good'}, {'aspect': 'wine', 'opinion': 'cheap'}, {'aspect': 'wine', 'opinion': 'good'}, {'aspect': 'food', 'opinion': 'aweful'}, {'aspect': 'mussles', 'opinion': 'fishiest'}, {'aspect': 'things', 'opinion': 'fishiest'}, {'aspect': 'seabass', 'opinion': 'bland'}, {'aspect': 'seabass', 'opinion': 'disgusting'}, {'aspect': 'atmosphere', 'opinion': 'nice'}, {'aspect': 'service', 'opinion': 'very pleasant'}, {'aspect': 'desert', 'opinion': 'good'}, {'aspect': 'jukebox', 'opinion': 'italian'}, {'aspect': 'opera', 'opinion': 'italian'}, {'aspect': 'food', 'opinion': 'amazing'}, {'aspect': 'pastas', 'opinion': 'rich'}, {'aspect': 'pastas', 'opinion': 'fresh'}, {'aspect': 'vibe', 'opinion': 'warm'}, {'aspect': 'owner', 'opinion': 'super friendly'}, {'aspect': 'service', 'opinion': 'fast'}, {'aspect': 'hour', 'opinion': 'happy!'}, {'aspect': 'drinks', 'opinion': 'amazing'}, {'aspect': 'bartender', 'opinion': 'nicest'}, {'aspect': 'unda', 'opinion': 'very simple'}, {'aspect': 'spices', 'opinion': 'delicate'}, {'aspect': 'space', 'opinion': 'very attractive'}, {'aspect': 'food', 'opinion': 'as good'}, {'aspect': 'thai food', 'opinion': 'decent'}, {'aspect': 'spots', 'opinion': 'best'}, {'aspect': 'drumsticks', 'opinion': 'best'}, {'aspect': 'drumsticks', 'opinion': 'sour!'}, {'aspect': 'drumsticks', 'opinion': 'spicy!'}, {'aspect': 'soup', 'opinion': 'sour!'}, {'aspect': 'soup', 'opinion': 'spicy!'}, {'aspect': 'noodle soup', 'opinion': 'good'}, {'aspect': 'service', 'opinion': 'good'}, {'aspect': 'resturant', 'opinion': 'clean'}, {'aspect': 'food', 'opinion': 'best!'}, {'aspect': 'food', 'opinion': 'taiwanese!'}, {'aspect': 'dumplings', 'opinion': 'excellent'}, {'aspect': 'dumplings', 'opinion': 'clean'}, {'aspect': 'sum combo', 'opinion': 'dim'}, {'aspect': 'bite', 'opinion': 'great'}, {'aspect': 'piece', 'opinion': 'small'}, {'aspect': 'decor', 'opinion': 'very simple'}, {'aspect': 'decor', 'opinion': 'comfortable'}, {'aspect': 'food', 'opinion': 'delicious'}, {'aspect': 'stomach', 'opinion': 'empty'}, {'aspect': 'portions', 'opinion': 'small'}, {'aspect': 'portions', 'opinion': 'so good'}, {'aspect': 'crabmeat lasagna', 'opinion': 'crabmeat'}, {'aspect': 'crabmeat lasagna', 'opinion': 'crabmeat'}, {'aspect': 'staff', 'opinion': 'very attentive'}, {'aspect': 'staff', 'opinion': 'unfriendly'}, {'aspect': 'months', 'opinion': 'only few'}, {'aspect': 'months', 'opinion': 'old'}, {'aspect': 'queens', 'opinion': 'biggest!'}, {'aspect': 'secret', 'opinion': 'biggest!'}, {'aspect': 'decor', 'opinion': 'fabulous'}, {'aspect': 'decor', 'opinion': 'very very good'}, {'aspect': 'food', 'opinion': 'very very very good'}, {'aspect': 'staff', 'opinion': 'generally friendly'}, {'aspect': 'west side', 'opinion': 'upper'}, {'aspect': 'west side', 'opinion': 'expensive'}, {'aspect': 'west side', 'opinion': 'pretentious'}, {'aspect': 'clientele', 'opinion': 'pretentious'}, {'aspect': 'decor', 'opinion': 'fabulous'}, {'aspect': 'decor', 'opinion': 'very very good'}, {'aspect': 'food', 'opinion': 'very very very good'}, {'aspect': 'staff', 'opinion': 'generally friendly'}, {'aspect': 'west side', 'opinion': 'upper'}, {'aspect': 'west side', 'opinion': 'expensive'}, {'aspect': 'west side', 'opinion': 'pretentious'}, {'aspect': 'clientele', 'opinion': 'pretentious'}, {'aspect': 'decor', 'opinion': 'fabulous'}, {'aspect': 'decor', 'opinion': 'very very good'}, {'aspect': 'food', 'opinion': 'very very very good'}, {'aspect': 'staff', 'opinion': 'generally friendly'}, {'aspect': 'west side', 'opinion': 'upper'}, {'aspect': 'west side', 'opinion': 'expensive'}, {'aspect': 'west side', 'opinion': 'pretentious'}, {'aspect': 'clientele', 'opinion': 'pretentious'}, {'aspect': 'decor', 'opinion': 'fabulous'}, {'aspect': 'decor', 'opinion': 'very very good'}, {'aspect': 'food', 'opinion': 'very very very good'}, {'aspect': 'staff', 'opinion': 'generally friendly'}, {'aspect': 'west side', 'opinion': 'upper'}, {'aspect': 'west side', 'opinion': 'expensive'}, {'aspect': 'west side', 'opinion': 'pretentious'}, {'aspect': 'clientele', 'opinion': 'pretentious'}, {'aspect': 'decor', 'opinion': 'fabulous'}, {'aspect': 'decor', 'opinion': 'very very good'}, {'aspect': 'food', 'opinion': 'very very very good'}, {'aspect': 'staff', 'opinion': 'generally friendly'}, {'aspect': 'west side', 'opinion': 'upper'}, {'aspect': 'west side', 'opinion': 'expensive'}, {'aspect': 'west side', 'opinion': 'pretentious'}, {'aspect': 'clientele', 'opinion': 'pretentious'}, {'aspect': 'decor', 'opinion': 'fabulous'}, {'aspect': 'decor', 'opinion': 'very very good'}, {'aspect': 'food', 'opinion': 'very very very good'}, {'aspect': 'staff', 'opinion': 'generally friendly'}, {'aspect': 'west side', 'opinion': 'upper'}, {'aspect': 'west side', 'opinion': 'expensive'}, {'aspect': 'west side', 'opinion': 'pretentious'}, {'aspect': 'clientele', 'opinion': 'pretentious'}, {'aspect': 'waiter', 'opinion': 'red'}, {'aspect': 'wine', 'opinion': 'red'}, {'aspect': 'wine', 'opinion': 'hot'}, {'aspect': 'tea', 'opinion': 'hot'}, {'aspect': 'drinks', 'opinion': 'complimentary'}, {'aspect': 'snobby waiter', 'opinion': 'snobby'}, {'aspect': 'snobby waiter', 'opinion': 'not snobby'}, {'aspect': 'snobby waiter', 'opinion': 'not snobby'}, {'aspect': 'restaurants', 'opinion': 'so many'}, {'aspect': 'restaurants', 'opinion': 'good'}, {'aspect': 'wait', 'opinion': 'absurdly arrogant'}, {'aspect': 'service', 'opinion': 'clumsy'}, {'aspect': 'pieces', 'opinion': 'not relatively good'}, {'aspect': 'nigiri', 'opinion': 'relatively good'}, {'aspect': 'food', 'opinion': 'japanese'}, {'aspect': 'food', 'opinion': 'rare'}, {'aspect': 'thing', 'opinion': 'rare'}, {'aspect': 'hours', 'opinion': 'enjoyable'}, {'aspect': 'servers', 'opinion': 'very attentive'}, {'aspect': 'servers', 'opinion': 'quite attractive'}, {'aspect': 'atmosphere', 'opinion': 'older'}, {'aspect': 'crowd', 'opinion': 'older'}, {'aspect': 'year olds', 'opinion': 'mid'}, {'aspect': 'vibe', 'opinion': 'very relaxed'}, {'aspect': 'service', 'opinion': 'great'}, {'aspect': 'food', 'opinion': 'excellent!'}, {'aspect': 'food', 'opinion': 'good'}, {'aspect': 'city skiline', 'opinion': 'terrific'}, {'aspect': 'city skiline', 'opinion': 'foggy'}, {'aspect': 'city skiline', 'opinion': 'rainy'}, {'aspect': 'kind', 'opinion': 'typical'}, {'aspect': 'service', 'opinion': 'good'}, {'aspect': 'service', 'opinion': 'overall very relaxing'}, {'aspect': 'kind', 'opinion': 'typical'}, {'aspect': 'service', 'opinion': 'good'}, {'aspect': 'service', 'opinion': 'overall very relaxing'}, {'aspect': 'kind', 'opinion': 'typical'}, {'aspect': 'service', 'opinion': 'good'}, {'aspect': 'service', 'opinion': 'overall very relaxing'}, {'aspect': 'pizza gruppo', 'opinion': 'few'}, {'aspect': 'food', 'opinion': 'great'}, {'aspect': 'pans', 'opinion': 'personal'}, {'aspect': 'pans', 'opinion': 'perfect'}, {'aspect': 'size', 'opinion': 'perfect'}, {'aspect': 'size', 'opinion': 'hungry'}, {'aspect': 'nights', 'opinion': 'hungry'}, {'aspect': 'delivery guys', 'opinion': 'major'}, {'aspect': 'walkup', 'opinion': 'disappointed'}, {'aspect': 'block walk', 'opinion': 'not bad'}, {'aspect': 'light', 'opinion': 'nice'}, {'aspect': 'light', 'opinion': 'very fortunate'}, {'aspect': 'location', 'opinion': 'wise'}, {'aspect': 'location', 'opinion': 'wise'}, {'aspect': 'pizza', 'opinion': 'pretty good'}, {'aspect': 'pizza', 'opinion': 'huge'}, {'aspect': 'price', 'opinion': 'very reasonable'}, {'aspect': 'price', 'opinion': 'very reasonable'}, {'aspect': 'la vodka', 'opinion': 'tremendously gigantic'}, {'aspect': 'pasta penne', 'opinion': 'pretty extra'}, {'aspect': 'creamy', 'opinion': 'big'}, {'aspect': 'task', 'opinion': 'big'}, {'aspect': 'moody', 'opinion': 'little'}, {'aspect': 'selection', 'opinion': 'interesting'}, {'aspect': 'wines', 'opinion': 'good'}, {'aspect': 'selection', 'opinion': 'interesting'}, {'aspect': 'wines', 'opinion': 'good'}, {'aspect': 'selection', 'opinion': 'interesting'}, {'aspect': 'wines', 'opinion': 'good'}, {'aspect': 'week', 'opinion': 'next'}, {'aspect': 'night', 'opinion': 'cold'}, {'aspect': 'spot', 'opinion': 'perfect'}, {'aspect': 'service', 'opinion': 'prompt'}, {'aspect': 'restaurant', 'opinion': 'new'}, {'aspect': 'restaurant', 'opinion': 'favorite'}, {'aspect': 'restaurant', 'opinion': 'uppereast'}, {'aspect': 'side', 'opinion': 'uppereast'}, {'aspect': 'wine list', 'opinion': 'extensive'}, {'aspect': 'wine list', 'opinion': 'impressive'}, {'aspect': 'mussels', 'opinion': 'fantastic'}, {'aspect': 'things', 'opinion': 'good'}, {'aspect': 'gem', 'opinion': 'little'}, {'aspect': 'gem', 'opinion': 'frequent'}, {'aspect': 'visitor', 'opinion': 'frequent'}, {'aspect': 'additions', 'opinion': 'new'}, {'aspect': 'additions', 'opinion': 'past'}, {'aspect': 'additions', 'opinion': 'few'}, {'aspect': 'years', 'opinion': 'past'}, {'aspect': 'years', 'opinion': 'few'}, {'aspect': 'jazz bar', 'opinion': 'new'}, {'aspect': 'jazz bar', 'opinion': 'new'}, {'aspect': 'lasagna menu', 'opinion': 'not average!'}, {'aspect': 'night', 'opinion': 'last'}, {'aspect': 'meal', 'opinion': 'disapointing'}, {'aspect': 'dumpling menu', 'opinion': 'yummy'}, {'aspect': 'tipsy', 'opinion': 'little'}, {'aspect': 'food', 'opinion': 'great'}, {'aspect': 'places', 'opinion': 'favorite'}, {'aspect': 'pastas', 'opinion': 'incredible'}, {'aspect': 'sepia', 'opinion': 'fantastic'}, {'aspect': 'rabbit', 'opinion': 'amazing'}, {'aspect': 'dog', 'opinion': 'tasty!'}, {'aspect': 'dog', 'opinion': 'awesome'}, {'aspect': 'dog', 'opinion': 'organic'}, {'aspect': 'eco', 'opinion': 'friendly'}, {'aspect': 'establishment', 'opinion': 'conscious'}, {'aspect': 'establishment', 'opinion': 'friendly'}, {'aspect': 'dogs', 'opinion': 'best'}, {'aspect': 'dogs', 'opinion': 'hot'}, {'aspect': 'food', 'opinion': 'good'}, {'aspect': 'drink', 'opinion': 'good'}, {'aspect': 'cypriot restaurant', 'opinion': 'cypriot'}, {'aspect': 'cypriot restaurant', 'opinion': 'cypriot'}, {'aspect': 'pork souvlaki', 'opinion': 'main'}, {'aspect': 'pizza', 'opinion': 'eggplant'}, {'aspect': 'mine', 'opinion': 'eggplant'}, {'aspect': 'size pizza', 'opinion': 'small!'}, {'aspect': 'size pizza', 'opinion': 'small!'}, {'aspect': 'food', 'opinion': 'excellent'}, {'aspect': 'meal', 'opinion': 'good'}, {'aspect': 'sake', 'opinion': 'great!'}, {'aspect': 'sake', 'opinion': 'great!'}, {'aspect': 'sashimi', 'opinion': 'excellent'}, {'aspect': 'bit', 'opinion': 'hidden'}, {'aspect': 'edge', 'opinion': 'romantic'}, {'aspect': 'dinner', 'opinion': 'romantic'}, {'aspect': 'time', 'opinion': 'very nice'}, {'aspect': 'waiter', 'opinion': 'attentive'}, {'aspect': 'food', 'opinion': 'delicious'}, {'aspect': 'city', 'opinion': 'great'}, {'aspect': 'place', 'opinion': 'great'}, {'aspect': 'place', 'opinion': 'open'}, {'aspect': 'place', 'opinion': 'late'}, {'aspect': 'food', 'opinion': 'good'}, {'aspect': 'food', 'opinion': 'excellent'}, {'aspect': 'food', 'opinion': 'great'}, {'aspect': 'prices', 'opinion': 'great'}, {'aspect': 'visit', 'opinion': 'first'}, {'aspect': 'wait staff', 'opinion': 'very courteous'}, {'aspect': 'space', 'opinion': 'so limited'}, {'aspect': 'space', 'opinion': 'prepared'}, {'aspect': 'space', 'opinion': 'chinese'}, {'aspect': 'food', 'opinion': 'chinese'}, {'aspect': 'place', 'opinion': 'favorite'}, {'aspect': 'time', 'opinion': 'fun'}, {'aspect': 'time', 'opinion': 'low'}, {'aspect': 'pirces', 'opinion': 'low'}, {'aspect': 'lobster', 'opinion': 'good'}, {'aspect': 'place', 'opinion': 'fun'}, {'aspect': 'way', 'opinion': 'average'}, {'aspect': 'staff', 'opinion': 'rude'}, {'aspect': 'service', 'opinion': 'quick'}, {'aspect': 'service', 'opinion': 'friendly'}, {'aspect': 'restaurant', 'opinion': 'nice'}, {'aspect': 'restaurant', 'opinion': 'clean'}, {'aspect': 'potato balls', 'opinion': 'not all dry'}, {'aspect': 'downside', 'opinion': 'only'}, {'aspect': 'cash', 'opinion': 'ok'}, {'aspect': 'bartender', 'opinion': 'very immature'}, {'aspect': 'drinks', 'opinion': 'specific'}, {'aspect': 'food', 'opinion': 'not fresh'}, {'aspect': 'food', 'opinion': 'warm'}, {'aspect': 'waitresses', 'opinion': 'busy'}, {'aspect': 'place', 'opinion': 'not casual'}, {'aspect': 'dinner', 'opinion': 'casual'}, {'aspect': 'food', 'opinion': 'fresh'}, {'aspect': 'leg', 'opinion': 'romatic'}, {'aspect': 'dinner', 'opinion': 'romatic'}, {'aspect': 'food', 'opinion': 'excellent'}, {'aspect': 'thing', 'opinion': 'favorite'}, {'aspect': 'great', 'opinion': 'indian!'}, {'aspect': 'food', 'opinion': 'indian!'}, {'aspect': 'food', 'opinion': 'good'}, {'aspect': 'place', 'opinion': 'clean'}, {'aspect': 'place', 'opinion': 'affordable'}, {'aspect': 'alot', 'opinion': 'indian!'}, {'aspect': 'people', 'opinion': 'indian!'}, {'aspect': 'people', 'opinion': 'great!'}, {'aspect': 'sign', 'opinion': 'great!'}, {'aspect': 'sign', 'opinion': 'indian!'}, {'aspect': 'place', 'opinion': 'indian!'}, {'aspect': 'alot', 'opinion': 'indian!'}, {'aspect': 'people', 'opinion': 'indian!'}, {'aspect': 'people', 'opinion': 'great!'}, {'aspect': 'sign', 'opinion': 'great!'}, {'aspect': 'sign', 'opinion': 'indian!'}, {'aspect': 'place', 'opinion': 'indian!'}, {'aspect': 'spot', 'opinion': 'favorite'}, {'aspect': 'food', 'opinion': 'great'}, {'aspect': 'staff', 'opinion': 'very good'}, {'aspect': 'place', 'opinion': 'beautiful'}, {'aspect': 'place', 'opinion': 'beautiful'}, {'aspect': 'place', 'opinion': 'beautiful'}, {'aspect': 'time', 'opinion': 'special'}, {'aspect': 'occasion', 'opinion': 'nice'}, {'aspect': 'occasion', 'opinion': 'special'}, {'aspect': 'food', 'opinion': 'ok'}, {'aspect': 'view', 'opinion': 'nice'}, {'aspect': 'view', 'opinion': 'nice'}, {'aspect': 'survice', 'opinion': 'great'}, {'aspect': 'pacifico', 'opinion': 'great'}, {'aspect': 'place', 'opinion': 'great'}, {'aspect': 'drinks', 'opinion': 'great'}, {'aspect': 'brunch', 'opinion': 'great'}, {'aspect': 'spinach', 'opinion': 'fresh'}, {'aspect': 'pacifico', 'opinion': 'yummy'}, {'aspect': 'food', 'opinion': 'decent'}, {'aspect': 'food', 'opinion': 'good'}, {'aspect': 'price', 'opinion': 'good'}, {'aspect': 'price', 'opinion': 'friendly'}, {'aspect': 'people', 'opinion': 'friendly'}, {'aspect': 'restaurant', 'opinion': 'best'}, {'aspect': 'restaurant', 'opinion': 'indian'}, {'aspect': 'food', 'opinion': 'amazing!'}, {'aspect': 'food', 'opinion': 'amazing!'}, {'aspect': 'restaurant', 'opinion': 'dreamy'}, {'aspect': 'restaurant', 'opinion': 'egyptian'}, {'aspect': 'lemony', 'opinion': 'more'}, {'aspect': 'restaurant', 'opinion': 'best'}, {'aspect': 'food', 'opinion': 'great'}, {'aspect': 'service', 'opinion': 'amazing'}, {'aspect': 'veal', 'opinion': 'incredible'}, {'aspect': 'veal', 'opinion': 'last'}, {'aspect': 'night', 'opinion': 'last'}, {'aspect': 'time', 'opinion': 'special'}, {'aspect': 'occasion', 'opinion': 'special'}, {'aspect': 'time', 'opinion': 'hard'}, {'aspect': 'exceptions', 'opinion': 'only'}, {'aspect': 'exceptions', 'opinion': 'occasional'}, {'aspect': 'dish', 'opinion': 'daring'}, {'aspect': 'eater', 'opinion': 'daring'}, {'aspect': 'wedding', 'opinion': 'fabulous!'}, {'aspect': 'wedding reception', 'opinion': 'highest'}, {'aspect': 'atmosphere', 'opinion': 'elegant'}, {'aspect': 'rooms', 'opinion': 'elegant'}, {'aspect': 'rooms', 'opinion': 'absolutely incomparable'}, {'aspect': 'views', 'opinion': 'absolutely incomparable'}, {'aspect': 'food', 'opinion': 'fabulous!'}, {'aspect': 'service', 'opinion': 'wonderful'}, {'aspect': 'experience', 'opinion': 'good'}, {'aspect': 'wine list', 'opinion': 'extensive'}, {'aspect': 'wine pairings', 'opinion': 'not knowledgeable'}, {'aspect': 'bread', 'opinion': 'horrible'}, {'aspect': 'appetizer', 'opinion': 'free'}, {'aspect': 'olives', 'opinion': 'disappointing'}, {'aspect': 'course', 'opinion': 'main'}, {'aspect': 'course', 'opinion': 'wonderful'}, {'aspect': 'pear torte', 'opinion': 'good'}, {'aspect': 'drink suggestions', 'opinion': 'unable'}, {'aspect': 'drink suggestions', 'opinion': 'appropriate'}, {'aspect': 'waitress', 'opinion': 'several'}, {'aspect': 'restaurant', 'opinion': 'beautiful'}, {'aspect': 'staff', 'opinion': 'more'}, {'aspect': 'attention', 'opinion': 'more'}, {'aspect': 'attention', 'opinion': 'little'}, {'aspect': 'details', 'opinion': 'little'}, {'aspect': 'seating', 'opinion': 'sweet'}, {'aspect': 'seating', 'opinion': 'great'}, {'aspect': 'seating', 'opinion': 'romantic'}, {'aspect': 'seating', 'opinion': 'private'}, {'aspect': 'boths', 'opinion': 'not as small'}, {'aspect': 'reviews', 'opinion': 'not perfect'}, {'aspect': 'service', 'opinion': 'extremely fast'}, {'aspect': 'food', 'opinion': 'ok'}, {'aspect': 'food', 'opinion': 'fair'}, {'aspect': 'food', 'opinion': 'crazy'}, {'aspect': 'place', 'opinion': 'actual'}, {'aspect': 'meals', 'opinion': 'actual'}, {'aspect': 'experience', 'opinion': 'great'}, {'aspect': 'dogs', 'opinion': 'amazing'}, {'aspect': 'dogs', 'opinion': 'fresh'}, {'aspect': 'dogs', 'opinion': 'best!!!'}, {'aspect': 'dogs', 'opinion': 'endless!!!'}, {'aspect': 'toppings', 'opinion': 'endless!!!'}, {'aspect': 'dog lovers', 'opinion': 'hot'}, {'aspect': 'dog lovers', 'opinion': 'hot'}, {'aspect': 'dog lovers', 'opinion': 'hot'}, {'aspect': 'dog lovers', 'opinion': 'hot'}, {'aspect': 'dog lovers', 'opinion': 'hot'}, {'aspect': 'dog lovers', 'opinion': 'hot'}, {'aspect': 'new york', 'opinion': 'last!'}, {'aspect': 'new york', 'opinion': 'true!'}, {'aspect': 'new york', 'opinion': 'other!'}, {'aspect': 'hospitality', 'opinion': 'great!'}, {'aspect': 'night', 'opinion': 'great!'}, {'aspect': 'cocktail', 'opinion': 'great'}, {'aspect': 'restaurant', 'opinion': 'def!'}, {'aspect': 'restaurant', 'opinion': 'worth!'}, {'aspect': 'menu', 'opinion': 'great'}, {'aspect': 'waiter', 'opinion': 'very nice'}, {'aspect': 'desserts', 'opinion': 'free'}, {'aspect': 'desserts', 'opinion': 'last'}, {'aspect': 'point', 'opinion': 'fairly sick'}, {'aspect': 'wine', 'opinion': 'less'}, {'aspect': 'concession', 'opinion': 'big'}, {'aspect': 'maggot', 'opinion': 'able'}, {'aspect': 'reputation', 'opinion': 'good'}, {'aspect': 'customer service', 'opinion': 'intelligent'}, {'aspect': 'place', 'opinion': 'great'}, {'aspect': 'value', 'opinion': 'great'}, {'aspect': 'food', 'opinion': 'flavorful'}, {'aspect': 'atmosphere', 'opinion': 'relaxed'}, {'aspect': 'atmosphere', 'opinion': 'casual'}, {'aspect': 'place', 'opinion': 'great'}, {'aspect': 'place', 'opinion': 'great'}, {'aspect': 'place', 'opinion': 'great'}, {'aspect': 'place', 'opinion': 'great'}, {'aspect': 'sushi experience', 'opinion': 'unbelievable'}, {'aspect': 'rolls', 'opinion': 'good!'}, {'aspect': 'rolls', 'opinion': 'creative!'}, {'aspect': 'yamato', 'opinion': 'excellent'}, {'aspect': 'place', 'opinion': 'excellent'}, {'aspect': 'sushi', 'opinion': 'much'}, {'aspect': 'sushi', 'opinion': 'not much'}, {'aspect': 'rolls', 'opinion': 'great'}, {'aspect': 'color', 'opinion': 'triple'}, {'aspect': 'roll', 'opinion': 'special'}, {'aspect': 'roll', 'opinion': 'regular'}, {'aspect': 'roll', 'opinion': 'enough'}, {'aspect': 'appetizers', 'opinion': 'delicious!'}, {'aspect': 'indo', 'opinion': 'chinese'}, {'aspect': 'food', 'opinion': 'chinese'}, {'aspect': 'place', 'opinion': 'very fancy'}, {'aspect': 'place', 'opinion': 'very good'}, {'aspect': 'place', 'opinion': 'chinese'}, {'aspect': 'style', 'opinion': 'very good'}, {'aspect': 'style', 'opinion': 'chinese'}, {'aspect': 'chicken lollipop', 'opinion': 'favorite'}, {'aspect': 'reviewer', 'opinion': 'previous'}, {'aspect': 'reviewer', 'opinion': 'very spicy'}, {'aspect': 'food', 'opinion': 'top'}, {'aspect': 'spicy', 'opinion': 'top'}, {'aspect': 'years', 'opinion': 'most tasty'}, {'aspect': 'food', 'opinion': 'delicious'}, {'aspect': 'meal', 'opinion': 'bad'}, {'aspect': 'service', 'opinion': 'never bad'}, {'aspect': 'food', 'opinion': 'great'}, {'aspect': 'service', 'opinion': 'great'}, {'aspect': 'service', 'opinion': 'great'}, {'aspect': 'neighborhood', 'opinion': 'great'}, {'aspect': 'pizza', 'opinion': 'true'}, {'aspect': 'love', 'opinion': 'true'}, {'aspect': 'hands', 'opinion': 'best'}, {'aspect': 'pizza', 'opinion': 'best'}, {'aspect': 'dogs', 'opinion': 'great'}, {'aspect': 'dogs', 'opinion': 'hot'}, {'aspect': 'dogs', 'opinion': 'hot'}, {'aspect': 'dogs', 'opinion': 'juicy'}, {'aspect': 'toppings', 'opinion': 'great'}, {'aspect': 'night munchies', 'opinion': 'late'}, {'aspect': 'night munchies', 'opinion': 'late'}, {'aspect': 'night munchies', 'opinion': 'late'}, {'aspect': 'night munchies', 'opinion': 'late'}, {'aspect': 'day boost', 'opinion': 'mid!'}, {'aspect': 'day boost', 'opinion': 'mid!'}, {'aspect': 'taste', 'opinion': 'great'}, {'aspect': 'taste', 'opinion': 'original'}, {'aspect': 'dining experience', 'opinion': 'good'}, {'aspect': 'service', 'opinion': 'helpful'}, {'aspect': 'service', 'opinion': 'average'}, {'aspect': 'price', 'opinion': 'average'}, {'aspect': 'thing', 'opinion': 'only'}, {'aspect': 'decor?(not', 'opinion': 'very pleasant'}, {'aspect': 'food', 'opinion': 'great'}, {'aspect': 'place', 'opinion': 'great'}, {'aspect': 'place', 'opinion': 'indian'}, {'aspect': 'place', 'opinion': 'chinese'}, {'aspect': 'food', 'opinion': 'great'}, {'aspect': 'food', 'opinion': 'indian'}, {'aspect': 'food', 'opinion': 'chinese'}, {'aspect': 'flavors', 'opinion': 'amazing'}, {'aspect': 'value', 'opinion': 'phenomenal'}, {'aspect': 'place', 'opinion': 'pretty tiny'}, {'aspect': 'place', 'opinion': 'not beautiful'}, {'aspect': 'chinese', 'opinion': 'best'}, {'aspect': 'chinese', 'opinion': 'indian'}, {'aspect': 'martinis', 'opinion': 'amazing'}, {'aspect': 'service', 'opinion': 'amazing'}, {'aspect': 'waiters', 'opinion': 'different'}, {'aspect': 'thing', 'opinion': 'rare'}, {'aspect': 'thing', 'opinion': 'nice'}, {'aspect': 'dj', 'opinion': 'awesome'}, {'aspect': 'bunch', 'opinion': 'other'}, {'aspect': 'times', 'opinion': 'other'}, {'aspect': 'times', 'opinion': 'good'}, {'aspect': 'thing', 'opinion': 'good'}, {'aspect': 'tab', 'opinion': 'fair'}, {'aspect': 'time', 'opinion': 'great!!!'}, {'aspect': 'menu', 'opinion': 'great'}, {'aspect': 'establishment', 'opinion': 'real'}, {'aspect': 'deal', 'opinion': 'real'}, {'aspect': 'ny', 'opinion': 'more'}, {'aspect': 'notch', 'opinion': 'top'}, {'aspect': 'waste', 'opinion': 'terrible'}, {'aspect': 'dining experience', 'opinion': 'other!'}, {'aspect': 'way', 'opinion': 'good'}, {'aspect': 'money', 'opinion': 'so much'}, {'aspect': 'money', 'opinion': 'bad'}, {'aspect': 'experience', 'opinion': 'bad'}, {'aspect': 'visit', 'opinion': 'necessary'}, {'aspect': 'diners', 'opinion': 'other'}, {'aspect': 'visit', 'opinion': 'least'}, {'aspect': 'visit', 'opinion': 'costly!'}, {'aspect': 'experience', 'opinion': 'costly!'}, {'aspect': 'experience', 'opinion': 'unpleasant'}, {'aspect': 'arrival', 'opinion': 'so excited'}, {'aspect': 'place', 'opinion': 'beautiful!'}, {'aspect': 'hostess', 'opinion': 'very pleasant'}, {'aspect': 'drinks', 'opinion': 'horrible!'}, {'aspect': 'choice', 'opinion': 'other'}, {'aspect': 'experience', 'opinion': 'not any better'}, {'aspect': 'fatty lumps', 'opinion': 'fatty'}, {'aspect': 'fatty lumps', 'opinion': 'inedible'}, {'aspect': 'fatty lumps', 'opinion': 'so many'}, {'aspect': 'fatty lumps', 'opinion': 'fatty'}, {'aspect': 'fatty lumps', 'opinion': 'fatty'}, {'aspect': 'fatty lumps', 'opinion': 'fatty'}, {'aspect': 'beverage', 'opinion': 'only!'}, {'aspect': 'water', 'opinion': 'dirty!'}, {'aspect': 'glasses', 'opinion': 'dirty!'}, {'aspect': 'show', 'opinion': 'first'}, {'aspect': 'half', 'opinion': 'other'}, {'aspect': 'wallets', 'opinion': 'empy'}, {'aspect': 'experience', 'opinion': 'good'}, {'aspect': 'food', 'opinion': 'good'}, {'aspect': 'dinner portion', 'opinion': 'inedible!'}, {'aspect': 'hours', 'opinion': 'too much!'}, {'aspect': 'money', 'opinion': 'too much!'}, {'aspect': 'lunch buffet', 'opinion': 'expensive'}, {'aspect': 'deff', 'opinion': 'worth'}, {'aspect': 'dinner', 'opinion': 'only few'}, {'aspect': 'times', 'opinion': 'only few'}, {'aspect': 'quality', 'opinion': 'same'}, {'aspect': 'quality', 'opinion': 'great'}, {'aspect': 'bukhara', 'opinion': 'top'}, {'aspect': 'bukhara', 'opinion': 'indian'}, {'aspect': 'places', 'opinion': 'top'}, {'aspect': 'places', 'opinion': 'indian'}, {'aspect': 'review', 'opinion': 'third'}, {'aspect': 'review', 'opinion': 'online'}, {'aspect': 'restaurant', 'opinion': 'same'}, {'aspect': 'order', 'opinion': 'predictably mediocre'}, {'aspect': 'option', 'opinion': 'only'}, {'aspect': 'piece', 'opinion': 'random'}, {'aspect': 'lettuce', 'opinion': 'random'}, {'aspect': 'lettuce', 'opinion': 'more disgusting'}, {'aspect': 'lack', 'opinion': 'not previous'}, {'aspect': 'reviewing', 'opinion': 'previous'}, {'aspect': 'concern', 'opinion': 'main'}, {'aspect': 'age', 'opinion': 'least'}, {'aspect': 'age', 'opinion': 'minimal'}, {'aspect': 'effort', 'opinion': 'least'}, {'aspect': 'effort', 'opinion': 'minimal'}, {'aspect': 'restaurants', 'opinion': 'many'}, {'aspect': 'years', 'opinion': 'many'}, {'aspect': 'school', 'opinion': 'culinary'}, {'aspect': 'lover', 'opinion': 'huge'}, {'aspect': 'girlfriend', 'opinion': 'half korean!'}, {'aspect': 'fish', 'opinion': 'bad'}, {'aspect': 'bragging points', 'opinion': 'major'}, {'aspect': 'risk', 'opinion': 'own'}, {'aspect': 'place ideal', 'opinion': 'romantic'}, {'aspect': 'fix menu', 'opinion': 'prix'}, {'aspect': 'service', 'opinion': 'spectacular'}, {'aspect': 'recommendations', 'opinion': 'amazing!'}, {'aspect': 'la femme', 'opinion': 'special'}, {'aspect': 'risotto', 'opinion': 'amazing'}, {'aspect': 'ink', 'opinion': 'squid'}, {'aspect': 'taste', 'opinion': 'phenomenal'}, {'aspect': 'yukon potatoes', 'opinion': 'extremely tasty'}, {'aspect': 'slice', 'opinion': 'quintessential'}, {'aspect': 'slice', 'opinion': 'nice'}, {'aspect': 'pizza', 'opinion': 'nice'}, {'aspect': 'crust', 'opinion': 'great'}, {'aspect': 'bite', 'opinion': 'great'}, {'aspect': 'chew', 'opinion': 'good'}, {'aspect': 'sauce', 'opinion': 'light'}, {'aspect': 'acidity', 'opinion': 'nice'}, {'aspect': 'cheese', 'opinion': 'great'}, {'aspect': 'flavor', 'opinion': 'other'}, {'aspect': 'components', 'opinion': 'other'}, {'aspect': 'restaurant', 'opinion': 'most romantic'}, {'aspect': 'brasserie', 'opinion': 'favorite'}, {'aspect': 'brasserie', 'opinion': 'modern'}, {'aspect': 'brasserie', 'opinion': 'japanese'}, {'aspect': 'restaurants', 'opinion': 'most romantic!'}, {'aspect': 'adventure', 'opinion': 'somewhat hidden'}, {'aspect': 'spot', 'opinion': 'somewhat hidden'}, {'aspect': 'doors', 'opinion': 'unmarked'}, {'aspect': 'doors', 'opinion': 'wooden'}, {'aspect': 'doors', 'opinion': 'intimate'}, {'aspect': 'décor', 'opinion': 'intimate'}, {'aspect': 'date', 'opinion': 'private'}, {'aspect': 'booths', 'opinion': 'private'}, {'aspect': 'cute', 'opinion': 'occasional!'}, {'aspect': 'waiter', 'opinion': 'little!'}, {'aspect': 'curtain', 'opinion': 'little!'}, {'aspect': 'deal', 'opinion': 'wonderful'}, {'aspect': 'lot', 'opinion': 'more'}, {'aspect': 'taste', 'opinion': 'better'}, {'aspect': 'cod', 'opinion': 'black'}, {'aspect': 'salmon dish', 'opinion': 'better'}, {'aspect': 'sesame mousse', 'opinion': 'black'}, {'aspect': 'sesame mousse', 'opinion': 'black'}, {'aspect': 'sesame mousse', 'opinion': 'interesting'}, {'aspect': 'matcha', 'opinion': 'green'}, {'aspect': 'tea', 'opinion': 'green'}, {'aspect': 'company', 'opinion': 'great'}, {'aspect': 'things', 'opinion': 'enough'}, {'aspect': 'things', 'opinion': 'good'}, {'aspect': 'establishment', 'opinion': 'same'}, {'aspect': 'anytime', 'opinion': 'quiet'}, {'aspect': 'anytime', 'opinion': 'memorable'}, {'aspect': 'dinner', 'opinion': 'memorable'}, {'aspect': 'service', 'opinion': 'much'}, {'aspect': 'ad', 'opinion': 'too upset'}, {'aspect': 'ad', 'opinion': 'tired'}, {'aspect': 'ad', 'opinion': 'tired'}, {'aspect': 'service', 'opinion': 'horrible'}, {'aspect': 'food', 'opinion': 'very good'}, {'aspect': 'seafood entree', 'opinion': 'very good'}, {'aspect': 'entree', 'opinion': 'main'}, {'aspect': 'entree', 'opinion': 'very good'}, {'aspect': 'price', 'opinion': 'high'}, {'aspect': 'food', 'opinion': 'good'}, {'aspect': 'food', 'opinion': 'good'}, {'aspect': 'food', 'opinion': 'great'}, {'aspect': 'food', 'opinion': 'tasty'}, {'aspect': 'space', 'opinion': 'too small'}, {'aspect': 'place', 'opinion': 'very nice'}, {'aspect': 'place', 'opinion': 'romantic'}, {'aspect': 'area', 'opinion': 'bigger'}, {'aspect': 'reservation', 'opinion': 'possible'}, {'aspect': 'work', 'opinion': 'few'}, {'aspect': 'fridays', 'opinion': 'few'}, {'aspect': 'atmosphere', 'opinion': 'great'}, {'aspect': 'food', 'opinion': 'excellent'}, {'aspect': 'waitress', 'opinion': 'not mean'}, {'aspect': 'waitress', 'opinion': 'either attentive'}, {'aspect': 'reviews', 'opinion': 'bad'}, {'aspect': 'experience', 'opinion': 'uncomfortable'}, {'aspect': 'definition', 'opinion': 'fascinating'}, {'aspect': 'rudeness', 'opinion': 'alive'}, {'aspect': 'servers', 'opinion': 'flatbush'}, {'aspect': 'farm', 'opinion': 'flatbush'}, {'aspect': 'technique', 'opinion': 'guilty'}, {'aspect': 'technique', 'opinion': 'ashamed'}, {'aspect': 'acknowledgement', 'opinion': 'polite'}, {'aspect': 'scorn', 'opinion': 'supercilious'}, {'aspect': 'times', 'opinion': 'how many'}, {'aspect': 'times', 'opinion': 'same'}, {'aspect': 'set', 'opinion': 'same'}, {'aspect': 'place', 'opinion': 'same'}, {'aspect': 'server', 'opinion': 'different'}, {'aspect': 'appetizer', 'opinion': 'delicious'}, {'aspect': 'food quality', 'opinion': 'pretty good'}, {'aspect': 'salmon', 'opinion': 'much better'}, {'aspect': 'place', 'opinion': 'nice'}, {'aspect': 'fit', 'opinion': 'nice'}, {'aspect': 'furnishings', 'opinion': 'attractive'}, {'aspect': 'hour', 'opinion': 'passive'}, {'aspect': 'hour', 'opinion': 'aggressive'}, {'aspect': 'torture', 'opinion': 'aggressive'}, {'aspect': 'times', 'opinion': 'last'}, {'aspect': 'week', 'opinion': 'last'}, {'aspect': 'week', 'opinion': 'first'}, {'aspect': 'pizza', 'opinion': 'really good'}, {'aspect': 'dogs', 'opinion': 'great!'}, {'aspect': 'dogs', 'opinion': 'hot!'}, {'aspect': 'trip', 'opinion': 'few'}, {'aspect': 'times', 'opinion': 'few'}, {'aspect': 'times', 'opinion': 'most'}, {'aspect': 'dogs', 'opinion': 'hot'}, {'aspect': 'dogs', 'opinion': 'top'}, {'aspect': 'notch', 'opinion': 'top'}, {'aspect': 'train ride', 'opinion': 'worth'}, {'aspect': 'belly', 'opinion': 'very happy!'}, {'aspect': 'belly', 'opinion': 'very happy!'}, {'aspect': 'spot', 'opinion': 'great'}, {'aspect': 'food', 'opinion': 'great'}, {'aspect': 'meal', 'opinion': 'best!'}, {'aspect': 'meal', 'opinion': 'long!'}, {'aspect': 'time', 'opinion': 'long!'}, {'aspect': 'lamb', 'opinion': 'special'}, {'aspect': 'lamb', 'opinion': 'perfect'}, {'aspect': 'flank steak', 'opinion': 'very good'}, {'aspect': 'seasons restaurant', 'opinion': 'great'}, {'aspect': 'food', 'opinion': 'great'}, {'aspect': 'environment', 'opinion': 'even better'}, {'aspect': 'dogs', 'opinion': 'hot'}, {'aspect': 'dogs', 'opinion': 'next'}, {'aspect': 'level', 'opinion': 'next'}, {'aspect': 'glance', 'opinion': 'first'}, {'aspect': 'bit', 'opinion': 'pricey'}, {'aspect': 'bit', 'opinion': 'hot'}, {'aspect': 'dog', 'opinion': 'hot'}, {'aspect': 'bark', 'opinion': 'not average'}, {'aspect': 'bark', 'opinion': 'not hot'}, {'aspect': 'dog', 'opinion': 'average'}, {'aspect': 'dog', 'opinion': 'hot'}, {'aspect': 'dog', 'opinion': 'hot'}, {'aspect': 'level', 'opinion': 'real'}, {'aspect': 'entree', 'opinion': 'real'}, {'aspect': 'entree', 'opinion': 'numerous'}, {'aspect': 'variations', 'opinion': 'numerous'}, {'aspect': 'variations', 'opinion': 'available'}, {'aspect': 'variations', 'opinion': 'available'}, {'aspect': 'dog', 'opinion': 'hot'}, {'aspect': 'level', 'opinion': 'real'}, {'aspect': 'entree', 'opinion': 'real'}, {'aspect': 'entree', 'opinion': 'numerous'}, {'aspect': 'variations', 'opinion': 'numerous'}, {'aspect': 'variations', 'opinion': 'available'}, {'aspect': 'variations', 'opinion': 'available'}, {'aspect': 'service', 'opinion': 'poor'}, {'aspect': 'course', 'opinion': 'main'}, {'aspect': 'manager', 'opinion': 'rude'}, {'aspect': 'discount', 'opinion': 'meager'}, {'aspect': 'guests', 'opinion': 'other'}, {'aspect': 'guests', 'opinion': 'similar'}, {'aspect': 'issues', 'opinion': 'similar'}, {'aspect': 'restaurant', 'opinion': 'expensive'}, {'aspect': 'restaurant', 'opinion': 'nice'}, {'aspect': 'restaurant', 'opinion': 'not so disrespectful'}, {'aspect': 'experience', 'opinion': 'horrible'}, {'aspect': 'hostess', 'opinion': 'rude'}, {'aspect': 'feeling', 'opinion': 'distinct'}, {'aspect': 'thing', 'opinion': 'only'}, {'aspect': 'waitress', 'opinion': 'same'}, {'aspect': 'indication', 'opinion': 'how many'}, {'aspect': 'patrons', 'opinion': 'other'}, {'aspect': 'place', 'opinion': 'horrible'}, {'aspect': 'place', 'opinion': 'rude'}, {'aspect': 'staff', 'opinion': 'horrible'}, {'aspect': 'staff', 'opinion': 'rude'}, {'aspect': 'staff', 'opinion': 'bad'}, {'aspect': 'food', 'opinion': 'good'}, {'aspect': 'space', 'opinion': 'good'}, {'aspect': 'food', 'opinion': 'plastic'}, {'aspect': 'bag', 'opinion': 'plastic'}, {'aspect': 'waitress', 'opinion': 'few'}, {'aspect': 'minutes', 'opinion': 'few'}, {'aspect': 'half', 'opinion': 'big'}, {'aspect': 'half', 'opinion': 'pet'}, {'aspect': 'peeve', 'opinion': 'big'}, {'aspect': 'peeve', 'opinion': 'pet'}, {'aspect': 'bite', 'opinion': 'mid'}, {'aspect': 'food', 'opinion': 'excellent'}, {'aspect': 'fish', 'opinion': 'so very fresh'}, {'aspect': 'waitstaff', 'opinion': 'very friendly'}, {'aspect': 'translation', 'opinion': 'chinese'}, {'aspect': 'place', 'opinion': 'not big'}, {'aspect': 'wong', 'opinion': 'big'}, {'aspect': 'prosperity', 'opinion': 'great'}, {'aspect': 'food', 'opinion': 'great'}, {'aspect': 'service', 'opinion': 'great'}, {'aspect': 'dish', 'opinion': 'favorite'}, {'aspect': 'ley soh', 'opinion': 'deep'}, {'aspect': 'ley soh', 'opinion': 'fried'}, {'aspect': 'ley soh', 'opinion': 'sweet'}, {'aspect': 'bread', 'opinion': 'sweet'}, {'aspect': 'food', 'opinion': 'good'}, {'aspect': 'food', 'opinion': 'chinese'}, {'aspect': 'food', 'opinion': 'incredible'}, {'aspect': 'prices', 'opinion': 'incredible'}, {'aspect': 'ice water', 'opinion': 'full'}, {'aspect': 'tea', 'opinion': 'hot'}, {'aspect': 'wong', 'opinion': 'big'}, {'aspect': 'wong', 'opinion': 'great'}, {'aspect': 'place', 'opinion': 'great'}, {'aspect': 'food', 'opinion': 'fine'}, {'aspect': 'ice cold beer', 'opinion': 'cold'}, {'aspect': 'service', 'opinion': 'friendly'}, {'aspect': 'atmosphere', 'opinion': 'great'}, {'aspect': 'place', 'opinion': 'real'}, {'aspect': 'place', 'opinion': 'cold'}, {'aspect': 'night', 'opinion': 'real'}, {'aspect': 'night', 'opinion': 'cold'}, {'aspect': 'meal', 'opinion': 'quick'}, {'aspect': 'atmosphere', 'opinion': 'cool'}, {'aspect': 'bit', 'opinion': 'more'}, {'aspect': 'heat', 'opinion': 'more'}, {'aspect': 'heat', 'opinion': 'cold'}, {'aspect': 'night', 'opinion': 'cold'}, {'aspect': 'native', 'opinion': 'japanese'}, {'aspect': 'area', 'opinion': 'tristate'}, {'aspect': 'place', 'opinion': 'most'}, {'aspect': 'place', 'opinion': 'most japanese'}, {'aspect': 'specials', 'opinion': 'menus'}, {'aspect': 'specials', 'opinion': 'menus'}, {'aspect': 'waitstaff', 'opinion': 'totally japanese'}, {'aspect': 'place', 'opinion': 'worth'}, {'aspect': 'time', 'opinion': 'great'}, {'aspect': 'hyde pub', 'opinion': 'last'}, {'aspect': 'server', 'opinion': 'really cool'}, {'aspect': 'bathrooms', 'opinion': 'good'}, {'aspect': 'laugh', 'opinion': 'good'}, {'aspect': 'wong', 'opinion': 'big'}, {'aspect': 'wong', 'opinion': 'big'}, {'aspect': 'ups', 'opinion': 'big'}, {'aspect': 'ups', 'opinion': 'fine'}, {'aspect': 'establishment', 'opinion': 'fine'}, {'aspect': 'price', 'opinion': 'great'}, {'aspect': 'atmosphere', 'opinion': 'noisy'}, {'aspect': 'price', 'opinion': 'very reasonable'}, {'aspect': 'rice dishes', 'opinion': 'not no more'}, {'aspect': 'quality tupperware', 'opinion': 'great'}, {'aspect': 'quality tupperware', 'opinion': 'high'}, {'aspect': 'place', 'opinion': 'very crowded'}, {'aspect': 'place', 'opinion': 'popular'}, {'aspect': 'pepper', 'opinion': 'so much'}, {'aspect': 'food', 'opinion': 'decent'}, {'aspect': 'menu', 'opinion': 'very limited'}, {'aspect': 'prune', 'opinion': 'particularly memorable'}, {'aspect': 'ambience', 'opinion': 'nice'}, {'aspect': 'service', 'opinion': 'not so great'}, {'aspect': 'atmosphere', 'opinion': 'special'}, {'aspect': 'ambiance', 'opinion': 'entire'}, {'aspect': 'menu', 'opinion': 'slightly limited'}, {'aspect': 'ultra', 'opinion': 'fresh'}, {'aspect': 'ultra', 'opinion': 'fresh'}, {'aspect': 'food', 'opinion': 'indian'}, {'aspect': 'chennai garden', 'opinion': 'favorite'}, {'aspect': 'chennai garden', 'opinion': 'indian'}, {'aspect': 'restaurant', 'opinion': 'vegetarian'}, {'aspect': 'seats', 'opinion': 'uncomfortable'}, {'aspect': 'wall', 'opinion': 'wooden'}, {'aspect': 'benches', 'opinion': 'wooden'}, {'aspect': 'thalia', 'opinion': 'beautiful'}, {'aspect': 'restaurant', 'opinion': 'beautiful'}, {'aspect': 'restaurant', 'opinion': 'beautiful'}, {'aspect': 'people', 'opinion': 'beautiful'}, {'aspect': 'entree', 'opinion': 'bland'}, {'aspect': 'entree', 'opinion': 'small'}, {'aspect': 'bit', 'opinion': 'expensive'}, {'aspect': 'menu', 'opinion': 'expensive'}, {'aspect': 'bit', 'opinion': 'expensive'}, {'aspect': 'menu', 'opinion': 'expensive'}, {'aspect': 'bit', 'opinion': 'expensive'}, {'aspect': 'menu', 'opinion': 'expensive'}, {'aspect': 'family', 'opinion': 'last'}, {'aspect': 'weekend', 'opinion': 'last'}, {'aspect': 'service', 'opinion': 'fine'}, {'aspect': 'd', 'opinion': 'incredibly unwelcoming'}, {'aspect': 'd', 'opinion': 'arrogant'}, {'aspect': 'meals', 'opinion': 'high'}, {'aspect': 'display', 'opinion': 'not bad'}, {'aspect': 'behavior', 'opinion': 'bad'}, {'aspect': 'response', 'opinion': 'smug'}, {'aspect': 'word', 'opinion': 'wise'}, {'aspect': 'food', 'opinion': 'fabulous'}, {'aspect': 'price range', 'opinion': 'special'}, {'aspect': 'times', 'opinion': 'last'}, {'aspect': 'years', 'opinion': 'last'}, {'aspect': 'seat', 'opinion': 'so hideous'}, {'aspect': 'hair', 'opinion': 'brown'}, {'aspect': 'part', 'opinion': 'last'}, {'aspect': 'opinions', 'opinion': 'uninvited'}, {'aspect': 'person', 'opinion': 'friendly'}, {'aspect': 'service', 'opinion': 'better'}, {'aspect': 'thai food', 'opinion': 'thai'}, {'aspect': 'thai food', 'opinion': 'terrible'}, {'aspect': 'delivery', 'opinion': 'terrible'}, {'aspect': 'food', 'opinion': 'late'}, {'aspect': 'piece', 'opinion': 'excellent'}, {'aspect': 'pastries', 'opinion': 'several'}, {'aspect': 'pastries', 'opinion': 'other'}, {'aspect': 'pastries', 'opinion': 'nice'}, {'aspect': 'taste', 'opinion': 'much'}, {'aspect': 'husband', 'opinion': 'several'}, {'aspect': 'husband', 'opinion': 'more'}, {'aspect': 'portion', 'opinion': 'fine'}, {'aspect': 'fries', 'opinion': 'french'}, {'aspect': 'fries', 'opinion': 'best'}, {'aspect': 'sauce', 'opinion': 'wonderful'}, {'aspect': 'time', 'opinion': 'first'}, {'aspect': 'sushi', 'opinion': 'outstanding'}, {'aspect': 'time', 'opinion': 'second'}, {'aspect': 'time', 'opinion': 'little'}, {'aspect': 'time', 'opinion': 'little bland'}, {'aspect': 'wood decor', 'opinion': 'very soothing'}, {'aspect': 'sake', 'opinion': 'excellent'}, {'aspect': 'service', 'opinion': 'great'}, {'aspect': 'wood decor', 'opinion': 'very soothing'}, {'aspect': 'sake', 'opinion': 'excellent'}, {'aspect': 'service', 'opinion': 'great'}, {'aspect': 'spreads', 'opinion': 'good'}, {'aspect': 'bagels', 'opinion': 'really tasty'}, {'aspect': 'complaint', 'opinion': 'big'}, {'aspect': 'toasting', 'opinion': 'available'}, {'aspect': 'toasting', 'opinion': 'available'}, {'aspect': 'roll', 'opinion': 'regular'}, {'aspect': 'tuna roll', 'opinion': 'huge'}, {'aspect': 'tuna roll', 'opinion': 'probably best'}, {'aspect': 'yellowtail', 'opinion': 'particularly good'}, {'aspect': 'food', 'opinion': 'more'}, {'aspect': 'food', 'opinion': 'less'}, {'aspect': 'place', 'opinion': 'sure'}, {'aspect': 'food', 'opinion': 'amazing'}, {'aspect': 'bottle', 'opinion': 'favourite!'}, {'aspect': 'wine', 'opinion': 'extensive!'}, {'aspect': 'selection', 'opinion': 'extensive!'}, {'aspect': 'place', 'opinion': 'small'}, {'aspect': 'place', 'opinion': 'intimate'}, {'aspect': 'service', 'opinion': 'excellent'}, {'aspect': 'service', 'opinion': 'great'}, {'aspect': 'date', 'opinion': 'romantic'}, {'aspect': 'occassion', 'opinion': 'special'}, {'aspect': 'food', 'opinion': 'pricey'}, {'aspect': 'tasting menu', 'opinion': 'greatest'}, {'aspect': 'tasting menu', 'opinion': 'good'}, {'aspect': 'food', 'opinion': 'very average'}, {'aspect': 'fusion stuff', 'opinion': 'too sweet'}, {'aspect': 'thing', 'opinion': 'too sweet'}, {'aspect': 'bit', 'opinion': 'more'}, {'aspect': 'salt', 'opinion': 'more'}, {'aspect': 'neighborhood', 'opinion': 'good'}, {'aspect': 'food', 'opinion': 'good'}, {'aspect': 'place', 'opinion': 'sleek'}, {'aspect': 'food', 'opinion': 'much'}, {'aspect': 'food', 'opinion': 'tasty'}, {'aspect': 'dishes', 'opinion': 'great'}, {'aspect': 'reviews', 'opinion': 'last'}, {'aspect': 'week', 'opinion': 'last'}, {'aspect': 'pizza', 'opinion': 'cold'}, {'aspect': 'pizza places', 'opinion': 'nice'}, {'aspect': 'hands', 'opinion': 'worst'}, {'aspect': 'hands', 'opinion': 'worst'}, {'aspect': 'place', 'opinion': 'small'}, {'aspect': 'food', 'opinion': 'fantastic'}, {'aspect': 'west side', 'opinion': 'much better'}, {'aspect': 'service', 'opinion': 'great'}, {'aspect': 'food', 'opinion': 'great'}, {'aspect': 'places', 'opinion': 'many'}, {'aspect': 'places', 'opinion': 'thai'}, {'aspect': 'pad penang', 'opinion': 'delicious'}, {'aspect': 'price', 'opinion': 'reasonable'}, {'aspect': 'service', 'opinion': 'poor'}, {'aspect': 'price', 'opinion': 'reasonable'}, {'aspect': 'service', 'opinion': 'poor'}, {'aspect': 'place', 'opinion': 'so much'}, {'aspect': 'fun', 'opinion': 'so much'}, {'aspect': 'family', 'opinion': 'not such'}, {'aspect': 'family', 'opinion': 'not incredible'}, {'aspect': 'entertainment', 'opinion': 'such'}, {'aspect': 'entertainment', 'opinion': 'incredible'}, {'aspect': 'stuff', 'opinion': 'better'}, {'aspect': 'food', 'opinion': 'great!'}, {'aspect': 'portions', 'opinion': 'really large'}, {'aspect': 'staff', 'opinion': 'friendliest'}, {'aspect': 'entertainment', 'opinion': 'live'}, {'aspect': 'disney type special effects', 'opinion': 'special'}, {'aspect': 'food', 'opinion': 'pretty tradional'}, {'aspect': 'food', 'opinion': 'good'}, {'aspect': 'food', 'opinion': 'large'}, {'aspect': 'portions', 'opinion': 'large'}, {'aspect': 'joya', 'opinion': 'best'}, {'aspect': 'variety', 'opinion': 'best'}, {'aspect': 'delivery', 'opinion': 'fastest'}, {'aspect': 'choice', 'opinion': 'great'}, {'aspect': 'deal', 'opinion': 'great'}, {'aspect': 'choice', 'opinion': 'great'}, {'aspect': 'deal', 'opinion': 'great'}, {'aspect': 'williamsburg spot', 'opinion': 'pleasantly surprising'}, {'aspect': 'pizza', 'opinion': 'delicious'}, {'aspect': 'proprietor', 'opinion': 'nicest'}, {'aspect': 'pizza restaurants', 'opinion': 'delicious'}, {'aspect': 'time', 'opinion': 'many'}, {'aspect': 'doughy bagel', 'opinion': 'less!'}, {'aspect': 'diet', 'opinion': 'not too much'}, {'aspect': 'diet', 'opinion': 'not little'}, {'aspect': 'pricey', 'opinion': 'little'}, {'aspect': 'pricey', 'opinion': 'little'}, {'aspect': 'pricey', 'opinion': 'little'}, {'aspect': 'exprience', 'opinion': 'real domincan'}, {'aspect': 'jimmy', 'opinion': 'dominican!'}, {'aspect': 'ghetto', 'opinion': 'not even not funny'}, {'aspect': 'ghetto', 'opinion': 'not even funny'}, {'aspect': 'latin quarters', 'opinion': 'latin'}, {'aspect': 'place', 'opinion': 'awesome'}, {'aspect': 'restaurants', 'opinion': 'many'}, {'aspect': 'restaurants', 'opinion': 'thai'}, {'aspect': 'thai food', 'opinion': 'best'}, {'aspect': 'meat patties', 'opinion': 'steamed'}, {'aspect': 'rest', 'opinion': 'dim'}, {'aspect': 'sum', 'opinion': 'dim'}, {'aspect': 'chinatown standards', 'opinion': 'chinatown'}, {'aspect': 'chinatown standards', 'opinion': 'chinatown'}, {'aspect': 'chinatown standards', 'opinion': 'chinatown'}, {'aspect': 'wait', 'opinion': 'long'}, {'aspect': 'wait', 'opinion': 'dim'}, {'aspect': 'sum', 'opinion': 'dim'}, {'aspect': 'sum atmosphere', 'opinion': 'dim'}, {'aspect': 'sum atmosphere', 'opinion': 'dim'}, {'aspect': 'sum atmosphere', 'opinion': 'dim'}, {'aspect': 'alternative', 'opinion': 'sleek'}, {'aspect': 'tips', 'opinion': 'few'}, {'aspect': 'mott st', 'opinion': 'little'}, {'aspect': 'mott st', 'opinion': 'east'}, {'aspect': 'strike', 'opinion': 'lucky'}, {'aspect': 'strike', 'opinion': 'great'}, {'aspect': 'strike', 'opinion': 'casual'}, {'aspect': 'place', 'opinion': 'great'}, {'aspect': 'place', 'opinion': 'casual'}, {'aspect': 'food', 'opinion': 'great'}, {'aspect': 'service', 'opinion': 'great'}, {'aspect': 'wannabes', 'opinion': 'trendy'}, {'aspect': 'hundreds', 'opinion': 'italian'}, {'aspect': 'restaurants', 'opinion': 'italian'}, {'aspect': 'shrimp scampi', 'opinion': 'excellent'}, {'aspect': 'antipasti', 'opinion': 'plentiful'}, {'aspect': 'restaurant', 'opinion': 'great'}, {'aspect': 'restaurant', 'opinion': 'italian'}, {'aspect': 'restaurants', 'opinion': 'few'}, {'aspect': 'restaurants', 'opinion': 'different'}, {'aspect': 'one', 'opinion': 'worst'}, {'aspect': 'food', 'opinion': 'not fresh'}, {'aspect': 'sauces', 'opinion': 'bland'}, {'aspect': 'tapas', 'opinion': 'consistently good'}, {'aspect': 'tapas', 'opinion': 'japanese'}, {'aspect': 'owner', 'opinion': 'same'}, {'aspect': 'drinks', 'opinion': 'good'}, {'aspect': 'service', 'opinion': 'pretty good'}, {'aspect': 'atmosphere', 'opinion': 'nice'}, {'aspect': 'place', 'opinion': 'great'}, {'aspect': 'bbq meats', 'opinion': 'tasty'}, {'aspect': 'bar', 'opinion': 'more romantic'}, {'aspect': 'food', 'opinion': 'mediocre'}, {'aspect': 'food', 'opinion': 'best'}, {'aspect': 'places', 'opinion': 'so many'}, {'aspect': 'places', 'opinion': 'other'}, {'aspect': 'places', 'opinion': 'great'}, {'aspect': 'place', 'opinion': 'not worth'}, {'aspect': 'food', 'opinion': 'japanese'}, {'aspect': 'luke', 'opinion': 'warm'}, {'aspect': 'waitress', 'opinion': 'not all attentive'}, {'aspect': 'places', 'opinion': 'too many'}, {'aspect': 'places', 'opinion': 'other'}, {'aspect': 'places', 'opinion': 'good'}, {'aspect': 'sushi joints', 'opinion': 'best'}, {'aspect': 'sushi joints', 'opinion': 'best'}, {'aspect': 'sushi joints', 'opinion': 'best'}, {'aspect': 'sushi joints', 'opinion': 'best'}, {'aspect': 'yamato', 'opinion': 'favorite'}, {'aspect': 'sushi', 'opinion': 'consistently good'}, {'aspect': 'service', 'opinion': 'pleasant'}, {'aspect': 'garden area', 'opinion': 'back'}, {'aspect': 'garden area', 'opinion': 'back'}, {'aspect': 'garden area', 'opinion': 'really nice'}, {'aspect': 'rolls', 'opinion': 'creative'}, {'aspect': 'food', 'opinion': 'more inventive'}, {'aspect': 'food', 'opinion': 'yet delicious'}, {'aspect': 'food', 'opinion': 'japanese'}, {'aspect': 'food', 'opinion': 'gross'}, {'aspect': 'new york', 'opinion': 'not such'}, {'aspect': 'new york', 'opinion': 'not gross'}, {'aspect': 'year', 'opinion': 'old'}, {'aspect': 'plate', 'opinion': 'bland'}, {'aspect': 'guacamole', 'opinion': 'bland'}, {'aspect': 'restaurant', 'opinion': 'crappy'}, {'aspect': 'restaurant', 'opinion': 'such'}, {'aspect': 'crowds', 'opinion': 'such'}, {'aspect': 'dog', 'opinion': 'real'}, {'aspect': 'dog', 'opinion': 'hot'}, {'aspect': 'bathroom', 'opinion': 'filthy'}, {'aspect': 'prices', 'opinion': 'high'}, {'aspect': 'dessert', 'opinion': 'better'}, {'aspect': 'mens bathroom', 'opinion': 'disgusting'}, {'aspect': 'floor', 'opinion': 'wet'}, {'aspect': 'food', 'opinion': 'subtle'}, {'aspect': 'servers', 'opinion': 'different'}, {'aspect': 'greg', 'opinion': 'favorite'}, {'aspect': 'place', 'opinion': 'first'}, {'aspect': 'prices', 'opinion': 'fair'}, {'aspect': 'servers', 'opinion': 'patient'}, {'aspect': 'meal', 'opinion': 'delicious'}, {'aspect': 'meal', 'opinion': 'special'}, {'aspect': 'occassions', 'opinion': 'special'}, {'aspect': 'appetizers', 'opinion': 'really good'}, {'aspect': 'entree', 'opinion': 'very good'}, {'aspect': 'place', 'opinion': 'classy'}, {'aspect': 'place', 'opinion': 'beautiful'}, {'aspect': 'uber whealthy', 'opinion': 'not common'}, {'aspect': 'course', 'opinion': 'not real'}, {'aspect': 'kobe', 'opinion': 'real'}, {'aspect': 'vanison', 'opinion': 'good'}, {'aspect': 'bison', 'opinion': 'quite excellent'}, {'aspect': 'disaster', 'opinion': 'pure'}, {'aspect': 'tart thing', 'opinion': 'tart'}, {'aspect': 'tart thing', 'opinion': 'not all impressive'}, {'aspect': 'restaurant', 'opinion': 'too expensive'}, {'aspect': 'curiousity', 'opinion': 'best'}, {'aspect': 'food', 'opinion': 'great'}, {'aspect': 'environment', 'opinion': 'very upscale'}, {'aspect': 'lot', 'opinion': 'rich'}, {'aspect': 'guys', 'opinion': 'rich'}, {'aspect': 'service', 'opinion': 'ok'}, {'aspect': 'week', 'opinion': 'other'}, {'aspect': 'couple', 'opinion': 'other'}, {'aspect': 'dishes', 'opinion': 'other'}, {'aspect': 'meat', 'opinion': 'fresh'}, {'aspect': 'sauces', 'opinion': 'great'}, {'aspect': 'salad', 'opinion': 'free'}, {'aspect': 'salad', 'opinion': 'free'}, {'aspect': 'place', 'opinion': 'totally weird'}, {'aspect': 'decor', 'opinion': 'totally weird'}, {'aspect': 'decor', 'opinion': 'mirrored'}, {'aspect': 'walls', 'opinion': 'mirrored'}, {'aspect': 'walls', 'opinion': 'mirrored'}, {'aspect': 'food', 'opinion': 'totally weird'}, {'aspect': 'concept', 'opinion': 'japanese'}, {'aspect': 'tapas', 'opinion': 'japanese'}, {'aspect': 'palce', 'opinion': 'still open'}, {'aspect': 'lookout', 'opinion': 'new'}, {'aspect': 'places', 'opinion': 'new'}, {'aspect': 'friend', 'opinion': 'flatbush'}, {'aspect': 'farms', 'opinion': 'flatbush'}, {'aspect': 'bed', 'opinion': 'extremely undercooked'}, {'aspect': 'spinach', 'opinion': 'extremely undercooked'}, {'aspect': 'spinach', 'opinion': 'mashed'}, {'aspect': 'potatoes', 'opinion': 'mashed'}, {'aspect': 'salmon', 'opinion': 'fishy'}, {'aspect': 'salmon', 'opinion': 'as bland'}, {'aspect': 'spinach', 'opinion': 'so undercooked'}, {'aspect': 'potatoes', 'opinion': 'mashed'}, {'aspect': 'chicken', 'opinion': 'better!!!!'}, {'aspect': 'rudeness', 'opinion': 'preposterous'}, {'aspect': 'experience', 'opinion': 'unpleasant'}, {'aspect': 'food', 'opinion': 'very good'}, {'aspect': 'visit', 'opinion': 'last'}, {'aspect': 'hour', 'opinion': 'extra'}, {'aspect': 'restaurants', 'opinion': 'just too just many'}, {'aspect': 'restaurants', 'opinion': 'other'}, {'aspect': 'restaurants', 'opinion': 'better'}, {'aspect': 'bread', 'opinion': 'stale'}, {'aspect': 'bread', 'opinion': 'empty'}, {'aspect': 'sauce', 'opinion': 'enough'}, {'aspect': 'baluchi', 'opinion': 'solid'}, {'aspect': 'food', 'opinion': 'solid'}, {'aspect': 'decor', 'opinion': 'nice'}, {'aspect': 'decor', 'opinion': 'reasonable'}, {'aspect': 'prices', 'opinion': 'reasonable'}, {'aspect': 'problem', 'opinion': 'only'}, {'aspect': 'manager', 'opinion': 'complete'}, {'aspect': 'incompetent', 'opinion': 'complete'}, {'aspect': 'excuse', 'opinion': 'such!'}, {'aspect': 'excuse', 'opinion': 'lousy!'}, {'aspect': 'service', 'opinion': 'such!'}, {'aspect': 'service', 'opinion': 'lousy!'}, {'aspect': 'restaurant', 'opinion': 'single'}, {'aspect': 'restaurant', 'opinion': 'worst'}, {'aspect': 'pita', 'opinion': 'good'}, {'aspect': 'chuckie cheeze', 'opinion': 'chuckie'}, {'aspect': 'chuckie cheeze', 'opinion': 'chuckie'}, {'aspect': 'chuckie cheeze', 'opinion': 'chuckie'}, {'aspect': 'chuckie cheeze', 'opinion': 'middle'}, {'aspect': 'chuckie cheeze', 'opinion': 'middle eastern'}, {'aspect': 'chuckie cheeze', 'opinion': 'chuckie'}, {'aspect': 'chuckie cheeze', 'opinion': 'chuckie'}, {'aspect': 'chuckie cheeze', 'opinion': 'chuckie'}, {'aspect': 'chuckie cheeze', 'opinion': 'chuckie'}, {'aspect': 'reason', 'opinion': 'different'}, {'aspect': 'results', 'opinion': 'different'}, {'aspect': 'citysearch', 'opinion': 'same'}, {'aspect': 'place', 'opinion': 'same'}, {'aspect': 'thread', 'opinion': 'new'}, {'aspect': 'thread', 'opinion': 'positive'}, {'aspect': 'reviews', 'opinion': 'positive'}, {'aspect': 'things', 'opinion': 'expensive'}, {'aspect': 'scene', 'opinion': 'spectacular'}, {'aspect': 'bucks', 'opinion': 'cold'}, {'aspect': 'bucks', 'opinion': 'cold eggplant'}, {'aspect': 'village market', 'opinion': 'west'}, {'aspect': 'village market', 'opinion': 'competitive'}, {'aspect': 'village market', 'opinion': 'west'}, {'aspect': 'village market', 'opinion': 'west'}, {'aspect': 'village market', 'opinion': 'west'}, {'aspect': 'village market', 'opinion': 'west'}, {'aspect': 'pizza', 'opinion': 'delicious'}, {'aspect': 'mozzarella', 'opinion': 'fresh'}, {'aspect': 'mozzarella', 'opinion': 'cheap'}, {'aspect': 'cheese', 'opinion': 'common'}, {'aspect': 'cheese', 'opinion': 'common'}, {'aspect': 'cheese', 'opinion': 'most'}, {'aspect': 'pizzaria', 'opinion': 'most'}, {'aspect': 'mozzarella sticks', 'opinion': 'mozzarella'}, {'aspect': 'mozzarella sticks', 'opinion': 'mozzarella'}, {'aspect': 'wait staff', 'opinion': 'blantently unappreciative'}, {'aspect': 'pie', 'opinion': 'best!'}, {'aspect': 'time', 'opinion': 'excellent'}, {'aspect': 'service', 'opinion': 'very good'}, {'aspect': 'prices', 'opinion': 'moderate'}, {'aspect': 'noise', 'opinion': 'little'}, {'aspect': 'noise', 'opinion': 'little'}, {'aspect': 'mermaid inn', 'opinion': 'overall'}, {'aspect': 'mermaid inn', 'opinion': 'good'}, {'aspect': 'mermaid inn', 'opinion': 'really good'}, {'aspect': 'seafood', 'opinion': 'really good'}, {'aspect': 'dishes', 'opinion': 'excellent'}, {'aspect': 'lobster sandwich', 'opinion': 'good'}, {'aspect': 'shrimp', 'opinion': 'great'}, {'aspect': 'service', 'opinion': 'good'}, {'aspect': 'ambience', 'opinion': 'good'}, {'aspect': 'fallback', 'opinion': 'only'}, {'aspect': 'seafood', 'opinion': 'good'}, {'aspect': 'prices', 'opinion': 'too high'}, {'aspect': 'music', 'opinion': 'good'}, {'aspect': 'food', 'opinion': 'great'}, {'aspect': 'service', 'opinion': 'affordable'}, {'aspect': 'prices', 'opinion': 'speedy'}, {'aspect': 'prices', 'opinion': 'affordable'}, {'aspect': 'glass', 'opinion': 'good'}, {'aspect': 'food', 'opinion': 'okay'}, {'aspect': 'chow fun', 'opinion': 'dry'}, {'aspect': 'shu mai', 'opinion': 'more'}, {'aspect': 'shu mai', 'opinion': 'usually greasy'}, {'aspect': 'shu mai', 'opinion': 'rude'}, {'aspect': 'family', 'opinion': 'rude'}, {'aspect': 'reviewers', 'opinion': 'other'}, {'aspect': 'restaurants', 'opinion': 'different'}, {'aspect': 'time', 'opinion': 'last'}, {'aspect': 'scallop roll', 'opinion': 'spicy'}, {'aspect': 'scallop roll', 'opinion': 'spicy'}, {'aspect': 'mouth', 'opinion': 'little'}, {'aspect': 'consistency', 'opinion': 'perfect'}, {'aspect': 'sushi', 'opinion': 'pretty fresh'}, {'aspect': 'sushi deal', 'opinion': 'half'}, {'aspect': 'salads', 'opinion': 'delicious'}, {'aspect': 'salads', 'opinion': 'very spicy'}, {'aspect': 'pam', 'opinion': 'special'}, {'aspect': 'pam', 'opinion': 'fried'}, {'aspect': 'fish', 'opinion': 'special'}, {'aspect': 'fish', 'opinion': 'fried'}, {'aspect': 'fish', 'opinion': 'amazing'}, {'aspect': 'restaurants', 'opinion': 'many'}, {'aspect': 'restaurants', 'opinion': 'different'}, {'aspect': 'time', 'opinion': 'first'}, {'aspect': 'service', 'opinion': 'excellent'}, {'aspect': 'mignon dish', 'opinion': 'superb!'}, {'aspect': 'choices', 'opinion': 'top'}, {'aspect': 'restaurant', 'opinion': 'small'}, {'aspect': 'restaurant', 'opinion': 'cute'}, {'aspect': 'bo', 'opinion': 'new'}, {'aspect': 'fish', 'opinion': 'jelly'}, {'aspect': 'chicken', 'opinion': 'drunken'}, {'aspect': 'food', 'opinion': 'so cheap'}, {'aspect': 'waiters', 'opinion': 'nice'}, {'aspect': 'bibimbap', 'opinion': 'average'}, {'aspect': 'stone bowl', 'opinion': 'not even close'}, {'aspect': 'bokum', 'opinion': 'horrible'}, {'aspect': 'stir', 'opinion': 'worst'}, {'aspect': 'stir', 'opinion': 'fried'}, {'aspect': 'squid', 'opinion': 'fried'}, {'aspect': 'sauce', 'opinion': 'chinese'}, {'aspect': 'sauce', 'opinion': 'fast'}, {'aspect': 'food', 'opinion': 'chinese'}, {'aspect': 'food', 'opinion': 'fast'}, {'aspect': 'food', 'opinion': 'decent'}, {'aspect': 'korean', 'opinion': 'decent'}, {'aspect': 'side dishes', 'opinion': 'passable'}, {'aspect': 'problem', 'opinion': 'real'}, {'aspect': 'place', 'opinion': 'complete'}, {'aspect': 'lack', 'opinion': 'complete'}, {'aspect': 'dish', 'opinion': 'not very good'}, {'aspect': 'english', 'opinion': 'perfect'}, {'aspect': 'price', 'opinion': 'full'}, {'aspect': 'fusion', 'opinion': 'korean'}, {'aspect': 'food', 'opinion': 'horrible'}, {'aspect': 'food', 'opinion': 'majorly disappointing'}, {'aspect': 'dish', 'opinion': 'vegetarian'}, {'aspect': 'dish', 'opinion': 'vegetarian'}, {'aspect': 'plate', 'opinion': 'steamed'}, {'aspect': 'vegetables', 'opinion': 'steamed'}, {'aspect': 'vegetables', 'opinion': 'aesthetic'}, {'aspect': 'presentation', 'opinion': 'aesthetic'}, {'aspect': 'dinner', 'opinion': 'hungry'}, {'aspect': 'dinner', 'opinion': 'majorly disappointing'}, {'aspect': 'great', 'opinion': 'indian'}, {'aspect': 'food', 'opinion': 'indian'}, {'aspect': 'service', 'opinion': 'incredible'}, {'aspect': 'food', 'opinion': 'great'}, {'aspect': 'prices', 'opinion': 'very reasonable'}, {'aspect': 'rao', 'opinion': 'past'}, {'aspect': 'years', 'opinion': 'past'}, {'aspect': 'years', 'opinion': 'better'}, {'aspect': 'rao', 'opinion': 'best'}, {'aspect': 'service', 'opinion': 'best'}, {'aspect': 'luck', 'opinion': 'good'}, {'aspect': 'planet thai', 'opinion': 'great!'}, {'aspect': 'bit', 'opinion': 'rude'}, {'aspect': 'group', 'opinion': 'big'}, {'aspect': 'prices', 'opinion': 'so cheap!'}, {'aspect': 'portions', 'opinion': 'not small'}, {'aspect': 'food', 'opinion': 'nasty'}, {'aspect': 'w', 'opinion': 'late'}, {'aspect': 'crowd', 'opinion': 'late'}, {'aspect': 'cigar bar', 'opinion': 'nice'}, {'aspect': 'staff', 'opinion': 'great'}, {'aspect': 'food', 'opinion': 'tasty'}, {'aspect': 'portion sizes', 'opinion': 'appropriate'}, {'aspect': 'restaurant', 'opinion': 'nice'}, {'aspect': 'dinner meeting', 'opinion': 'intimate'}, {'aspect': 'place', 'opinion': 'great'}, {'aspect': 'place', 'opinion': 'general'}, {'aspect': 'dining', 'opinion': 'general'}, {'aspect': 'place', 'opinion': 'great'}, {'aspect': 'place', 'opinion': 'general'}, {'aspect': 'dining', 'opinion': 'general'}, {'aspect': 'place', 'opinion': 'great'}, {'aspect': 'place', 'opinion': 'general'}, {'aspect': 'dining', 'opinion': 'general'}, {'aspect': 'great', 'opinion': 'indian'}, {'aspect': 'food', 'opinion': 'indian'}, {'aspect': 'food', 'opinion': 'amazing'}, {'aspect': 'food', 'opinion': 'indian'}, {'aspect': 'food', 'opinion': 'normal'}, {'aspect': 'food', 'opinion': 'indian'}, {'aspect': 'restaurant', 'opinion': 'upscale'}, {'aspect': 'restaurant', 'opinion': 'indian'}, {'aspect': 'waiters', 'opinion': 'more'}, {'aspect': 'food', 'opinion': 'more'}, {'aspect': 'turnoff', 'opinion': 'huge'}, {'aspect': 'turnoff', 'opinion': 'more'}, {'aspect': 'turnoff', 'opinion': 'more'}, {'aspect': 'place', 'opinion': 'indian'}, {'aspect': 'food', 'opinion': 'indian'}, {'aspect': 'pizza', 'opinion': 'little'}, {'aspect': 'pizza', 'opinion': 'little soggy'}, {'aspect': 'ravioli', 'opinion': 'good'}, {'aspect': 'bit', 'opinion': 'overpriced'}, {'aspect': 'wines', 'opinion': 'enough'}, {'aspect': 'food', 'opinion': 'just average'}, {'aspect': 'draw', 'opinion': 'bigger'}, {'aspect': 'tamarind', 'opinion': 'not vegetarian'}, {'aspect': 'dishes', 'opinion': 'vegetarian'}, {'aspect': 'decor', 'opinion': 'nice'}, {'aspect': 'service', 'opinion': 'spotty'}, {'aspect': 'food', 'opinion': 'excellent'}, {'aspect': 'plastic forks', 'opinion': 'not plastic'}, {'aspect': 'experience', 'opinion': 'very disappointing'}, {'aspect': 'experience', 'opinion': 'very disappointing'}, {'aspect': 'experience', 'opinion': 'very disappointing'}, {'aspect': 'food', 'opinion': 'good'}, {'aspect': 'place', 'opinion': 'nice'}, {'aspect': 'bit', 'opinion': 'slow'}, {'aspect': 'group', 'opinion': 'larger!'}, {'aspect': 'group', 'opinion': 'large'}, {'aspect': 'restaurant', 'opinion': 'fairly empty'}, {'aspect': 'menu', 'opinion': 'fairly simple'}, {'aspect': 'menu', 'opinion': 'much'}, {'aspect': 'descriptions', 'opinion': 'much'}, {'aspect': 'selection', 'opinion': 'not bottled'}, {'aspect': 'beer', 'opinion': 'bottled'}, {'aspect': 'order', 'opinion': 'fried'}, {'aspect': 'oysters', 'opinion': 'fried'}, {'aspect': 'clams', 'opinion': 'delicious'}, {'aspect': 'portion', 'opinion': 'tiny'}, {'aspect': 'lobster knuckles', 'opinion': 'special'}, {'aspect': 'lobster knuckles', 'opinion': 'ok'}, {'aspect': 'lobster knuckles', 'opinion': 'pretty tasteless'}, {'aspect': 'minutes', 'opinion': 'more'}, {'aspect': 'party', 'opinion': 'larger'}, {'aspect': 'person', 'opinion': 'other'}, {'aspect': 'person', 'opinion': 'very close'}, {'aspect': 'lobster roll', 'opinion': 'excellent'}, {'aspect': 'food', 'opinion': 'good'}, {'aspect': 'side', 'opinion': 'expensive'}, {'aspect': 'side', 'opinion': 'fresh'}, {'aspect': 'service', 'opinion': 'not friendliest!'}, {'aspect': 'service', 'opinion': 'not friendliest!'}, {'aspect': 'service', 'opinion': 'not large!'}, {'aspect': 'party', 'opinion': 'large!'}, {'aspect': 'food', 'opinion': 'great'}, {'aspect': 'meals', 'opinion': 'not edible'}, {'aspect': 'place', 'opinion': 'cute'}, {'aspect': 'disappointment', 'opinion': 'big'}, {'aspect': 'pastrami', 'opinion': 'best'}, {'aspect': 'pastrami', 'opinion': 'great'}, {'aspect': 'portion', 'opinion': 'great'}, {'aspect': 'portion', 'opinion': 'ridiculous'}, {'aspect': 'delis', 'opinion': 'many'}, {'aspect': 'delis', 'opinion': 'nice'}, {'aspect': 'wife', 'opinion': 'fried'}, {'aspect': 'shrimp', 'opinion': 'fried'}, {'aspect': 'shrimp', 'opinion': 'huge'}, {'aspect': 'place', 'opinion': 'favorite'}, {'aspect': 'service', 'opinion': 'excellent'}, {'aspect': 'decor', 'opinion': 'great'}, {'aspect': 'food', 'opinion': 'delicious'}, {'aspect': 'portions', 'opinion': 'large'}, {'aspect': 'restaurant', 'opinion': 'other'}, {'aspect': 'restaurant', 'opinion': 'italian'}, {'aspect': 'restaurant', 'opinion': 'most'}, {'aspect': 'night', 'opinion': 'last'}, {'aspect': 'service', 'opinion': 'good'}, {'aspect': 'food', 'opinion': 'surprisingly excellent'}, {'aspect': 'portions', 'opinion': 'huge'}, {'aspect': 'values', 'opinion': 'best'}, {'aspect': 'bagels', 'opinion': 'fine'}, {'aspect': 'service', 'opinion': 'excellent'}, {'aspect': 'food', 'opinion': 'delicious'}, {'aspect': 'ceviche mix', 'opinion': 'special'}, {'aspect': 'sashimi', 'opinion': 'assorted'}, {'aspect': 'sushi favorites', 'opinion': 'more expensive'}, {'aspect': 'sushi favorites', 'opinion': 'other'}, {'aspect': 'spot', 'opinion': 'great'}, {'aspect': 'spot', 'opinion': 'nice'}, {'aspect': 'occasion', 'opinion': 'nice'}, {'aspect': 'spot', 'opinion': 'great'}, {'aspect': 'spot', 'opinion': 'nice'}, {'aspect': 'occasion', 'opinion': 'nice'}, {'aspect': 'spot', 'opinion': 'great'}, {'aspect': 'spot', 'opinion': 'nice'}, {'aspect': 'occasion', 'opinion': 'nice'}, {'aspect': 'new york', 'opinion': 'many'}, {'aspect': 'new york', 'opinion': 'best'}, {'aspect': 'gyro joints', 'opinion': 'usual'}, {'aspect': 'greek', 'opinion': 'various'}, {'aspect': 'greek', 'opinion': 'cypriot'}, {'aspect': 'dishes', 'opinion': 'cypriot'}, {'aspect': 'dishes', 'opinion': 'excellent'}, {'aspect': 'weeks', 'opinion': 'few'}, {'aspect': 'thai restaurants', 'opinion': 'thai'}, {'aspect': 'thai restaurants', 'opinion': 'thai'}, {'aspect': 'thai restaurants', 'opinion': 'similar'}, {'aspect': 'thai restaurants', 'opinion': 'other'}, {'aspect': 'thai restaurants', 'opinion': 'thai'}, {'aspect': 'thai restaurants', 'opinion': 'thai'}, {'aspect': 'place', 'opinion': 'different'}, {'aspect': 'need', 'opinion': 'not uncourteous'}, {'aspect': 'need', 'opinion': 'downright rude'}, {'aspect': 'service', 'opinion': 'poor'}, {'aspect': 'staff', 'opinion': 'not very attentive'}, {'aspect': 'food', 'opinion': 'exceptional'}, {'aspect': 'lamb', 'opinion': 'shank'}, {'aspect': 'lamb', 'opinion': 'red'}, {'aspect': 'wine', 'opinion': 'red'}, {'aspect': 'service', 'opinion': 'friendly'}, {'aspect': 'atmosphere', 'opinion': 'casual'}, {'aspect': 'bit', 'opinion': 'noisy'}, {'aspect': 'meal', 'opinion': 'great'}, {'aspect': 'service', 'opinion': 'attentive'}, {'aspect': 'food', 'opinion': 'far better'}, {'aspect': 'food', 'opinion': 'many'}, {'aspect': 'food', 'opinion': 'notorious'}, {'aspect': 'restaurants', 'opinion': 'many'}, {'aspect': 'restaurants', 'opinion': 'notorious'}, {'aspect': 'wine list', 'opinion': 'extensive'}, {'aspect': 'fixe menu', 'opinion': 'worth'}, {'aspect': 'suan', 'opinion': 'great'}, {'aspect': 'place', 'opinion': 'great'}, {'aspect': 'location', 'opinion': 'good'}, {'aspect': 'prices', 'opinion': 'very reasonable'}, {'aspect': 'suan', 'opinion': 'slow'}, {'aspect': 'terrace', 'opinion': 'great!!!'}, {'aspect': 'feature', 'opinion': 'great!!!'}]\n"
          ]
        }
      ]
    },
    {
      "cell_type": "code",
      "metadata": {
        "id": "aaIW8I3joF0Q",
        "colab": {
          "base_uri": "https://localhost:8080/",
          "height": 86
        },
        "outputId": "79065938-70dd-44f5-cf9d-fc1381b45711"
      },
      "source": [
        "txt_lst[0]"
      ],
      "execution_count": null,
      "outputs": [
        {
          "output_type": "execute_result",
          "data": {
            "application/vnd.google.colaboratory.intrinsic+json": {
              "type": "string"
            },
            "text/plain": [
              "' Judging from previous posts this used to be a good place, but not any longer. We, there were four of us, arrived at noon - the place was empty - and the staff acted like we were imposing on them and they were very rude. They never brought us complimentary noodles, ignored repeated requests for sugar, and threw our dishes on the table. The food was lousy - too sweet or too salty and the portions tiny. After all that, they complained to me about the small tip. Avoid this place!'"
            ]
          },
          "metadata": {},
          "execution_count": 38
        }
      ]
    },
    {
      "cell_type": "code",
      "metadata": {
        "id": "E3PWdGxpotQd",
        "colab": {
          "base_uri": "https://localhost:8080/",
          "height": 333
        },
        "outputId": "7da002b1-99f6-4234-95b6-f7ea8d525106"
      },
      "source": [
        "txt =  \"Avoid this place!\"\n",
        "txt1='No Parking'\n",
        "\n",
        "nlp=spacy.load(\"en_core_web_sm\")  #Load the small English model\n",
        "doc = nlp(txt)  # Process a text\n",
        "spacy.displacy.render(doc,style='dep',jupyter=True)"
      ],
      "execution_count": null,
      "outputs": [
        {
          "output_type": "display_data",
          "data": {
            "text/html": [
              "<span class=\"tex2jax_ignore\"><svg xmlns=\"http://www.w3.org/2000/svg\" xmlns:xlink=\"http://www.w3.org/1999/xlink\" xml:lang=\"en\" id=\"245a3f1047364803bfd74c0b9827607c-0\" class=\"displacy\" width=\"575\" height=\"312.0\" direction=\"ltr\" style=\"max-width: none; height: 312.0px; color: #000000; background: #ffffff; font-family: Arial; direction: ltr\">\n",
              "<text class=\"displacy-token\" fill=\"currentColor\" text-anchor=\"middle\" y=\"222.0\">\n",
              "    <tspan class=\"displacy-word\" fill=\"currentColor\" x=\"50\">Avoid</tspan>\n",
              "    <tspan class=\"displacy-tag\" dy=\"2em\" fill=\"currentColor\" x=\"50\">VERB</tspan>\n",
              "</text>\n",
              "\n",
              "<text class=\"displacy-token\" fill=\"currentColor\" text-anchor=\"middle\" y=\"222.0\">\n",
              "    <tspan class=\"displacy-word\" fill=\"currentColor\" x=\"225\">this</tspan>\n",
              "    <tspan class=\"displacy-tag\" dy=\"2em\" fill=\"currentColor\" x=\"225\">DET</tspan>\n",
              "</text>\n",
              "\n",
              "<text class=\"displacy-token\" fill=\"currentColor\" text-anchor=\"middle\" y=\"222.0\">\n",
              "    <tspan class=\"displacy-word\" fill=\"currentColor\" x=\"400\">place!</tspan>\n",
              "    <tspan class=\"displacy-tag\" dy=\"2em\" fill=\"currentColor\" x=\"400\">NOUN</tspan>\n",
              "</text>\n",
              "\n",
              "<g class=\"displacy-arrow\">\n",
              "    <path class=\"displacy-arc\" id=\"arrow-245a3f1047364803bfd74c0b9827607c-0-0\" stroke-width=\"2px\" d=\"M245,177.0 C245,89.5 395.0,89.5 395.0,177.0\" fill=\"none\" stroke=\"currentColor\"/>\n",
              "    <text dy=\"1.25em\" style=\"font-size: 0.8em; letter-spacing: 1px\">\n",
              "        <textPath xlink:href=\"#arrow-245a3f1047364803bfd74c0b9827607c-0-0\" class=\"displacy-label\" startOffset=\"50%\" side=\"left\" fill=\"currentColor\" text-anchor=\"middle\">det</textPath>\n",
              "    </text>\n",
              "    <path class=\"displacy-arrowhead\" d=\"M245,179.0 L237,167.0 253,167.0\" fill=\"currentColor\"/>\n",
              "</g>\n",
              "\n",
              "<g class=\"displacy-arrow\">\n",
              "    <path class=\"displacy-arc\" id=\"arrow-245a3f1047364803bfd74c0b9827607c-0-1\" stroke-width=\"2px\" d=\"M70,177.0 C70,2.0 400.0,2.0 400.0,177.0\" fill=\"none\" stroke=\"currentColor\"/>\n",
              "    <text dy=\"1.25em\" style=\"font-size: 0.8em; letter-spacing: 1px\">\n",
              "        <textPath xlink:href=\"#arrow-245a3f1047364803bfd74c0b9827607c-0-1\" class=\"displacy-label\" startOffset=\"50%\" side=\"left\" fill=\"currentColor\" text-anchor=\"middle\">dobj</textPath>\n",
              "    </text>\n",
              "    <path class=\"displacy-arrowhead\" d=\"M400.0,179.0 L408.0,167.0 392.0,167.0\" fill=\"currentColor\"/>\n",
              "</g>\n",
              "</svg></span>"
            ],
            "text/plain": [
              "<IPython.core.display.HTML object>"
            ]
          },
          "metadata": {}
        }
      ]
    },
    {
      "cell_type": "code",
      "metadata": {
        "id": "zZgVnkQyaWpe"
      },
      "source": [
        "aspects = list(filter(None, aspects))"
      ],
      "execution_count": null,
      "outputs": []
    },
    {
      "cell_type": "code",
      "metadata": {
        "id": "-t5rrfrCwHhS"
      },
      "source": [
        ""
      ],
      "execution_count": null,
      "outputs": []
    },
    {
      "cell_type": "code",
      "metadata": {
        "id": "KTe3wS4Laz51"
      },
      "source": [
        "# aspects"
      ],
      "execution_count": null,
      "outputs": []
    },
    {
      "cell_type": "code",
      "metadata": {
        "id": "oKEp_7QoTuyx"
      },
      "source": [
        "#preprocess"
      ],
      "execution_count": null,
      "outputs": []
    },
    {
      "cell_type": "code",
      "metadata": {
        "id": "W9I2_Y9Wc8ay",
        "colab": {
          "base_uri": "https://localhost:8080/"
        },
        "outputId": "ab028d51-4a3e-47e2-e24f-b051cb26e961"
      },
      "source": [
        "print(len(feautures_term))\n",
        "print(len(feature))\n",
        "print(len(aspects))\n",
        "print(len(raw_txt))\n",
        "len(weight)"
      ],
      "execution_count": null,
      "outputs": [
        {
          "output_type": "stream",
          "name": "stdout",
          "text": [
            "2522\n",
            "2522\n",
            "2522\n",
            "2522\n"
          ]
        },
        {
          "output_type": "execute_result",
          "data": {
            "text/plain": [
              "2522"
            ]
          },
          "metadata": {},
          "execution_count": 43
        }
      ]
    },
    {
      "cell_type": "markdown",
      "metadata": {
        "id": "m5m8YycBlN0p"
      },
      "source": [
        "## Create Dataframe (all aspect and opinion) "
      ]
    },
    {
      "cell_type": "code",
      "metadata": {
        "id": "b_1bqowiPpV9",
        "colab": {
          "base_uri": "https://localhost:8080/",
          "height": 203
        },
        "outputId": "d1d939fe-60c0-4763-f39a-309afb5cad68"
      },
      "source": [
        "#unique dataframe of all aspect \n",
        "data= pd.DataFrame({\n",
        "    'aspect_opinion_pair': aspects,\n",
        "    'raw_clean_text': raw_txt,\n",
        "    'weight':weight\n",
        "}\n",
        ")\n",
        "data.head()"
      ],
      "execution_count": null,
      "outputs": [
        {
          "output_type": "execute_result",
          "data": {
            "text/html": [
              "<div>\n",
              "<style scoped>\n",
              "    .dataframe tbody tr th:only-of-type {\n",
              "        vertical-align: middle;\n",
              "    }\n",
              "\n",
              "    .dataframe tbody tr th {\n",
              "        vertical-align: top;\n",
              "    }\n",
              "\n",
              "    .dataframe thead th {\n",
              "        text-align: right;\n",
              "    }\n",
              "</style>\n",
              "<table border=\"1\" class=\"dataframe\">\n",
              "  <thead>\n",
              "    <tr style=\"text-align: right;\">\n",
              "      <th></th>\n",
              "      <th>aspect_opinion_pair</th>\n",
              "      <th>raw_clean_text</th>\n",
              "      <th>weight</th>\n",
              "    </tr>\n",
              "  </thead>\n",
              "  <tbody>\n",
              "    <tr>\n",
              "      <th>0</th>\n",
              "      <td>{'aspect': 'posts', 'opinion': 'previous'}</td>\n",
              "      <td>judging from previous posts this used to be a ...</td>\n",
              "      <td>0.402259</td>\n",
              "    </tr>\n",
              "    <tr>\n",
              "      <th>1</th>\n",
              "      <td>{'aspect': 'posts', 'opinion': 'good'}</td>\n",
              "      <td>judging from previous posts this used to be a ...</td>\n",
              "      <td>0.402259</td>\n",
              "    </tr>\n",
              "    <tr>\n",
              "      <th>2</th>\n",
              "      <td>{'aspect': 'place', 'opinion': 'good'}</td>\n",
              "      <td>judging from previous posts this used to be a ...</td>\n",
              "      <td>0.163964</td>\n",
              "    </tr>\n",
              "    <tr>\n",
              "      <th>3</th>\n",
              "      <td>{'aspect': 'place', 'opinion': 'empty'}</td>\n",
              "      <td>the place was empty</td>\n",
              "      <td>0.118972</td>\n",
              "    </tr>\n",
              "    <tr>\n",
              "      <th>4</th>\n",
              "      <td>{'aspect': 'noodles', 'opinion': 'complimentary'}</td>\n",
              "      <td>they never brought us complimentary noodles</td>\n",
              "      <td>0.28477</td>\n",
              "    </tr>\n",
              "  </tbody>\n",
              "</table>\n",
              "</div>"
            ],
            "text/plain": [
              "                                 aspect_opinion_pair  ...    weight\n",
              "0         {'aspect': 'posts', 'opinion': 'previous'}  ...  0.402259\n",
              "1             {'aspect': 'posts', 'opinion': 'good'}  ...  0.402259\n",
              "2             {'aspect': 'place', 'opinion': 'good'}  ...  0.163964\n",
              "3            {'aspect': 'place', 'opinion': 'empty'}  ...  0.118972\n",
              "4  {'aspect': 'noodles', 'opinion': 'complimentary'}  ...   0.28477\n",
              "\n",
              "[5 rows x 3 columns]"
            ]
          },
          "metadata": {},
          "execution_count": 44
        }
      ]
    },
    {
      "cell_type": "markdown",
      "metadata": {
        "id": "XBtjQGZPlhuo"
      },
      "source": [
        "## Category"
      ]
    },
    {
      "cell_type": "code",
      "metadata": {
        "id": "zNm-IQ-8KA19"
      },
      "source": [
        "#prededined aspects\n",
        "location=['location','view','views', 'transport', 'tickets','night', 'taxis', 'area', 'stations','places','terminal','sunsets','morning','nights','reach']\n",
        "food=['breakfast','sausage', 'bacon', 'eggs', 'brits','breakfasts', 'spread','food','dinner','foods']\n",
        "service=['staff',  'side','receptionist','reception','feature','service','desk']\n",
        "comfort_failities = ['rooms','shower', 'light', 'airy', 'rooms', 'windows','beds','room','sleeping','floor', 'ceiling','facility','walls','bedroom',\n",
        "                     'doors','facilities','bathroom', 'door','air', 'conditioning','roof','boat','water', 'bus','internet', 'wifi']\n",
        "\n",
        "experience=['hotel','hotels','restaurants', 'bars','atmosphere','quality']\n",
        "cost=['money','value','price','bills','pleasant','prices']"
      ],
      "execution_count": null,
      "outputs": []
    },
    {
      "cell_type": "code",
      "metadata": {
        "id": "HBHQggfHlzkr",
        "colab": {
          "base_uri": "https://localhost:8080/"
        },
        "outputId": "4ada17ae-8caa-484e-9f4f-ffeb08c351e0"
      },
      "source": [
        "len(data)"
      ],
      "execution_count": null,
      "outputs": [
        {
          "output_type": "execute_result",
          "data": {
            "text/plain": [
              "2522"
            ]
          },
          "metadata": {},
          "execution_count": 46
        }
      ]
    },
    {
      "cell_type": "code",
      "metadata": {
        "id": "CC7e2vjNvQ_p",
        "colab": {
          "base_uri": "https://localhost:8080/",
          "height": 417
        },
        "outputId": "3edd1a39-73ee-4022-8263-8e4f13e46832"
      },
      "source": [
        "data_new= data.copy()#copy \n",
        "# data=data[:5]\n",
        "data"
      ],
      "execution_count": null,
      "outputs": [
        {
          "output_type": "execute_result",
          "data": {
            "text/html": [
              "<div>\n",
              "<style scoped>\n",
              "    .dataframe tbody tr th:only-of-type {\n",
              "        vertical-align: middle;\n",
              "    }\n",
              "\n",
              "    .dataframe tbody tr th {\n",
              "        vertical-align: top;\n",
              "    }\n",
              "\n",
              "    .dataframe thead th {\n",
              "        text-align: right;\n",
              "    }\n",
              "</style>\n",
              "<table border=\"1\" class=\"dataframe\">\n",
              "  <thead>\n",
              "    <tr style=\"text-align: right;\">\n",
              "      <th></th>\n",
              "      <th>aspect_opinion_pair</th>\n",
              "      <th>raw_clean_text</th>\n",
              "      <th>weight</th>\n",
              "    </tr>\n",
              "  </thead>\n",
              "  <tbody>\n",
              "    <tr>\n",
              "      <th>0</th>\n",
              "      <td>{'aspect': 'posts', 'opinion': 'previous'}</td>\n",
              "      <td>judging from previous posts this used to be a ...</td>\n",
              "      <td>0.402259</td>\n",
              "    </tr>\n",
              "    <tr>\n",
              "      <th>1</th>\n",
              "      <td>{'aspect': 'posts', 'opinion': 'good'}</td>\n",
              "      <td>judging from previous posts this used to be a ...</td>\n",
              "      <td>0.402259</td>\n",
              "    </tr>\n",
              "    <tr>\n",
              "      <th>2</th>\n",
              "      <td>{'aspect': 'place', 'opinion': 'good'}</td>\n",
              "      <td>judging from previous posts this used to be a ...</td>\n",
              "      <td>0.163964</td>\n",
              "    </tr>\n",
              "    <tr>\n",
              "      <th>3</th>\n",
              "      <td>{'aspect': 'place', 'opinion': 'empty'}</td>\n",
              "      <td>the place was empty</td>\n",
              "      <td>0.118972</td>\n",
              "    </tr>\n",
              "    <tr>\n",
              "      <th>4</th>\n",
              "      <td>{'aspect': 'noodles', 'opinion': 'complimentary'}</td>\n",
              "      <td>they never brought us complimentary noodles</td>\n",
              "      <td>0.28477</td>\n",
              "    </tr>\n",
              "    <tr>\n",
              "      <th>...</th>\n",
              "      <td>...</td>\n",
              "      <td>...</td>\n",
              "      <td>...</td>\n",
              "    </tr>\n",
              "    <tr>\n",
              "      <th>2517</th>\n",
              "      <td>{'aspect': 'location', 'opinion': 'good'}</td>\n",
              "      <td>its location is good</td>\n",
              "      <td>0.229951</td>\n",
              "    </tr>\n",
              "    <tr>\n",
              "      <th>2518</th>\n",
              "      <td>{'aspect': 'prices', 'opinion': 'very reasonab...</td>\n",
              "      <td>their prices are very reasonable</td>\n",
              "      <td>0.178384</td>\n",
              "    </tr>\n",
              "    <tr>\n",
              "      <th>2519</th>\n",
              "      <td>{'aspect': 'suan', 'opinion': 'slow'}</td>\n",
              "      <td>compared to suan it is slow in service</td>\n",
              "      <td>0.327018</td>\n",
              "    </tr>\n",
              "    <tr>\n",
              "      <th>2520</th>\n",
              "      <td>{'aspect': 'terrace', 'opinion': 'great!!!'}</td>\n",
              "      <td>eat outside on a terrace (another great featur...</td>\n",
              "      <td>0.401436</td>\n",
              "    </tr>\n",
              "    <tr>\n",
              "      <th>2521</th>\n",
              "      <td>{'aspect': 'feature', 'opinion': 'great!!!'}</td>\n",
              "      <td>eat outside on a terrace (another great featur...</td>\n",
              "      <td>0.423077</td>\n",
              "    </tr>\n",
              "  </tbody>\n",
              "</table>\n",
              "<p>2522 rows × 3 columns</p>\n",
              "</div>"
            ],
            "text/plain": [
              "                                    aspect_opinion_pair  ...    weight\n",
              "0            {'aspect': 'posts', 'opinion': 'previous'}  ...  0.402259\n",
              "1                {'aspect': 'posts', 'opinion': 'good'}  ...  0.402259\n",
              "2                {'aspect': 'place', 'opinion': 'good'}  ...  0.163964\n",
              "3               {'aspect': 'place', 'opinion': 'empty'}  ...  0.118972\n",
              "4     {'aspect': 'noodles', 'opinion': 'complimentary'}  ...   0.28477\n",
              "...                                                 ...  ...       ...\n",
              "2517          {'aspect': 'location', 'opinion': 'good'}  ...  0.229951\n",
              "2518  {'aspect': 'prices', 'opinion': 'very reasonab...  ...  0.178384\n",
              "2519              {'aspect': 'suan', 'opinion': 'slow'}  ...  0.327018\n",
              "2520       {'aspect': 'terrace', 'opinion': 'great!!!'}  ...  0.401436\n",
              "2521       {'aspect': 'feature', 'opinion': 'great!!!'}  ...  0.423077\n",
              "\n",
              "[2522 rows x 3 columns]"
            ]
          },
          "metadata": {},
          "execution_count": 47
        }
      ]
    },
    {
      "cell_type": "code",
      "metadata": {
        "id": "aVzOJinPwAF6"
      },
      "source": [
        "def find_category(word):\n",
        "  if word in food:\n",
        "    return 'food'\n",
        "  elif (word in location):\n",
        "    return 'location'\n",
        "  elif (word in service):\n",
        "    return 'service'\n",
        "  elif (word in cost):\n",
        "    return 'cost'\n",
        "  elif word in comfort_failities:\n",
        "    return 'comfort and facilities'\n",
        "  \n",
        "  elif word in experience:\n",
        "    return 'overall experience'\n",
        "  else:\n",
        "    return 'others'"
      ],
      "execution_count": null,
      "outputs": []
    },
    {
      "cell_type": "markdown",
      "metadata": {
        "id": "h0XrjgBGl_JA"
      },
      "source": [
        "## TextBlob"
      ]
    },
    {
      "cell_type": "code",
      "metadata": {
        "id": "QfjL0mPYxH6r"
      },
      "source": [
        "def get_text_polarity_TB(txt):\n",
        "  return TextBlob(txt).sentiment.polarity"
      ],
      "execution_count": null,
      "outputs": []
    },
    {
      "cell_type": "markdown",
      "metadata": {
        "id": "m7r3Ls3zmKBD"
      },
      "source": [
        "Random Check TextBlob score"
      ]
    },
    {
      "cell_type": "code",
      "metadata": {
        "id": "-di7XeM_mDWq",
        "colab": {
          "base_uri": "https://localhost:8080/"
        },
        "outputId": "54f2a053-e39c-48f2-c9b6-61b82be66ce0"
      },
      "source": [
        "print(get_text_polarity_TB('heavy'))\n"
      ],
      "execution_count": null,
      "outputs": [
        {
          "output_type": "stream",
          "name": "stdout",
          "text": [
            "-0.2\n"
          ]
        }
      ]
    },
    {
      "cell_type": "code",
      "metadata": {
        "id": "JSz5HvZ_2Y4S"
      },
      "source": [
        "data_copy=data.copy()"
      ],
      "execution_count": null,
      "outputs": []
    },
    {
      "cell_type": "code",
      "metadata": {
        "id": "c9edlC71PQSv"
      },
      "source": [
        "category=[]\n",
        "polarity_TB=[]\n",
        "polarity_VD=[]\n",
        "aspect=[]\n",
        "opinion=[]\n",
        "\n",
        "for j, value in data['aspect_opinion_pair'].items():\n",
        "  dict=value\n",
        "  for key1 in dict:\n",
        "    if (key1=='aspect'):\n",
        "      a=find_category(dict[key1])\n",
        "      category.append(a)\n",
        "      aspect.append(dict[key1])\n",
        "    elif (key1=='opinion'):\n",
        "      b=str(dict[key1])\n",
        "      a=b\n",
        "      opinion.append(b)\n",
        "\n",
        "      b=get_text_polarity_TB(b)\n",
        "      polarity_TB.append(b)\n",
        "      \n",
        "    \n",
        "  \n",
        "    \n",
        "\n"
      ],
      "execution_count": null,
      "outputs": []
    },
    {
      "cell_type": "code",
      "metadata": {
        "id": "7meZfSVwxXZm",
        "colab": {
          "base_uri": "https://localhost:8080/"
        },
        "outputId": "1aa19294-ecea-4a1b-9bb9-2e4b2c2ecc33"
      },
      "source": [
        "print(len(category))\n",
        "print(len(opinion))\n",
        "print(len(polarity_TB))\n",
        "print(len(aspect))"
      ],
      "execution_count": null,
      "outputs": [
        {
          "output_type": "stream",
          "name": "stdout",
          "text": [
            "2522\n",
            "2522\n",
            "2522\n",
            "2522\n"
          ]
        }
      ]
    },
    {
      "cell_type": "code",
      "metadata": {
        "id": "z0-L51-DCF4R",
        "colab": {
          "base_uri": "https://localhost:8080/",
          "height": 551
        },
        "outputId": "cc5fea69-8445-47d2-bf69-863895a59732"
      },
      "source": [
        "data['category']=category\n",
        "data['opinions_polarity_TB']=polarity_TB\n",
        "data['aspect']=aspect\n",
        "data['opinion']=opinion\n",
        "data"
      ],
      "execution_count": null,
      "outputs": [
        {
          "output_type": "execute_result",
          "data": {
            "text/html": [
              "<div>\n",
              "<style scoped>\n",
              "    .dataframe tbody tr th:only-of-type {\n",
              "        vertical-align: middle;\n",
              "    }\n",
              "\n",
              "    .dataframe tbody tr th {\n",
              "        vertical-align: top;\n",
              "    }\n",
              "\n",
              "    .dataframe thead th {\n",
              "        text-align: right;\n",
              "    }\n",
              "</style>\n",
              "<table border=\"1\" class=\"dataframe\">\n",
              "  <thead>\n",
              "    <tr style=\"text-align: right;\">\n",
              "      <th></th>\n",
              "      <th>aspect_opinion_pair</th>\n",
              "      <th>raw_clean_text</th>\n",
              "      <th>weight</th>\n",
              "      <th>category</th>\n",
              "      <th>opinions_polarity_TB</th>\n",
              "      <th>aspect</th>\n",
              "      <th>opinion</th>\n",
              "    </tr>\n",
              "  </thead>\n",
              "  <tbody>\n",
              "    <tr>\n",
              "      <th>0</th>\n",
              "      <td>{'aspect': 'posts', 'opinion': 'previous'}</td>\n",
              "      <td>judging from previous posts this used to be a ...</td>\n",
              "      <td>0.402259</td>\n",
              "      <td>others</td>\n",
              "      <td>-0.166667</td>\n",
              "      <td>posts</td>\n",
              "      <td>previous</td>\n",
              "    </tr>\n",
              "    <tr>\n",
              "      <th>1</th>\n",
              "      <td>{'aspect': 'posts', 'opinion': 'good'}</td>\n",
              "      <td>judging from previous posts this used to be a ...</td>\n",
              "      <td>0.402259</td>\n",
              "      <td>others</td>\n",
              "      <td>0.700000</td>\n",
              "      <td>posts</td>\n",
              "      <td>good</td>\n",
              "    </tr>\n",
              "    <tr>\n",
              "      <th>2</th>\n",
              "      <td>{'aspect': 'place', 'opinion': 'good'}</td>\n",
              "      <td>judging from previous posts this used to be a ...</td>\n",
              "      <td>0.163964</td>\n",
              "      <td>others</td>\n",
              "      <td>0.700000</td>\n",
              "      <td>place</td>\n",
              "      <td>good</td>\n",
              "    </tr>\n",
              "    <tr>\n",
              "      <th>3</th>\n",
              "      <td>{'aspect': 'place', 'opinion': 'empty'}</td>\n",
              "      <td>the place was empty</td>\n",
              "      <td>0.118972</td>\n",
              "      <td>others</td>\n",
              "      <td>-0.100000</td>\n",
              "      <td>place</td>\n",
              "      <td>empty</td>\n",
              "    </tr>\n",
              "    <tr>\n",
              "      <th>4</th>\n",
              "      <td>{'aspect': 'noodles', 'opinion': 'complimentary'}</td>\n",
              "      <td>they never brought us complimentary noodles</td>\n",
              "      <td>0.28477</td>\n",
              "      <td>others</td>\n",
              "      <td>0.300000</td>\n",
              "      <td>noodles</td>\n",
              "      <td>complimentary</td>\n",
              "    </tr>\n",
              "    <tr>\n",
              "      <th>...</th>\n",
              "      <td>...</td>\n",
              "      <td>...</td>\n",
              "      <td>...</td>\n",
              "      <td>...</td>\n",
              "      <td>...</td>\n",
              "      <td>...</td>\n",
              "      <td>...</td>\n",
              "    </tr>\n",
              "    <tr>\n",
              "      <th>2517</th>\n",
              "      <td>{'aspect': 'location', 'opinion': 'good'}</td>\n",
              "      <td>its location is good</td>\n",
              "      <td>0.229951</td>\n",
              "      <td>location</td>\n",
              "      <td>0.700000</td>\n",
              "      <td>location</td>\n",
              "      <td>good</td>\n",
              "    </tr>\n",
              "    <tr>\n",
              "      <th>2518</th>\n",
              "      <td>{'aspect': 'prices', 'opinion': 'very reasonab...</td>\n",
              "      <td>their prices are very reasonable</td>\n",
              "      <td>0.178384</td>\n",
              "      <td>cost</td>\n",
              "      <td>0.260000</td>\n",
              "      <td>prices</td>\n",
              "      <td>very reasonable</td>\n",
              "    </tr>\n",
              "    <tr>\n",
              "      <th>2519</th>\n",
              "      <td>{'aspect': 'suan', 'opinion': 'slow'}</td>\n",
              "      <td>compared to suan it is slow in service</td>\n",
              "      <td>0.327018</td>\n",
              "      <td>others</td>\n",
              "      <td>-0.300000</td>\n",
              "      <td>suan</td>\n",
              "      <td>slow</td>\n",
              "    </tr>\n",
              "    <tr>\n",
              "      <th>2520</th>\n",
              "      <td>{'aspect': 'terrace', 'opinion': 'great!!!'}</td>\n",
              "      <td>eat outside on a terrace (another great featur...</td>\n",
              "      <td>0.401436</td>\n",
              "      <td>others</td>\n",
              "      <td>1.000000</td>\n",
              "      <td>terrace</td>\n",
              "      <td>great!!!</td>\n",
              "    </tr>\n",
              "    <tr>\n",
              "      <th>2521</th>\n",
              "      <td>{'aspect': 'feature', 'opinion': 'great!!!'}</td>\n",
              "      <td>eat outside on a terrace (another great featur...</td>\n",
              "      <td>0.423077</td>\n",
              "      <td>service</td>\n",
              "      <td>1.000000</td>\n",
              "      <td>feature</td>\n",
              "      <td>great!!!</td>\n",
              "    </tr>\n",
              "  </tbody>\n",
              "</table>\n",
              "<p>2522 rows × 7 columns</p>\n",
              "</div>"
            ],
            "text/plain": [
              "                                    aspect_opinion_pair  ...          opinion\n",
              "0            {'aspect': 'posts', 'opinion': 'previous'}  ...         previous\n",
              "1                {'aspect': 'posts', 'opinion': 'good'}  ...             good\n",
              "2                {'aspect': 'place', 'opinion': 'good'}  ...             good\n",
              "3               {'aspect': 'place', 'opinion': 'empty'}  ...            empty\n",
              "4     {'aspect': 'noodles', 'opinion': 'complimentary'}  ...    complimentary\n",
              "...                                                 ...  ...              ...\n",
              "2517          {'aspect': 'location', 'opinion': 'good'}  ...             good\n",
              "2518  {'aspect': 'prices', 'opinion': 'very reasonab...  ...  very reasonable\n",
              "2519              {'aspect': 'suan', 'opinion': 'slow'}  ...             slow\n",
              "2520       {'aspect': 'terrace', 'opinion': 'great!!!'}  ...         great!!!\n",
              "2521       {'aspect': 'feature', 'opinion': 'great!!!'}  ...         great!!!\n",
              "\n",
              "[2522 rows x 7 columns]"
            ]
          },
          "metadata": {},
          "execution_count": 54
        }
      ]
    },
    {
      "cell_type": "markdown",
      "metadata": {
        "id": "CTEv8Roo0it5"
      },
      "source": [
        "# Sentiwordnet"
      ]
    },
    {
      "cell_type": "code",
      "metadata": {
        "id": "rlfaWPR7y7Gj"
      },
      "source": [
        "import ssl\n",
        "from nltk.corpus import wordnet as wn\n",
        "from nltk.corpus import sentiwordnet as swn\n",
        "from nltk.stem import WordNetLemmatizer\n",
        "from nltk.corpus import stopwords"
      ],
      "execution_count": null,
      "outputs": []
    },
    {
      "cell_type": "code",
      "metadata": {
        "id": "yG4fWRhgy8pb"
      },
      "source": [
        "pos=neg=obj=count=0\n",
        "\n",
        "postagging = []\n",
        "\n",
        "for review in data['opinion']:\n",
        "    list = word_tokenize(review)\n",
        "    postagging.append(nltk.pos_tag(list))\n",
        "\n",
        "data['pos_tags'] = postagging\n",
        "\n",
        "def penn_to_wn(tag):\n",
        "    if tag.startswith('J'):\n",
        "        return wn.ADJ\n",
        "    elif tag.startswith('N'):\n",
        "        return wn.NOUN\n",
        "    elif tag.startswith('R'):\n",
        "        return wn.ADV\n",
        "    elif tag.startswith('V'):\n",
        "        return wn.VERB\n",
        "    return None\n",
        "\n",
        "\n",
        "# Returns list of pos-neg and objective score. But returns empty list if not present in senti wordnet.\n",
        "def get_sentiment(word,tag):\n",
        "    wn_tag = penn_to_wn(tag)\n",
        "    \n",
        "    if wn_tag not in (wn.NOUN, wn.ADJ, wn.ADV):\n",
        "        return []\n",
        "\n",
        "    #Lemmatization\n",
        "    lemma = lemmatizer.lemmatize(word, pos=wn_tag)\n",
        "    if not lemma:\n",
        "        return []\n",
        "\n",
        "    #Synset is a special kind of a simple interface that is present in NLTK to look up words in WordNet. \n",
        "    #Synset instances are the groupings of synonymous words that express the same concept. \n",
        "    #Some of the words have only one Synset and some have several.\n",
        "    synsets = wn.synsets(word, pos=wn_tag)\n",
        "    if not synsets:\n",
        "        return []\n",
        "\n",
        "    # Take the first sense, the most common\n",
        "    synset = synsets[0]\n",
        "    swn_synset = swn.senti_synset(synset.name())\n",
        "\n",
        "    return [synset.name(), swn_synset.pos_score(),swn_synset.neg_score(),swn_synset.obj_score()]\n",
        "\n",
        "    pos=neg=obj=count=0\n",
        "    \n",
        "    ###################################################################################\n",
        "senti_score = []\n",
        "\n",
        "for pos_val in data['pos_tags']:\n",
        "    senti_val = [get_sentiment(x,y) for (x,y) in pos_val]\n",
        "    for score in senti_val:\n",
        "        try:\n",
        "            pos = pos + score[1]  #positive score is stored at 2nd position\n",
        "            neg = neg + score[2]  #negative score is stored at 3rd position\n",
        "        except:\n",
        "            continue\n",
        "    senti_score.append(pos - neg)\n",
        "    pos=neg=0    \n",
        "    \n",
        "data['senti_score'] = senti_score\n",
        "\n"
      ],
      "execution_count": null,
      "outputs": []
    },
    {
      "cell_type": "code",
      "metadata": {
        "id": "atIknNSuy81J",
        "colab": {
          "base_uri": "https://localhost:8080/",
          "height": 806
        },
        "outputId": "f28defff-8ef3-454c-f002-20a41dfe2826"
      },
      "source": [
        "data = data.drop('pos_tags', 1)\n",
        "data"
      ],
      "execution_count": null,
      "outputs": [
        {
          "output_type": "execute_result",
          "data": {
            "text/html": [
              "<div>\n",
              "<style scoped>\n",
              "    .dataframe tbody tr th:only-of-type {\n",
              "        vertical-align: middle;\n",
              "    }\n",
              "\n",
              "    .dataframe tbody tr th {\n",
              "        vertical-align: top;\n",
              "    }\n",
              "\n",
              "    .dataframe thead th {\n",
              "        text-align: right;\n",
              "    }\n",
              "</style>\n",
              "<table border=\"1\" class=\"dataframe\">\n",
              "  <thead>\n",
              "    <tr style=\"text-align: right;\">\n",
              "      <th></th>\n",
              "      <th>aspect_opinion_pair</th>\n",
              "      <th>raw_clean_text</th>\n",
              "      <th>weight</th>\n",
              "      <th>category</th>\n",
              "      <th>opinions_polarity_TB</th>\n",
              "      <th>aspect</th>\n",
              "      <th>opinion</th>\n",
              "      <th>senti_score</th>\n",
              "    </tr>\n",
              "  </thead>\n",
              "  <tbody>\n",
              "    <tr>\n",
              "      <th>0</th>\n",
              "      <td>{'aspect': 'posts', 'opinion': 'previous'}</td>\n",
              "      <td>judging from previous posts this used to be a ...</td>\n",
              "      <td>0.402259</td>\n",
              "      <td>others</td>\n",
              "      <td>-0.166667</td>\n",
              "      <td>posts</td>\n",
              "      <td>previous</td>\n",
              "      <td>0.00</td>\n",
              "    </tr>\n",
              "    <tr>\n",
              "      <th>1</th>\n",
              "      <td>{'aspect': 'posts', 'opinion': 'good'}</td>\n",
              "      <td>judging from previous posts this used to be a ...</td>\n",
              "      <td>0.402259</td>\n",
              "      <td>others</td>\n",
              "      <td>0.700000</td>\n",
              "      <td>posts</td>\n",
              "      <td>good</td>\n",
              "      <td>0.75</td>\n",
              "    </tr>\n",
              "    <tr>\n",
              "      <th>2</th>\n",
              "      <td>{'aspect': 'place', 'opinion': 'good'}</td>\n",
              "      <td>judging from previous posts this used to be a ...</td>\n",
              "      <td>0.163964</td>\n",
              "      <td>others</td>\n",
              "      <td>0.700000</td>\n",
              "      <td>place</td>\n",
              "      <td>good</td>\n",
              "      <td>0.75</td>\n",
              "    </tr>\n",
              "    <tr>\n",
              "      <th>3</th>\n",
              "      <td>{'aspect': 'place', 'opinion': 'empty'}</td>\n",
              "      <td>the place was empty</td>\n",
              "      <td>0.118972</td>\n",
              "      <td>others</td>\n",
              "      <td>-0.100000</td>\n",
              "      <td>place</td>\n",
              "      <td>empty</td>\n",
              "      <td>0.00</td>\n",
              "    </tr>\n",
              "    <tr>\n",
              "      <th>4</th>\n",
              "      <td>{'aspect': 'noodles', 'opinion': 'complimentary'}</td>\n",
              "      <td>they never brought us complimentary noodles</td>\n",
              "      <td>0.28477</td>\n",
              "      <td>others</td>\n",
              "      <td>0.300000</td>\n",
              "      <td>noodles</td>\n",
              "      <td>complimentary</td>\n",
              "      <td>0.00</td>\n",
              "    </tr>\n",
              "    <tr>\n",
              "      <th>...</th>\n",
              "      <td>...</td>\n",
              "      <td>...</td>\n",
              "      <td>...</td>\n",
              "      <td>...</td>\n",
              "      <td>...</td>\n",
              "      <td>...</td>\n",
              "      <td>...</td>\n",
              "      <td>...</td>\n",
              "    </tr>\n",
              "    <tr>\n",
              "      <th>2517</th>\n",
              "      <td>{'aspect': 'location', 'opinion': 'good'}</td>\n",
              "      <td>its location is good</td>\n",
              "      <td>0.229951</td>\n",
              "      <td>location</td>\n",
              "      <td>0.700000</td>\n",
              "      <td>location</td>\n",
              "      <td>good</td>\n",
              "      <td>0.75</td>\n",
              "    </tr>\n",
              "    <tr>\n",
              "      <th>2518</th>\n",
              "      <td>{'aspect': 'prices', 'opinion': 'very reasonab...</td>\n",
              "      <td>their prices are very reasonable</td>\n",
              "      <td>0.178384</td>\n",
              "      <td>cost</td>\n",
              "      <td>0.260000</td>\n",
              "      <td>prices</td>\n",
              "      <td>very reasonable</td>\n",
              "      <td>0.50</td>\n",
              "    </tr>\n",
              "    <tr>\n",
              "      <th>2519</th>\n",
              "      <td>{'aspect': 'suan', 'opinion': 'slow'}</td>\n",
              "      <td>compared to suan it is slow in service</td>\n",
              "      <td>0.327018</td>\n",
              "      <td>others</td>\n",
              "      <td>-0.300000</td>\n",
              "      <td>suan</td>\n",
              "      <td>slow</td>\n",
              "      <td>0.00</td>\n",
              "    </tr>\n",
              "    <tr>\n",
              "      <th>2520</th>\n",
              "      <td>{'aspect': 'terrace', 'opinion': 'great!!!'}</td>\n",
              "      <td>eat outside on a terrace (another great featur...</td>\n",
              "      <td>0.401436</td>\n",
              "      <td>others</td>\n",
              "      <td>1.000000</td>\n",
              "      <td>terrace</td>\n",
              "      <td>great!!!</td>\n",
              "      <td>0.00</td>\n",
              "    </tr>\n",
              "    <tr>\n",
              "      <th>2521</th>\n",
              "      <td>{'aspect': 'feature', 'opinion': 'great!!!'}</td>\n",
              "      <td>eat outside on a terrace (another great featur...</td>\n",
              "      <td>0.423077</td>\n",
              "      <td>service</td>\n",
              "      <td>1.000000</td>\n",
              "      <td>feature</td>\n",
              "      <td>great!!!</td>\n",
              "      <td>0.00</td>\n",
              "    </tr>\n",
              "  </tbody>\n",
              "</table>\n",
              "<p>2522 rows × 8 columns</p>\n",
              "</div>"
            ],
            "text/plain": [
              "                                    aspect_opinion_pair  ... senti_score\n",
              "0            {'aspect': 'posts', 'opinion': 'previous'}  ...        0.00\n",
              "1                {'aspect': 'posts', 'opinion': 'good'}  ...        0.75\n",
              "2                {'aspect': 'place', 'opinion': 'good'}  ...        0.75\n",
              "3               {'aspect': 'place', 'opinion': 'empty'}  ...        0.00\n",
              "4     {'aspect': 'noodles', 'opinion': 'complimentary'}  ...        0.00\n",
              "...                                                 ...  ...         ...\n",
              "2517          {'aspect': 'location', 'opinion': 'good'}  ...        0.75\n",
              "2518  {'aspect': 'prices', 'opinion': 'very reasonab...  ...        0.50\n",
              "2519              {'aspect': 'suan', 'opinion': 'slow'}  ...        0.00\n",
              "2520       {'aspect': 'terrace', 'opinion': 'great!!!'}  ...        0.00\n",
              "2521       {'aspect': 'feature', 'opinion': 'great!!!'}  ...        0.00\n",
              "\n",
              "[2522 rows x 8 columns]"
            ]
          },
          "metadata": {},
          "execution_count": 57
        }
      ]
    },
    {
      "cell_type": "code",
      "metadata": {
        "id": "YwFwDkW22mdG",
        "colab": {
          "base_uri": "https://localhost:8080/",
          "height": 158
        },
        "outputId": "56bc40d8-99fa-4f10-95bd-124070809a86"
      },
      "source": [
        "txt =  \"great!!!\"\n",
        "\n",
        "nlp=spacy.load(\"en_core_web_sm\")  #Load the small English model\n",
        "doc = nlp(txt)  # Process a text\n",
        "spacy.displacy.render(doc,style='dep',jupyter=True)"
      ],
      "execution_count": null,
      "outputs": [
        {
          "output_type": "display_data",
          "data": {
            "text/html": [
              "<span class=\"tex2jax_ignore\"><svg xmlns=\"http://www.w3.org/2000/svg\" xmlns:xlink=\"http://www.w3.org/1999/xlink\" xml:lang=\"en\" id=\"cb5fd18a4fa8434bbb01c3335900d22e-0\" class=\"displacy\" width=\"225\" height=\"137.0\" direction=\"ltr\" style=\"max-width: none; height: 137.0px; color: #000000; background: #ffffff; font-family: Arial; direction: ltr\">\n",
              "<text class=\"displacy-token\" fill=\"currentColor\" text-anchor=\"middle\" y=\"47.0\">\n",
              "    <tspan class=\"displacy-word\" fill=\"currentColor\" x=\"50\">great!!!</tspan>\n",
              "    <tspan class=\"displacy-tag\" dy=\"2em\" fill=\"currentColor\" x=\"50\">ADJ</tspan>\n",
              "</text>\n",
              "</svg></span>"
            ],
            "text/plain": [
              "<IPython.core.display.HTML object>"
            ]
          },
          "metadata": {}
        }
      ]
    },
    {
      "cell_type": "markdown",
      "metadata": {
        "id": "k70pjgP9mV6O"
      },
      "source": [
        "## Save as a csv file"
      ]
    },
    {
      "cell_type": "code",
      "metadata": {
        "id": "zOTJoAS7wsFo"
      },
      "source": [
        "data.to_csv('sentiwordnet_data_weight_sem_eval.csv')"
      ],
      "execution_count": null,
      "outputs": []
    },
    {
      "cell_type": "markdown",
      "metadata": {
        "id": "Ls54OSWgmbXg"
      },
      "source": [
        "## Random Check from the dataframe"
      ]
    },
    {
      "cell_type": "code",
      "metadata": {
        "id": "fW1WClaJtT_r",
        "colab": {
          "base_uri": "https://localhost:8080/"
        },
        "outputId": "3eaa22c6-83dd-4377-bf1b-8e86cb60f166"
      },
      "source": [
        "print(data.iloc[2521])"
      ],
      "execution_count": null,
      "outputs": [
        {
          "output_type": "stream",
          "name": "stdout",
          "text": [
            "aspect_opinion_pair          {'aspect': 'feature', 'opinion': 'great!!!'}\n",
            "raw_clean_text          eat outside on a terrace (another great featur...\n",
            "weight                                                           0.423077\n",
            "category                                                          service\n",
            "opinions_polarity_TB                                                    1\n",
            "aspect                                                            feature\n",
            "opinion                                                          great!!!\n",
            "senti_score                                                             0\n",
            "Name: 2521, dtype: object\n"
          ]
        }
      ]
    },
    {
      "cell_type": "code",
      "metadata": {
        "id": "wY84TEN670H5",
        "colab": {
          "base_uri": "https://localhost:8080/"
        },
        "outputId": "a672a6c0-49ae-4bfc-953e-1d5cc02748e8"
      },
      "source": [
        "print(data.iloc[2521])#2038,2638"
      ],
      "execution_count": null,
      "outputs": [
        {
          "output_type": "stream",
          "name": "stdout",
          "text": [
            "aspect_opinion_pair          {'aspect': 'feature', 'opinion': 'great!!!'}\n",
            "raw_clean_text          eat outside on a terrace (another great featur...\n",
            "weight                                                           0.423077\n",
            "category                                                          service\n",
            "opinions_polarity_TB                                                    1\n",
            "aspect                                                            feature\n",
            "opinion                                                          great!!!\n",
            "senti_score                                                             0\n",
            "Name: 2521, dtype: object\n"
          ]
        }
      ]
    },
    {
      "cell_type": "code",
      "metadata": {
        "id": "DFxXMirI8Ab-",
        "colab": {
          "base_uri": "https://localhost:8080/"
        },
        "outputId": "7d0c0156-9ccd-4f2a-dd37-db0b146abb42"
      },
      "source": [
        "print(data.iloc[8])    #2038"
      ],
      "execution_count": null,
      "outputs": [
        {
          "output_type": "stream",
          "name": "stdout",
          "text": [
            "aspect_opinion_pair          {'aspect': 'tip', 'opinion': 'small'}\n",
            "raw_clean_text           they complained to me about the small tip\n",
            "weight                                                    0.459469\n",
            "category                                                    others\n",
            "opinions_polarity_TB                                         -0.25\n",
            "aspect                                                         tip\n",
            "opinion                                                      small\n",
            "senti_score                                                 -0.375\n",
            "Name: 8, dtype: object\n"
          ]
        }
      ]
    },
    {
      "cell_type": "markdown",
      "metadata": {
        "id": "ZXlulH_wfhmz"
      },
      "source": [
        "## CRF"
      ]
    },
    {
      "cell_type": "code",
      "metadata": {
        "id": "4qAykuW6RdkZ"
      },
      "source": [
        "data2=data.copy()"
      ],
      "execution_count": null,
      "outputs": []
    },
    {
      "cell_type": "markdown",
      "metadata": {
        "id": "HqlFTH5gmk-P"
      },
      "source": [
        "## Aspect List"
      ]
    },
    {
      "cell_type": "code",
      "metadata": {
        "id": "WbkjdnMtgPg7",
        "colab": {
          "base_uri": "https://localhost:8080/"
        },
        "outputId": "2ffbdb17-bfb0-403e-b712-edbb3c7dbddd"
      },
      "source": [
        "aspect_list= data2['aspect']\n",
        "aspect_list.tolist()\n",
        "aspect_list=set(aspect_list)\n",
        "len(aspect_list)  #total len of aspect (746) "
      ],
      "execution_count": null,
      "outputs": [
        {
          "output_type": "execute_result",
          "data": {
            "text/plain": [
              "746"
            ]
          },
          "metadata": {},
          "execution_count": 64
        }
      ]
    },
    {
      "cell_type": "markdown",
      "metadata": {
        "id": "LR12KgS2mtra"
      },
      "source": [
        "## Opinion List"
      ]
    },
    {
      "cell_type": "code",
      "metadata": {
        "id": "PvQudNBPq2mE",
        "colab": {
          "base_uri": "https://localhost:8080/"
        },
        "outputId": "7d64415f-2b56-4585-8947-42577b5feddd"
      },
      "source": [
        "opinion_list= data2['opinion']\n",
        "opinion_list.tolist()\n",
        "opinion_list=set(opinion_list)\n",
        "len(opinion_list) #total len of opinion (746) "
      ],
      "execution_count": null,
      "outputs": [
        {
          "output_type": "execute_result",
          "data": {
            "text/plain": [
              "712"
            ]
          },
          "metadata": {},
          "execution_count": 65
        }
      ]
    },
    {
      "cell_type": "markdown",
      "metadata": {
        "id": "-4esWBkNnHDH"
      },
      "source": [
        "## Lable words with aspect, opinion and irrelevant"
      ]
    },
    {
      "cell_type": "code",
      "metadata": {
        "id": "InlMpr_FfgKB"
      },
      "source": [
        "docs=[]\n",
        "for i,txt in enumerate(df['clean_review']):\n",
        "  texts=[]\n",
        "  for word in txt.split():\n",
        "    word= re.sub('[.,!]','',word)\n",
        "    if word in opinion_list:  \n",
        "      label='O'  #label opinion\n",
        "    elif word in aspect_list:\n",
        "      label= 'A' #label aspect\n",
        "    \n",
        "    else:\n",
        "      label= 'I' # label irrelevant\n",
        "    if len(word)>0:\n",
        "      texts.append((word,label))\n",
        "  docs.append(texts)\n",
        "\n",
        "\n"
      ],
      "execution_count": null,
      "outputs": []
    },
    {
      "cell_type": "markdown",
      "metadata": {
        "id": "JPnQdq-dm1af"
      },
      "source": [
        "Random Check the text with label (aspect, opinion, irrelevant)"
      ]
    },
    {
      "cell_type": "code",
      "metadata": {
        "id": "mw8vh-S0P39P",
        "colab": {
          "base_uri": "https://localhost:8080/"
        },
        "outputId": "882ce3d4-298c-432a-c52c-b2310e2bb2ac"
      },
      "source": [
        "print(docs[15])"
      ],
      "execution_count": null,
      "outputs": [
        {
          "output_type": "stream",
          "name": "stdout",
          "text": [
            "[('every', 'I'), ('time', 'A'), ('in', 'I'), ('new', 'O'), ('york', 'I'), ('i', 'I'), ('make', 'I'), ('it', 'I'), ('a', 'I'), ('point', 'A'), ('to', 'I'), ('visit', 'A'), ('restaurant', 'A'), ('saul', 'A'), ('on', 'I'), ('smith', 'I'), ('street', 'A')]\n"
          ]
        }
      ]
    },
    {
      "cell_type": "code",
      "metadata": {
        "id": "sE8KkCbJhyAW",
        "colab": {
          "base_uri": "https://localhost:8080/"
        },
        "outputId": "d310415a-eaa5-4256-b1f9-e88d022b9942"
      },
      "source": [
        "import nltk\n",
        "nltk.download('averaged_perceptron_tagger')"
      ],
      "execution_count": null,
      "outputs": [
        {
          "output_type": "stream",
          "name": "stderr",
          "text": [
            "[nltk_data] Downloading package averaged_perceptron_tagger to\n",
            "[nltk_data]     /root/nltk_data...\n",
            "[nltk_data]   Package averaged_perceptron_tagger is already up-to-\n",
            "[nltk_data]       date!\n"
          ]
        },
        {
          "output_type": "execute_result",
          "data": {
            "text/plain": [
              "True"
            ]
          },
          "metadata": {},
          "execution_count": 68
        }
      ]
    },
    {
      "cell_type": "markdown",
      "metadata": {
        "id": "OkHoXfwhnbwI"
      },
      "source": [
        "# Perform pos tagging "
      ]
    },
    {
      "cell_type": "code",
      "metadata": {
        "id": "2DuUIfBSfgVY"
      },
      "source": [
        "import nltk\n",
        "data22 = []\n",
        "for i, doc in enumerate(docs):\n",
        "\n",
        "    # Obtain the list of tokens in the document\n",
        "    tokens = [t for t, label in doc]\n",
        "\n",
        "    # Perform POS tagging\n",
        "    tagged = nltk.pos_tag(tokens)\n",
        "\n",
        "    # Take the word, POS tag, and its label\n",
        "    data22.append([(w, pos, label) for (w, label), (word, pos) in zip(doc, tagged)])"
      ],
      "execution_count": null,
      "outputs": []
    },
    {
      "cell_type": "markdown",
      "metadata": {
        "id": "q6tg_65qnrFD"
      },
      "source": [
        "## Random Check word, pos tag and label"
      ]
    },
    {
      "cell_type": "code",
      "metadata": {
        "id": "My5yO_B_fgZi",
        "colab": {
          "base_uri": "https://localhost:8080/"
        },
        "outputId": "af5c6917-440b-447a-9eb5-06200fdbed7f"
      },
      "source": [
        "data22[0]"
      ],
      "execution_count": null,
      "outputs": [
        {
          "output_type": "execute_result",
          "data": {
            "text/plain": [
              "[('judging', 'VBG', 'I'),\n",
              " ('from', 'IN', 'I'),\n",
              " ('previous', 'JJ', 'O'),\n",
              " ('posts', 'NNS', 'A'),\n",
              " ('this', 'DT', 'I'),\n",
              " ('used', 'VBN', 'I'),\n",
              " ('to', 'TO', 'I'),\n",
              " ('be', 'VB', 'I'),\n",
              " ('a', 'DT', 'I'),\n",
              " ('good', 'JJ', 'O'),\n",
              " ('place', 'NN', 'A'),\n",
              " ('but', 'CC', 'I'),\n",
              " ('not', 'RB', 'I'),\n",
              " ('any', 'DT', 'I'),\n",
              " ('longer', 'JJR', 'I')]"
            ]
          },
          "metadata": {},
          "execution_count": 70
        }
      ]
    },
    {
      "cell_type": "markdown",
      "metadata": {
        "id": "VqIFy-yqoPn-"
      },
      "source": [
        "## Features of the word(beginning of a document or end of a document and other features)"
      ]
    },
    {
      "cell_type": "code",
      "metadata": {
        "id": "lqitxmvLfget"
      },
      "source": [
        "def word2features(doc, i):\n",
        "    word = doc[i][0]\n",
        "    postag = doc[i][1]\n",
        "\n",
        "    # Common features for all words\n",
        "    features = [\n",
        "        'bias',\n",
        "        'word.lower=' + word.lower(),\n",
        "        'word[-3:]=' + word[-3:],\n",
        "        'word[-2:]=' + word[-2:],\n",
        "        'word.isupper=%s' % word.isupper(),\n",
        "        'word.istitle=%s' % word.istitle(),\n",
        "        'word.isdigit=%s' % word.isdigit(),\n",
        "        'postag=' + postag\n",
        "    ]\n",
        "\n",
        "    # Features for words that are not at the beginning of a document\n",
        "    if i > 0:\n",
        "        word1 = doc[i-1][0]\n",
        "        postag1 = doc[i-1][1]\n",
        "        features.extend([\n",
        "            '-1:word.lower=' + word1.lower(),\n",
        "            '-1:word.istitle=%s' % word1.istitle(),\n",
        "            '-1:word.isupper=%s' % word1.isupper(),\n",
        "            '-1:word.isdigit=%s' % word1.isdigit(),\n",
        "            '-1:postag=' + postag1\n",
        "        ])\n",
        "    else:\n",
        "        # Indicate that it is the 'beginning of a document'\n",
        "        features.append('BOS')\n",
        "\n",
        "    # Features for words that are not at the end of a document\n",
        "    if i < len(doc)-1:\n",
        "        word1 = doc[i+1][0]\n",
        "        postag1 = doc[i+1][1]\n",
        "        features.extend([\n",
        "            '+1:word.lower=' + word1.lower(),\n",
        "            '+1:word.istitle=%s' % word1.istitle(),\n",
        "            '+1:word.isupper=%s' % word1.isupper(),\n",
        "            '+1:word.isdigit=%s' % word1.isdigit(),\n",
        "            '+1:postag=' + postag1\n",
        "        ])\n",
        "    else:\n",
        "        # Indicate that it is the 'end of a document'\n",
        "        features.append('EOS')\n",
        "\n",
        "    return features"
      ],
      "execution_count": null,
      "outputs": []
    },
    {
      "cell_type": "markdown",
      "metadata": {
        "id": "CfvyCNHKork_"
      },
      "source": [
        "## Spliting dataset 80/20"
      ]
    },
    {
      "cell_type": "code",
      "metadata": {
        "id": "gFAzA0G0fgjL"
      },
      "source": [
        "from sklearn.model_selection import train_test_split\n",
        "\n",
        "# A function for extracting features in documents\n",
        "def extract_features(doc):\n",
        "    return [word2features(doc, i) for i in range(len(doc))]\n",
        "\n",
        "# A function fo generating the list of labels for each document\n",
        "def get_labels(doc):\n",
        "    return [label for (token, postag, label) in doc]\n",
        "\n",
        "X = [extract_features(doc) for doc in data22]\n",
        "y = [get_labels(doc) for doc in data22]\n",
        "\n",
        "X_train, X_test, y_train, y_test = train_test_split(X, y, test_size=0.2, random_state=22)"
      ],
      "execution_count": null,
      "outputs": []
    },
    {
      "cell_type": "code",
      "metadata": {
        "id": "ZBMwZwrci3WP",
        "colab": {
          "base_uri": "https://localhost:8080/"
        },
        "outputId": "9660f893-bd66-42ea-dcc4-c20aed847784"
      },
      "source": [
        "!pip install python-crfsuite"
      ],
      "execution_count": null,
      "outputs": [
        {
          "output_type": "stream",
          "name": "stdout",
          "text": [
            "Collecting python-crfsuite\n",
            "  Downloading python_crfsuite-0.9.7-cp37-cp37m-manylinux1_x86_64.whl (743 kB)\n",
            "\u001b[?25l\r\u001b[K     |▍                               | 10 kB 21.2 MB/s eta 0:00:01\r\u001b[K     |▉                               | 20 kB 28.2 MB/s eta 0:00:01\r\u001b[K     |█▎                              | 30 kB 25.5 MB/s eta 0:00:01\r\u001b[K     |█▊                              | 40 kB 18.8 MB/s eta 0:00:01\r\u001b[K     |██▏                             | 51 kB 7.8 MB/s eta 0:00:01\r\u001b[K     |██▋                             | 61 kB 8.5 MB/s eta 0:00:01\r\u001b[K     |███                             | 71 kB 7.1 MB/s eta 0:00:01\r\u001b[K     |███▌                            | 81 kB 7.8 MB/s eta 0:00:01\r\u001b[K     |████                            | 92 kB 8.4 MB/s eta 0:00:01\r\u001b[K     |████▍                           | 102 kB 7.4 MB/s eta 0:00:01\r\u001b[K     |████▉                           | 112 kB 7.4 MB/s eta 0:00:01\r\u001b[K     |█████▎                          | 122 kB 7.4 MB/s eta 0:00:01\r\u001b[K     |█████▊                          | 133 kB 7.4 MB/s eta 0:00:01\r\u001b[K     |██████▏                         | 143 kB 7.4 MB/s eta 0:00:01\r\u001b[K     |██████▋                         | 153 kB 7.4 MB/s eta 0:00:01\r\u001b[K     |███████                         | 163 kB 7.4 MB/s eta 0:00:01\r\u001b[K     |███████▌                        | 174 kB 7.4 MB/s eta 0:00:01\r\u001b[K     |████████                        | 184 kB 7.4 MB/s eta 0:00:01\r\u001b[K     |████████▍                       | 194 kB 7.4 MB/s eta 0:00:01\r\u001b[K     |████████▉                       | 204 kB 7.4 MB/s eta 0:00:01\r\u001b[K     |█████████▎                      | 215 kB 7.4 MB/s eta 0:00:01\r\u001b[K     |█████████▊                      | 225 kB 7.4 MB/s eta 0:00:01\r\u001b[K     |██████████▏                     | 235 kB 7.4 MB/s eta 0:00:01\r\u001b[K     |██████████▋                     | 245 kB 7.4 MB/s eta 0:00:01\r\u001b[K     |███████████                     | 256 kB 7.4 MB/s eta 0:00:01\r\u001b[K     |███████████▌                    | 266 kB 7.4 MB/s eta 0:00:01\r\u001b[K     |████████████                    | 276 kB 7.4 MB/s eta 0:00:01\r\u001b[K     |████████████▍                   | 286 kB 7.4 MB/s eta 0:00:01\r\u001b[K     |████████████▉                   | 296 kB 7.4 MB/s eta 0:00:01\r\u001b[K     |█████████████▏                  | 307 kB 7.4 MB/s eta 0:00:01\r\u001b[K     |█████████████▋                  | 317 kB 7.4 MB/s eta 0:00:01\r\u001b[K     |██████████████                  | 327 kB 7.4 MB/s eta 0:00:01\r\u001b[K     |██████████████▌                 | 337 kB 7.4 MB/s eta 0:00:01\r\u001b[K     |███████████████                 | 348 kB 7.4 MB/s eta 0:00:01\r\u001b[K     |███████████████▍                | 358 kB 7.4 MB/s eta 0:00:01\r\u001b[K     |███████████████▉                | 368 kB 7.4 MB/s eta 0:00:01\r\u001b[K     |████████████████▎               | 378 kB 7.4 MB/s eta 0:00:01\r\u001b[K     |████████████████▊               | 389 kB 7.4 MB/s eta 0:00:01\r\u001b[K     |█████████████████▏              | 399 kB 7.4 MB/s eta 0:00:01\r\u001b[K     |█████████████████▋              | 409 kB 7.4 MB/s eta 0:00:01\r\u001b[K     |██████████████████              | 419 kB 7.4 MB/s eta 0:00:01\r\u001b[K     |██████████████████▌             | 430 kB 7.4 MB/s eta 0:00:01\r\u001b[K     |███████████████████             | 440 kB 7.4 MB/s eta 0:00:01\r\u001b[K     |███████████████████▍            | 450 kB 7.4 MB/s eta 0:00:01\r\u001b[K     |███████████████████▉            | 460 kB 7.4 MB/s eta 0:00:01\r\u001b[K     |████████████████████▎           | 471 kB 7.4 MB/s eta 0:00:01\r\u001b[K     |████████████████████▊           | 481 kB 7.4 MB/s eta 0:00:01\r\u001b[K     |█████████████████████▏          | 491 kB 7.4 MB/s eta 0:00:01\r\u001b[K     |█████████████████████▋          | 501 kB 7.4 MB/s eta 0:00:01\r\u001b[K     |██████████████████████          | 512 kB 7.4 MB/s eta 0:00:01\r\u001b[K     |██████████████████████▌         | 522 kB 7.4 MB/s eta 0:00:01\r\u001b[K     |███████████████████████         | 532 kB 7.4 MB/s eta 0:00:01\r\u001b[K     |███████████████████████▍        | 542 kB 7.4 MB/s eta 0:00:01\r\u001b[K     |███████████████████████▉        | 552 kB 7.4 MB/s eta 0:00:01\r\u001b[K     |████████████████████████▎       | 563 kB 7.4 MB/s eta 0:00:01\r\u001b[K     |████████████████████████▊       | 573 kB 7.4 MB/s eta 0:00:01\r\u001b[K     |█████████████████████████▏      | 583 kB 7.4 MB/s eta 0:00:01\r\u001b[K     |█████████████████████████▋      | 593 kB 7.4 MB/s eta 0:00:01\r\u001b[K     |██████████████████████████      | 604 kB 7.4 MB/s eta 0:00:01\r\u001b[K     |██████████████████████████▍     | 614 kB 7.4 MB/s eta 0:00:01\r\u001b[K     |██████████████████████████▉     | 624 kB 7.4 MB/s eta 0:00:01\r\u001b[K     |███████████████████████████▎    | 634 kB 7.4 MB/s eta 0:00:01\r\u001b[K     |███████████████████████████▊    | 645 kB 7.4 MB/s eta 0:00:01\r\u001b[K     |████████████████████████████▏   | 655 kB 7.4 MB/s eta 0:00:01\r\u001b[K     |████████████████████████████▋   | 665 kB 7.4 MB/s eta 0:00:01\r\u001b[K     |█████████████████████████████   | 675 kB 7.4 MB/s eta 0:00:01\r\u001b[K     |█████████████████████████████▌  | 686 kB 7.4 MB/s eta 0:00:01\r\u001b[K     |██████████████████████████████  | 696 kB 7.4 MB/s eta 0:00:01\r\u001b[K     |██████████████████████████████▍ | 706 kB 7.4 MB/s eta 0:00:01\r\u001b[K     |██████████████████████████████▉ | 716 kB 7.4 MB/s eta 0:00:01\r\u001b[K     |███████████████████████████████▎| 727 kB 7.4 MB/s eta 0:00:01\r\u001b[K     |███████████████████████████████▊| 737 kB 7.4 MB/s eta 0:00:01\r\u001b[K     |████████████████████████████████| 743 kB 7.4 MB/s \n",
            "\u001b[?25hInstalling collected packages: python-crfsuite\n",
            "Successfully installed python-crfsuite-0.9.7\n"
          ]
        }
      ]
    },
    {
      "cell_type": "markdown",
      "metadata": {
        "id": "18w4gRDbpUID"
      },
      "source": [
        "## Set parameters for tranning"
      ]
    },
    {
      "cell_type": "code",
      "metadata": {
        "id": "gAqAO4rZfgnP"
      },
      "source": [
        "import pycrfsuite\n",
        "trainer = pycrfsuite.Trainer(verbose=False)\n",
        "\n",
        "# Submit training data to the trainer\n",
        "for xseq, yseq in zip(X_train, y_train):\n",
        "    trainer.append(xseq, yseq)\n",
        "\n",
        "# Set the parameters of the model\n",
        "trainer.set_params({\n",
        "    # coefficient for L1 penalty\n",
        "    'c1': 0.1,\n",
        "\n",
        "    # coefficient for L2 penalty\n",
        "    'c2': 0.01,  \n",
        "\n",
        "    # maximum number of iterations\n",
        "    'max_iterations': 200,\n",
        "\n",
        "    # whether to include transitions that\n",
        "    # are possible, but not observed\n",
        "    'feature.possible_transitions': True\n",
        "})\n",
        "\n",
        "# Provide a file name as a parameter to the train function, such that\n",
        "# the model will be saved to the file when training is finished\n",
        "trainer.train('crf.model')"
      ],
      "execution_count": null,
      "outputs": []
    },
    {
      "cell_type": "code",
      "metadata": {
        "id": "BV852gPnfgsn",
        "colab": {
          "base_uri": "https://localhost:8080/"
        },
        "outputId": "b4115e80-ba6c-411b-ffdc-eb749a5f94fc"
      },
      "source": [
        "tagger = pycrfsuite.Tagger()\n",
        "tagger.open('crf.model')\n",
        "y_pred = [tagger.tag(xseq) for xseq in X_test]\n",
        "\n",
        "# Let's take a look at a random sample in the testing set\n",
        "i = 25\n",
        "for x, y in zip(y_pred[i], [x[1].split(\"=\")[1] for x in X_test[i]]):\n",
        "    print(\"%s (%s)\" % (y, x))"
      ],
      "execution_count": null,
      "outputs": [
        {
          "output_type": "stream",
          "name": "stdout",
          "text": [
            "food (A)\n",
            "is (I)\n",
            "great (O)\n",
            "and (I)\n",
            "inexpensive (O)\n"
          ]
        }
      ]
    },
    {
      "cell_type": "markdown",
      "metadata": {
        "id": "mf_X9gl3ghYB"
      },
      "source": [
        "## Classification Report"
      ]
    },
    {
      "cell_type": "code",
      "metadata": {
        "id": "cq1U8sy4fgw7",
        "colab": {
          "base_uri": "https://localhost:8080/"
        },
        "outputId": "f67fb13e-f026-403f-a9c8-d2aba0319d4f"
      },
      "source": [
        "import numpy as np\n",
        "from sklearn.metrics import classification_report\n",
        "\n",
        "# Create a mapping of labels to indices\n",
        "labels = {\"A\": 1, \"O\": 2,\"I\": 0}\n",
        "\n",
        "# Convert the sequences of tags into a 1-dimensional array\n",
        "predictions = np.array([labels[tag] for row in y_pred for tag in row])\n",
        "truths = np.array([labels[tag] for row in y_test for tag in row])\n",
        "\n",
        "# Print out the classification report\n",
        "print(classification_report(\n",
        "    truths, predictions,\n",
        "    target_names=[\"I\", \"A\", \"O\"]))         #746,770"
      ],
      "execution_count": null,
      "outputs": [
        {
          "output_type": "stream",
          "name": "stdout",
          "text": [
            "              precision    recall  f1-score   support\n",
            "\n",
            "           I       0.98      0.99      0.98      3561\n",
            "           A       0.97      0.94      0.95       748\n",
            "           O       0.96      0.96      0.96       608\n",
            "\n",
            "    accuracy                           0.98      4917\n",
            "   macro avg       0.97      0.96      0.97      4917\n",
            "weighted avg       0.98      0.98      0.98      4917\n",
            "\n"
          ]
        }
      ]
    },
    {
      "cell_type": "markdown",
      "metadata": {
        "id": "D6tHc3FmRlth"
      },
      "source": [
        "## Random Check Predicted and Correct label "
      ]
    },
    {
      "cell_type": "code",
      "metadata": {
        "id": "WawdPgkyfg4w",
        "colab": {
          "base_uri": "https://localhost:8080/"
        },
        "outputId": "df8d664a-d96d-4321-d664-97cf5716a379"
      },
      "source": [
        "i=14 \n",
        "txt=''\n",
        "for x, y in zip(y_pred[i], [x[1].split(\"=\")[1] for x in X_test[i]]):\n",
        "    txt = txt+' '+str(y)+'('+str(x)+')'\n",
        "print(txt)\n",
        "predicted_tags = tagger.tag(X_test[i])\n",
        "print(\"Predicted: \",predicted_tags)\n",
        "print(\"Correct  : \",y_test[i])"
      ],
      "execution_count": null,
      "outputs": [
        {
          "output_type": "stream",
          "name": "stdout",
          "text": [
            " i'd(I) highly(I) recommend(I) it(I) for(I) a(I) special(O) occasion(A) --(I) it(I) provides(I) and(I) intimate(O) setting(A) and(I) nice(O) service(A)\n",
            "Predicted:  ['I', 'I', 'I', 'I', 'I', 'I', 'O', 'A', 'I', 'I', 'I', 'I', 'O', 'A', 'I', 'O', 'A']\n",
            "Correct  :  ['I', 'I', 'I', 'I', 'I', 'I', 'O', 'A', 'I', 'I', 'I', 'I', 'O', 'A', 'I', 'O', 'A']\n"
          ]
        }
      ]
    },
    {
      "cell_type": "code",
      "metadata": {
        "id": "zbQgHSEsYglC",
        "colab": {
          "base_uri": "https://localhost:8080/"
        },
        "outputId": "d78a8f60-d46d-452c-dd6d-8e57107cad63"
      },
      "source": [
        "i=25\n",
        "txt=''\n",
        "for x, y in zip(y_pred[i], [x[1].split(\"=\")[1] for x in X_test[i]]):\n",
        "    txt = txt+' '+str(y)+'('+str(x)+')'\n",
        "print(txt)\n",
        "predicted_tags = tagger.tag(X_test[i])\n",
        "print(\"Predicted: \",predicted_tags)\n",
        "print(\"Correct  : \",y_test[i])\n"
      ],
      "execution_count": null,
      "outputs": [
        {
          "output_type": "stream",
          "name": "stdout",
          "text": [
            " food(A) is(I) great(O) and(I) inexpensive(O)\n",
            "Predicted:  ['A', 'I', 'O', 'I', 'O']\n",
            "Correct  :  ['A', 'I', 'O', 'I', 'O']\n"
          ]
        }
      ]
    }
  ]
}